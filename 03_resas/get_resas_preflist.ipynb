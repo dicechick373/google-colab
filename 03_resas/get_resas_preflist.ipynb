{
  "cells": [
    {
      "cell_type": "markdown",
      "metadata": {
        "id": "pNbDdgim3Qqq"
      },
      "source": [
        "# _get_resas_perflist"
      ]
    },
    {
      "cell_type": "code",
      "execution_count": 3,
      "metadata": {
        "id": "5qg2hhnl3j5m"
      },
      "outputs": [],
      "source": [
        "RESAS_API_KEY = '\t02JYzLqUOfTNVfiTWjLlR2g0YwEQPQ7caYxcnZaZ'\n",
        "\n",
        "import urllib.parse\n",
        "import urllib.request\n",
        "import json\n",
        "\n",
        "\"\"\"\n",
        "resas-APIから都道府県一覧を取得する関数\n",
        "\"\"\"\n",
        "def get_resas_preflist():\n",
        "    url = 'https://opendata.resas-portal.go.jp/api/v1/prefectures'\n",
        "    req = urllib.request.Request(url, headers={'X-API-KEY': RESAS_API_KEY})\n",
        "    with urllib.request.urlopen(req) as response:\n",
        "        res = json.loads(response.read().decode())\n",
        "    return res['result']"
      ]
    },
    {
      "cell_type": "code",
      "execution_count": 4,
      "metadata": {
        "colab": {
          "base_uri": "https://localhost:8080/"
        },
        "id": "MNEgq27u5Zt3",
        "outputId": "5ade8e0d-a72d-4a01-849a-ffb5621be662"
      },
      "outputs": [
        {
          "name": "stdout",
          "output_type": "stream",
          "text": [
            "[{'prefCode': 1, 'prefName': '北海道'}, {'prefCode': 2, 'prefName': '青森県'}, {'prefCode': 3, 'prefName': '岩手県'}, {'prefCode': 4, 'prefName': '宮城県'}, {'prefCode': 5, 'prefName': '秋田県'}, {'prefCode': 6, 'prefName': '山形県'}, {'prefCode': 7, 'prefName': '福島県'}, {'prefCode': 8, 'prefName': '茨城県'}, {'prefCode': 9, 'prefName': '栃木県'}, {'prefCode': 10, 'prefName': '群馬県'}, {'prefCode': 11, 'prefName': '埼玉県'}, {'prefCode': 12, 'prefName': '千葉県'}, {'prefCode': 13, 'prefName': '東京都'}, {'prefCode': 14, 'prefName': '神奈川県'}, {'prefCode': 15, 'prefName': '新潟県'}, {'prefCode': 16, 'prefName': '富山県'}, {'prefCode': 17, 'prefName': '石川県'}, {'prefCode': 18, 'prefName': '福井県'}, {'prefCode': 19, 'prefName': '山梨県'}, {'prefCode': 20, 'prefName': '長野県'}, {'prefCode': 21, 'prefName': '岐阜県'}, {'prefCode': 22, 'prefName': '静岡県'}, {'prefCode': 23, 'prefName': '愛知県'}, {'prefCode': 24, 'prefName': '三重県'}, {'prefCode': 25, 'prefName': '滋賀県'}, {'prefCode': 26, 'prefName': '京都府'}, {'prefCode': 27, 'prefName': '大阪府'}, {'prefCode': 28, 'prefName': '兵庫県'}, {'prefCode': 29, 'prefName': '奈良県'}, {'prefCode': 30, 'prefName': '和歌山県'}, {'prefCode': 31, 'prefName': '鳥取県'}, {'prefCode': 32, 'prefName': '島根県'}, {'prefCode': 33, 'prefName': '岡山県'}, {'prefCode': 34, 'prefName': '広島県'}, {'prefCode': 35, 'prefName': '山口県'}, {'prefCode': 36, 'prefName': '徳島県'}, {'prefCode': 37, 'prefName': '香川県'}, {'prefCode': 38, 'prefName': '愛媛県'}, {'prefCode': 39, 'prefName': '高知県'}, {'prefCode': 40, 'prefName': '福岡県'}, {'prefCode': 41, 'prefName': '佐賀県'}, {'prefCode': 42, 'prefName': '長崎県'}, {'prefCode': 43, 'prefName': '熊本県'}, {'prefCode': 44, 'prefName': '大分県'}, {'prefCode': 45, 'prefName': '宮崎県'}, {'prefCode': 46, 'prefName': '鹿児島県'}, {'prefCode': 47, 'prefName': '沖縄県'}]\n"
          ]
        }
      ],
      "source": [
        "print(get_resas_preflist())"
      ]
    },
    {
      "cell_type": "markdown",
      "metadata": {
        "id": "GAO-ENXByDha"
      },
      "source": [
        "# _get_resas_areacodes\n",
        "\n",
        "estat-APIのリクエストパラメータ'cdArea'に都道府県コードをセットする\n",
        "\n",
        "返却値はリスト"
      ]
    },
    {
      "cell_type": "code",
      "execution_count": 1,
      "metadata": {
        "id": "DHo0mT9oyGdL"
      },
      "outputs": [],
      "source": [
        "\"\"\"\n",
        "estat-APIのパラメータ'cdArea'に都道府県コードをセットする関数\n",
        "\"\"\"\n",
        "\n",
        "def get_cdAreas_prefecture():\n",
        "\n",
        "  pref_codes = [d.get('prefCode') for d in get_resas_preflist()]\n",
        "  pref_codes = [str(c).zfill(5) for c in pref_codes]\n",
        "\n",
        "  res = [{'cdArea':\",\".join(pref_codes)}]\n",
        "  \n",
        "  return res"
      ]
    },
    {
      "cell_type": "code",
      "execution_count": 5,
      "metadata": {
        "colab": {
          "base_uri": "https://localhost:8080/"
        },
        "id": "Ub3SvLqyyJpY",
        "outputId": "c2cf3751-4418-47d9-e81b-2524341b909f"
      },
      "outputs": [
        {
          "name": "stdout",
          "output_type": "stream",
          "text": [
            "[{'cdArea': '00001,00002,00003,00004,00005,00006,00007,00008,00009,00010,00011,00012,00013,00014,00015,00016,00017,00018,00019,00020,00021,00022,00023,00024,00025,00026,00027,00028,00029,00030,00031,00032,00033,00034,00035,00036,00037,00038,00039,00040,00041,00042,00043,00044,00045,00046,00047'}]\n"
          ]
        }
      ],
      "source": [
        "cdArea = get_cdAreas_prefecture()\n",
        "print(cdArea)"
      ]
    }
  ],
  "metadata": {
    "colab": {
      "collapsed_sections": [],
      "provenance": [],
      "toc_visible": true
    },
    "kernelspec": {
      "display_name": "Python 3.9.9 64-bit ('3.9.9')",
      "language": "python",
      "name": "python3"
    },
    "language_info": {
      "name": "python",
      "version": "3.9.9-final"
    },
    "vscode": {
      "interpreter": {
        "hash": "ec5f104dae4890e6f9c0d53cfe0f8e9ef9f435c2f34d6591f4e75947878466a7"
      }
    }
  },
  "nbformat": 4,
  "nbformat_minor": 0
}
