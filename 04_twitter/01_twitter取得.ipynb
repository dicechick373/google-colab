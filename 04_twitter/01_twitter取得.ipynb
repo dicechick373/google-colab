{
  "nbformat": 4,
  "nbformat_minor": 0,
  "metadata": {
    "colab": {
      "provenance": [],
      "toc_visible": true,
      "authorship_tag": "ABX9TyN5WPOFZZa+I7xDv9Mm6XAA"
    },
    "kernelspec": {
      "name": "python3",
      "display_name": "Python 3"
    },
    "language_info": {
      "name": "python"
    }
  },
  "cells": [
    {
      "cell_type": "markdown",
      "source": [
        "# 事前準備"
      ],
      "metadata": {
        "id": "CLcWs0uCHDvJ"
      }
    },
    {
      "cell_type": "markdown",
      "source": [
        "## ライブラリ"
      ],
      "metadata": {
        "id": "-lh4sEMTrl7A"
      }
    },
    {
      "cell_type": "code",
      "source": [
        "!pip install tweepy==4.3.0"
      ],
      "metadata": {
        "id": "CNOCKf8xlVdD"
      },
      "execution_count": null,
      "outputs": []
    },
    {
      "cell_type": "code",
      "source": [
        "import tweepy\n",
        "import pprint"
      ],
      "metadata": {
        "id": "bVpAy_t-rp63"
      },
      "execution_count": null,
      "outputs": []
    },
    {
      "cell_type": "markdown",
      "source": [
        "## Twitter APIの設定"
      ],
      "metadata": {
        "id": "Ug8UwKFRIpsX"
      }
    },
    {
      "cell_type": "code",
      "source": [
        "# API情報を記入\n",
        "BEARER_TOKEN = 'AAAAAAAAAAAAAAAAAAAAAKUGiQEAAAAAyFtOK4uFOYrFrDbefzHlzzNCFlc%3DNgcvmkFuSRDfSHET9kmHH6y2Rkm7fEYZ5GabHEQppGePIM1EeX'\n",
        "API_KEY = 'GC1CpcRT6AnCq9f03Y6rGZ3Hm'\n",
        "API_SECRET = 'ZpznO3yhDW198P5px5fNiuOsGqNHy0RAex2rvYjauFmsCWRf1F'\n",
        "ACCESS_TOKEN = '1485511207448551431-2KrMEMBIEZHBL3s19uLnrApkPomXTI'\n",
        "ACCESS_TOKEN_SECRET = 'OVwo1gBM1Oq9Dy7YmuzOxOCQxf9hlQHTqLERltlrwJM0d'\n",
        "\n",
        "# APIインスタンスの作成\n",
        "client = tweepy.Client(BEARER_TOKEN)\n",
        "api = tweepy.Client(None, API_KEY, API_SECRET, ACCESS_TOKEN, ACCESS_TOKEN_SECRET)"
      ],
      "metadata": {
        "id": "nUstQxHGG2vU"
      },
      "execution_count": 22,
      "outputs": []
    },
    {
      "cell_type": "markdown",
      "source": [
        "# 基本操作"
      ],
      "metadata": {
        "id": "gvLyoe5Tq7ga"
      }
    },
    {
      "cell_type": "markdown",
      "source": [
        "## ツイート検索"
      ],
      "metadata": {
        "id": "Sx0J6Gmuq-of"
      }
    },
    {
      "cell_type": "code",
      "source": [
        "# ツイート取得\n",
        "\n",
        "for tweet in tweepy.Paginator(client.search_recent_tweets, query='メッシ lang:ja -is:retweet',\n",
        "    tweet_fields=['id','created_at','entities','public_metrics','attachments','text','author_id','lang',],\n",
        "    user_fields=['description','protected','name','username','public_metrics','profile_image_url'],\n",
        "    expansions='author_id',max_results=10).flatten(limit=5):\n",
        "    pprint.pprint(tweet.data)\n",
        "\n",
        "tweet_id = tweet.data['id']\n",
        "print(f'サンプルツイートID:{tweet_id}')"
      ],
      "metadata": {
        "id": "RUmk1T_ooe3Y",
        "outputId": "cc9d1563-f65d-4d8a-80b8-76aa388178c8",
        "colab": {
          "base_uri": "https://localhost:8080/"
        }
      },
      "execution_count": 20,
      "outputs": [
        {
          "output_type": "stream",
          "name": "stdout",
          "text": [
            "{'attachments': {'media_keys': ['3_1613071426898268161',\n",
            "                                '3_1613071426885672960']},\n",
            " 'author_id': '1195311521489813504',\n",
            " 'created_at': '2023-01-11T07:12:54.000Z',\n",
            " 'edit_history_tweet_ids': ['1613071437409185802'],\n",
            " 'entities': {'urls': [{'display_url': 'pic.twitter.com/hXBgkmr29u',\n",
            "                        'end': 104,\n",
            "                        'expanded_url': 'https://twitter.com/tmatoboykun/status/1613071437409185802/photo/1',\n",
            "                        'media_key': '3_1613071426898268161',\n",
            "                        'start': 81,\n",
            "                        'url': 'https://t.co/hXBgkmr29u'},\n",
            "                       {'display_url': 'pic.twitter.com/hXBgkmr29u',\n",
            "                        'end': 104,\n",
            "                        'expanded_url': 'https://twitter.com/tmatoboykun/status/1613071437409185802/photo/1',\n",
            "                        'media_key': '3_1613071426885672960',\n",
            "                        'start': 81,\n",
            "                        'url': 'https://t.co/hXBgkmr29u'},\n",
            "                       {'display_url': 'twitter.com/tmatoboykun/st…',\n",
            "                        'end': 128,\n",
            "                        'expanded_url': 'https://twitter.com/tmatoboykun/status/1610593400327376896',\n",
            "                        'start': 105,\n",
            "                        'url': 'https://t.co/Ch0ejyg8tf'}]},\n",
            " 'id': '1613071437409185802',\n",
            " 'lang': 'ja',\n",
            " 'public_metrics': {'impression_count': 94,\n",
            "                    'like_count': 6,\n",
            "                    'quote_count': 0,\n",
            "                    'reply_count': 0,\n",
            "                    'retweet_count': 0},\n",
            " 'text': 'メッシとネイマールのドローが復活🔥\\n'\n",
            "         '\\n'\n",
            "         '・メッシドローは2月27日まで\\n'\n",
            "         '\\n'\n",
            "         '・ネイマールドローは2月19日まで\\n'\n",
            "         '\\n'\n",
            "         '謎に消えたり復活したりで過去1振り回されてますね😅 https://t.co/hXBgkmr29u '\n",
            "         'https://t.co/Ch0ejyg8tf'}\n",
            "{'author_id': '2366602646',\n",
            " 'created_at': '2023-01-11T07:11:43.000Z',\n",
            " 'edit_history_tweet_ids': ['1613071139777003520'],\n",
            " 'entities': {'annotations': [{'end': 2,\n",
            "                               'normalized_text': 'メッシ',\n",
            "                               'probability': 0.7869,\n",
            "                               'start': 0,\n",
            "                               'type': 'Person'}],\n",
            "              'urls': [{'display_url': 'vine.co/v/h0Ll6W0dZhE',\n",
            "                        'end': 36,\n",
            "                        'expanded_url': 'http://vine.co/v/h0Ll6W0dZhE',\n",
            "                        'start': 13,\n",
            "                        'status': 500,\n",
            "                        'unwound_url': 'https://vine.co/v/h0Ll6W0dZhE/card',\n",
            "                        'url': 'https://t.co/affLKuwBBz'}]},\n",
            " 'id': '1613071139777003520',\n",
            " 'lang': 'ja',\n",
            " 'public_metrics': {'impression_count': 0,\n",
            "                    'like_count': 0,\n",
            "                    'quote_count': 0,\n",
            "                    'reply_count': 0,\n",
            "                    'retweet_count': 0},\n",
            " 'text': 'メッシのフリーキック！\\n\\nhttps://t.co/affLKuwBBz'}\n",
            "{'author_id': '1529718366902325250',\n",
            " 'created_at': '2023-01-11T07:08:31.000Z',\n",
            " 'edit_history_tweet_ids': ['1613070333816496128'],\n",
            " 'entities': {'annotations': [{'end': 12,\n",
            "                               'normalized_text': 'ロナウドさん',\n",
            "                               'probability': 0.6829,\n",
            "                               'start': 7,\n",
            "                               'type': 'Person'},\n",
            "                              {'end': 22,\n",
            "                               'normalized_text': 'メッシ',\n",
            "                               'probability': 0.7597,\n",
            "                               'start': 20,\n",
            "                               'type': 'Person'}],\n",
            "              'urls': [{'description': '【海外の反応】ロナウドさん、まさかの形でメッシと2トップを組む「金の亡者たち」 '\n",
            "                                       '- マニア・オブ・フットボール\\u3000〜名将からの提言〜',\n",
            "                        'display_url': 'kaigai-iroiro.doorblog.jp/archives/18536…',\n",
            "                        'end': 63,\n",
            "                        'expanded_url': 'http://kaigai-iroiro.doorblog.jp/archives/18536346.html',\n",
            "                        'images': [{'height': 600,\n",
            "                                    'url': 'https://pbs.twimg.com/news_img/1613070337134186496/lt9CJ86J?format=jpg&name=orig',\n",
            "                                    'width': 900},\n",
            "                                   {'height': 150,\n",
            "                                    'url': 'https://pbs.twimg.com/news_img/1613070337134186496/lt9CJ86J?format=jpg&name=150x150',\n",
            "                                    'width': 150}],\n",
            "                        'start': 40,\n",
            "                        'status': 200,\n",
            "                        'title': '【海外の反応】ロナウドさん、まさかの形でメッシと2トップを組む「金の亡者たち」 : '\n",
            "                                 '海外いろいろアンテナ',\n",
            "                        'unwound_url': 'http://kaigai-iroiro.doorblog.jp/archives/18536346.html',\n",
            "                        'url': 'https://t.co/OYCdrhk9Nn'}]},\n",
            " 'id': '1613070333816496128',\n",
            " 'lang': 'ja',\n",
            " 'public_metrics': {'impression_count': 7,\n",
            "                    'like_count': 0,\n",
            "                    'quote_count': 0,\n",
            "                    'reply_count': 0,\n",
            "                    'retweet_count': 0},\n",
            " 'text': '【海外の反応】ロナウドさん、まさかの形でメッシと2トップを組む「金の亡者たち」\\nhttps://t.co/OYCdrhk9Nn'}\n",
            "{'attachments': {'media_keys': ['3_1613070229130838020']},\n",
            " 'author_id': '1310244179042119681',\n",
            " 'created_at': '2023-01-11T07:08:10.000Z',\n",
            " 'edit_history_tweet_ids': ['1613070246440767488'],\n",
            " 'entities': {'urls': [{'display_url': 'pic.twitter.com/WW57c4piYw',\n",
            "                        'end': 33,\n",
            "                        'expanded_url': 'https://twitter.com/sutorongu_ossan/status/1613070246440767488/photo/1',\n",
            "                        'media_key': '3_1613070229130838020',\n",
            "                        'start': 10,\n",
            "                        'url': 'https://t.co/WW57c4piYw'}]},\n",
            " 'id': '1613070246440767488',\n",
            " 'lang': 'ja',\n",
            " 'public_metrics': {'impression_count': 13,\n",
            "                    'like_count': 1,\n",
            "                    'quote_count': 0,\n",
            "                    'reply_count': 1,\n",
            "                    'retweet_count': 0},\n",
            " 'text': 'メッシいただきます https://t.co/WW57c4piYw'}\n",
            "{'author_id': '1430251686178607106',\n",
            " 'created_at': '2023-01-11T07:07:56.000Z',\n",
            " 'edit_history_tweet_ids': ['1613070184537022464'],\n",
            " 'entities': {'annotations': [{'end': 2,\n",
            "                               'normalized_text': 'メッシ',\n",
            "                               'probability': 0.8853,\n",
            "                               'start': 0,\n",
            "                               'type': 'Person'}],\n",
            "              'urls': [{'display_url': 'twitter.com/allstarsclubjp…',\n",
            "                        'end': 57,\n",
            "                        'expanded_url': 'https://twitter.com/allstarsclubjp/status/1612736129215635456',\n",
            "                        'start': 34,\n",
            "                        'url': 'https://t.co/nW1Uy70mcF'}]},\n",
            " 'id': '1613070184537022464',\n",
            " 'lang': 'ja',\n",
            " 'public_metrics': {'impression_count': 37,\n",
            "                    'like_count': 1,\n",
            "                    'quote_count': 0,\n",
            "                    'reply_count': 0,\n",
            "                    'retweet_count': 0},\n",
            " 'text': 'メッシが自分から見て右に流れるなら右をきってサイドに追い込んで奪う https://t.co/nW1Uy70mcF'}\n",
            "サンプルツイートID:1613070184537022464\n"
          ]
        }
      ]
    },
    {
      "cell_type": "markdown",
      "source": [
        "# ユーザー情報を取得"
      ],
      "metadata": {
        "id": "_TFZ8xLZkpMs"
      }
    },
    {
      "cell_type": "code",
      "source": [
        "import pandas as pd\n",
        "\n",
        "def  get_user_info(username):\n",
        "\n",
        "  # ユーザーIDを取得\n",
        "  user = ClientInfo().get_user(username=username)\n",
        "  user_id = user.data.id\n",
        "\n",
        "  # ユーザー情報の取得\n",
        "  user_fields = [\"id\",  \"name\",  \"username\",  \"created_at\",\"protected\",\"withheld\",  \"location\",  \"url\",  \"description\",  \"verified\",  \"entities\",\"profile_image_url\",  \"public_metrics\",  \"pinned_tweet_id\"]\n",
        "\n",
        "  # APIからレスポンス取得\n",
        "  response = ClientInfo().get_users(ids=user_id, user_fields=user_fields)\n",
        "\n",
        "  # DataFrameに格納\n",
        "  df = pd.DataFrame(index=[], columns=[])\n",
        "  for user in response.data:\n",
        "    df['username'] = [user.username]\n",
        "    df['フォロワー数'] = [user.public_metrics['followers_count']]\n",
        "    df['フォロー数'] = [user.public_metrics['following_count']]\n",
        "    df['投稿数'] = [user.public_metrics['tweet_count']]\n",
        "    df['URL'] = [user.url]\n",
        "    df['開設年月日'] = [f'{user.created_at.year}年 {user.created_at.month}月 {user.created_at.day}日']\n",
        "    \n",
        "    df = df.astype({'フォロワー数':  int  ,'フォロー数':  int  ,  '投稿数':  int})\n",
        "\n",
        "  return df"
      ],
      "metadata": {
        "id": "vBh3buDwkhch"
      },
      "execution_count": 12,
      "outputs": []
    },
    {
      "cell_type": "code",
      "source": [
        "df = get_user_info('izumi_akashi')\n",
        "df"
      ],
      "metadata": {
        "id": "9p-Js5yMk-Ac",
        "outputId": "94ac02e2-d2a3-4fc9-8b98-b311791ad976",
        "colab": {
          "base_uri": "https://localhost:8080/",
          "height": 81
        }
      },
      "execution_count": 13,
      "outputs": [
        {
          "output_type": "execute_result",
          "data": {
            "text/plain": [
              "       username  フォロワー数  フォロー数   投稿数                      URL          開設年月日\n",
              "0  izumi_akashi  397019      0  4728  https://t.co/k7E5BlaFy1  2021年 12月 15日"
            ],
            "text/html": [
              "\n",
              "  <div id=\"df-6a262c38-e9ba-4147-8e1c-6f80b2b6406a\">\n",
              "    <div class=\"colab-df-container\">\n",
              "      <div>\n",
              "<style scoped>\n",
              "    .dataframe tbody tr th:only-of-type {\n",
              "        vertical-align: middle;\n",
              "    }\n",
              "\n",
              "    .dataframe tbody tr th {\n",
              "        vertical-align: top;\n",
              "    }\n",
              "\n",
              "    .dataframe thead th {\n",
              "        text-align: right;\n",
              "    }\n",
              "</style>\n",
              "<table border=\"1\" class=\"dataframe\">\n",
              "  <thead>\n",
              "    <tr style=\"text-align: right;\">\n",
              "      <th></th>\n",
              "      <th>username</th>\n",
              "      <th>フォロワー数</th>\n",
              "      <th>フォロー数</th>\n",
              "      <th>投稿数</th>\n",
              "      <th>URL</th>\n",
              "      <th>開設年月日</th>\n",
              "    </tr>\n",
              "  </thead>\n",
              "  <tbody>\n",
              "    <tr>\n",
              "      <th>0</th>\n",
              "      <td>izumi_akashi</td>\n",
              "      <td>397019</td>\n",
              "      <td>0</td>\n",
              "      <td>4728</td>\n",
              "      <td>https://t.co/k7E5BlaFy1</td>\n",
              "      <td>2021年 12月 15日</td>\n",
              "    </tr>\n",
              "  </tbody>\n",
              "</table>\n",
              "</div>\n",
              "      <button class=\"colab-df-convert\" onclick=\"convertToInteractive('df-6a262c38-e9ba-4147-8e1c-6f80b2b6406a')\"\n",
              "              title=\"Convert this dataframe to an interactive table.\"\n",
              "              style=\"display:none;\">\n",
              "        \n",
              "  <svg xmlns=\"http://www.w3.org/2000/svg\" height=\"24px\"viewBox=\"0 0 24 24\"\n",
              "       width=\"24px\">\n",
              "    <path d=\"M0 0h24v24H0V0z\" fill=\"none\"/>\n",
              "    <path d=\"M18.56 5.44l.94 2.06.94-2.06 2.06-.94-2.06-.94-.94-2.06-.94 2.06-2.06.94zm-11 1L8.5 8.5l.94-2.06 2.06-.94-2.06-.94L8.5 2.5l-.94 2.06-2.06.94zm10 10l.94 2.06.94-2.06 2.06-.94-2.06-.94-.94-2.06-.94 2.06-2.06.94z\"/><path d=\"M17.41 7.96l-1.37-1.37c-.4-.4-.92-.59-1.43-.59-.52 0-1.04.2-1.43.59L10.3 9.45l-7.72 7.72c-.78.78-.78 2.05 0 2.83L4 21.41c.39.39.9.59 1.41.59.51 0 1.02-.2 1.41-.59l7.78-7.78 2.81-2.81c.8-.78.8-2.07 0-2.86zM5.41 20L4 18.59l7.72-7.72 1.47 1.35L5.41 20z\"/>\n",
              "  </svg>\n",
              "      </button>\n",
              "      \n",
              "  <style>\n",
              "    .colab-df-container {\n",
              "      display:flex;\n",
              "      flex-wrap:wrap;\n",
              "      gap: 12px;\n",
              "    }\n",
              "\n",
              "    .colab-df-convert {\n",
              "      background-color: #E8F0FE;\n",
              "      border: none;\n",
              "      border-radius: 50%;\n",
              "      cursor: pointer;\n",
              "      display: none;\n",
              "      fill: #1967D2;\n",
              "      height: 32px;\n",
              "      padding: 0 0 0 0;\n",
              "      width: 32px;\n",
              "    }\n",
              "\n",
              "    .colab-df-convert:hover {\n",
              "      background-color: #E2EBFA;\n",
              "      box-shadow: 0px 1px 2px rgba(60, 64, 67, 0.3), 0px 1px 3px 1px rgba(60, 64, 67, 0.15);\n",
              "      fill: #174EA6;\n",
              "    }\n",
              "\n",
              "    [theme=dark] .colab-df-convert {\n",
              "      background-color: #3B4455;\n",
              "      fill: #D2E3FC;\n",
              "    }\n",
              "\n",
              "    [theme=dark] .colab-df-convert:hover {\n",
              "      background-color: #434B5C;\n",
              "      box-shadow: 0px 1px 3px 1px rgba(0, 0, 0, 0.15);\n",
              "      filter: drop-shadow(0px 1px 2px rgba(0, 0, 0, 0.3));\n",
              "      fill: #FFFFFF;\n",
              "    }\n",
              "  </style>\n",
              "\n",
              "      <script>\n",
              "        const buttonEl =\n",
              "          document.querySelector('#df-6a262c38-e9ba-4147-8e1c-6f80b2b6406a button.colab-df-convert');\n",
              "        buttonEl.style.display =\n",
              "          google.colab.kernel.accessAllowed ? 'block' : 'none';\n",
              "\n",
              "        async function convertToInteractive(key) {\n",
              "          const element = document.querySelector('#df-6a262c38-e9ba-4147-8e1c-6f80b2b6406a');\n",
              "          const dataTable =\n",
              "            await google.colab.kernel.invokeFunction('convertToInteractive',\n",
              "                                                     [key], {});\n",
              "          if (!dataTable) return;\n",
              "\n",
              "          const docLinkHtml = 'Like what you see? Visit the ' +\n",
              "            '<a target=\"_blank\" href=https://colab.research.google.com/notebooks/data_table.ipynb>data table notebook</a>'\n",
              "            + ' to learn more about interactive tables.';\n",
              "          element.innerHTML = '';\n",
              "          dataTable['output_type'] = 'display_data';\n",
              "          await google.colab.output.renderOutput(dataTable, element);\n",
              "          const docLink = document.createElement('div');\n",
              "          docLink.innerHTML = docLinkHtml;\n",
              "          element.appendChild(docLink);\n",
              "        }\n",
              "      </script>\n",
              "    </div>\n",
              "  </div>\n",
              "  "
            ]
          },
          "metadata": {},
          "execution_count": 13
        }
      ]
    }
  ]
}