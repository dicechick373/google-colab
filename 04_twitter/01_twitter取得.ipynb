{
  "nbformat": 4,
  "nbformat_minor": 0,
  "metadata": {
    "colab": {
      "provenance": [],
      "toc_visible": true,
      "authorship_tag": "ABX9TyMg2IXxAVkgH7b1H2S8dZob"
    },
    "kernelspec": {
      "name": "python3",
      "display_name": "Python 3"
    },
    "language_info": {
      "name": "python"
    }
  },
  "cells": [
    {
      "cell_type": "markdown",
      "source": [
        "# 事前準備"
      ],
      "metadata": {
        "id": "CLcWs0uCHDvJ"
      }
    },
    {
      "cell_type": "markdown",
      "source": [
        "## ライブラリ"
      ],
      "metadata": {
        "id": "-lh4sEMTrl7A"
      }
    },
    {
      "cell_type": "code",
      "source": [
        "!pip install tweepy==4.3.0"
      ],
      "metadata": {
        "id": "CNOCKf8xlVdD"
      },
      "execution_count": null,
      "outputs": []
    },
    {
      "cell_type": "code",
      "source": [
        "import tweepy\n",
        "import pprint\n",
        "from __future__ import annotations"
      ],
      "metadata": {
        "id": "bVpAy_t-rp63"
      },
      "execution_count": 5,
      "outputs": []
    },
    {
      "cell_type": "markdown",
      "source": [
        "## Twitter APIの設定"
      ],
      "metadata": {
        "id": "Ug8UwKFRIpsX"
      }
    },
    {
      "cell_type": "code",
      "source": [
        "# API情報を記入\n",
        "BEARER_TOKEN = 'AAAAAAAAAAAAAAAAAAAAAKUGiQEAAAAAyFtOK4uFOYrFrDbefzHlzzNCFlc%3DNgcvmkFuSRDfSHET9kmHH6y2Rkm7fEYZ5GabHEQppGePIM1EeX'\n",
        "API_KEY = 'GC1CpcRT6AnCq9f03Y6rGZ3Hm'\n",
        "API_SECRET = 'ZpznO3yhDW198P5px5fNiuOsGqNHy0RAex2rvYjauFmsCWRf1F'\n",
        "ACCESS_TOKEN = '1485511207448551431-2KrMEMBIEZHBL3s19uLnrApkPomXTI'\n",
        "ACCESS_TOKEN_SECRET = 'OVwo1gBM1Oq9Dy7YmuzOxOCQxf9hlQHTqLERltlrwJM0d'\n",
        "\n",
        "# APIインスタンスの作成\n",
        "client = tweepy.Client(BEARER_TOKEN)\n",
        "api = tweepy.Client(None, API_KEY, API_SECRET, ACCESS_TOKEN, ACCESS_TOKEN_SECRET)"
      ],
      "metadata": {
        "id": "nUstQxHGG2vU"
      },
      "execution_count": 3,
      "outputs": []
    },
    {
      "cell_type": "markdown",
      "source": [
        "# 基本操作"
      ],
      "metadata": {
        "id": "gvLyoe5Tq7ga"
      }
    },
    {
      "cell_type": "markdown",
      "source": [
        "## ツイート検索"
      ],
      "metadata": {
        "id": "Sx0J6Gmuq-of"
      }
    },
    {
      "cell_type": "code",
      "source": [
        "# ツイート取得\n",
        "\n",
        "for tweet in tweepy.Paginator(client.search_recent_tweets, query='メッシ lang:ja -is:retweet',\n",
        "    tweet_fields=['id','created_at','entities','public_metrics','attachments','text','author_id','lang',],\n",
        "    user_fields=['description','protected','name','username','public_metrics','profile_image_url'],\n",
        "    expansions='author_id',max_results=10).flatten(limit=1):\n",
        "    pprint.pprint(tweet.data)\n"
      ],
      "metadata": {
        "colab": {
          "base_uri": "https://localhost:8080/"
        },
        "id": "RUmk1T_ooe3Y",
        "outputId": "60e3db32-d206-4e12-d99b-02dea23d41d5"
      },
      "execution_count": 4,
      "outputs": [
        {
          "output_type": "stream",
          "name": "stdout",
          "text": [
            "{'author_id': '1072852760263970816',\n",
            " 'created_at': '2023-01-11T12:16:27.000Z',\n",
            " 'edit_history_tweet_ids': ['1613147825793298432'],\n",
            " 'entities': {'annotations': [{'end': 19,\n",
            "                               'normalized_text': 'ディオール',\n",
            "                               'probability': 0.426,\n",
            "                               'start': 15,\n",
            "                               'type': 'Person'},\n",
            "                              {'end': 23,\n",
            "                               'normalized_text': 'PSG',\n",
            "                               'probability': 0.6735,\n",
            "                               'start': 21,\n",
            "                               'type': 'Organization'},\n",
            "                              {'end': 38,\n",
            "                               'normalized_text': 'メッシ',\n",
            "                               'probability': 0.6094,\n",
            "                               'start': 36,\n",
            "                               'type': 'Person'},\n",
            "                              {'end': 49,\n",
            "                               'normalized_text': 'スター選手',\n",
            "                               'probability': 0.4434,\n",
            "                               'start': 45,\n",
            "                               'type': 'Person'}],\n",
            "              'urls': [{'display_url': 'news-site.infobig.biz/?p=970255',\n",
            "                        'end': 93,\n",
            "                        'expanded_url': 'https://news-site.infobig.biz/?p=970255',\n",
            "                        'images': [{'height': 517,\n",
            "                                    'url': 'https://pbs.twimg.com/news_img/1613147836002234370/uteqcVpT?format=jpg&name=orig',\n",
            "                                    'width': 800},\n",
            "                                   {'height': 150,\n",
            "                                    'url': 'https://pbs.twimg.com/news_img/1613147836002234370/uteqcVpT?format=jpg&name=150x150',\n",
            "                                    'width': 150}],\n",
            "                        'start': 70,\n",
            "                        'status': 200,\n",
            "                        'title': '「アスリートのスーツ姿は最高」ディオールがPSGの新コレクションを展開！メッシやムバッペらスター選手が着こなす(超WORLDサッカー！)',\n",
            "                        'unwound_url': 'https://news-site.infobig.biz/?p=970255',\n",
            "                        'url': 'https://t.co/91BhIO5wil'}]},\n",
            " 'id': '1613147825793298432',\n",
            " 'lang': 'ja',\n",
            " 'public_metrics': {'impression_count': 0,\n",
            "                    'like_count': 0,\n",
            "                    'quote_count': 0,\n",
            "                    'reply_count': 0,\n",
            "                    'retweet_count': 0},\n",
            " 'text': '「アスリートのスーツ姿は最高」ディオールがPSGの新コレクションを展開！メッシやムバッペらスター選手が着こなす(超WORLDサッカー！)  '\n",
            "         'https://t.co/91BhIO5wil'}\n"
          ]
        }
      ]
    },
    {
      "cell_type": "markdown",
      "source": [
        "## 特定アカウントのツイート取得"
      ],
      "metadata": {
        "id": "8ctcgsIttW0-"
      }
    },
    {
      "cell_type": "markdown",
      "source": [
        "ユーザーIDを指定して、ツイート一覧を取得する\n",
        "\n",
        "スクリーンネーム（@....）からユーザーIDを検索するサイト\n",
        "\n",
        "https://idtwi.com/"
      ],
      "metadata": {
        "id": "jPeGRUR7uYv2"
      }
    },
    {
      "cell_type": "code",
      "source": [
        "def get_user_tweet(user_id):\n",
        "    tweet_data = []\n",
        "    for tweet in tweepy.Paginator(client.get_users_tweets, id=user_id, max_results=100, exclude=\"retweets\").flatten(limit=10):\n",
        "        tweet_data.append([tweet.id, tweet.text.replace(\"\\n\", \"<n>\")])\n",
        "        # writer.writerow([tweet.id, tweet.text.replace(\"\\n\", \"<n>\")])\n",
        "    # res = []\n",
        "    # for tweet in api.get_users_tweets(user_id, max_results=5,user_auth=True):\n",
        "    #     print(tweet)\n",
        "\n",
        "        # res.append(tweet)\n",
        "    print(\"\\n-------------------------------\\n\".join([\"Tweet ID: \"+str(x[0])+\"\\n\"+x[1] for x in tweet_data]))\n",
        "        \n",
        "    return \n",
        "\n"
      ],
      "metadata": {
        "id": "gNChMaAGtdEj"
      },
      "execution_count": 30,
      "outputs": []
    },
    {
      "cell_type": "code",
      "source": [
        "user_id = 1470977824744153093\n",
        "\n",
        "res = get_user_tweet(user_id)\n",
        "res"
      ],
      "metadata": {
        "id": "2X0FsywD4e0i",
        "outputId": "bf4822ce-adb3-416a-fd80-2c144a278184",
        "colab": {
          "base_uri": "https://localhost:8080/"
        }
      },
      "execution_count": 31,
      "outputs": [
        {
          "output_type": "stream",
          "name": "stdout",
          "text": [
            "Tweet ID: 1613153925531852800\n",
            "「トークライブ」へのオファーがあったのでお受けし、日程は確保しているが、この切り口でのPRとは聞いていない。面白おかしくPRすることで、いったい誰がハッピーになるというのだろうか。ちなみに私は「暴言王」でも「子どもの味方」でもない。普通に政治をしているだけだ。 https://t.co/IpENn0RtlO\n",
            "-------------------------------\n",
            "Tweet ID: 1613097772722556930\n",
            "『子どもへの冷たさが「異次元」の日本政治』との見出しで、明石市長の言葉を借りたと紹介されている。残念ながらそのとおりで、更に残念なのは、そのことが国民に知らされていないということ。子どもに冷たい日本ではなく、せめて普通の日本になってほしいと切に願っている。 https://t.co/3G3RQVpyQh\n",
            "-------------------------------\n",
            "Tweet ID: 1613085681018097668\n",
            "夕陽が綺麗、なう。<n>昨日と同じ窓から。<n>何か幸せ・・・ https://t.co/zCT5YUdYK0 https://t.co/aoGlQ4ycN5\n",
            "-------------------------------\n",
            "Tweet ID: 1613024690657964032\n",
            "昼食の時間だ。<n>今日は珍しく『あんかけラーメン』。どこかのラーメン屋ではなく、市役所食堂のもの。食堂の今日のメニューの中にあったので、選んでみた。<n>「きつねうどん」と比べると、同じ麺類だが、かなりコッテリ感があり、チョット重たい。でも美味しい・・・ https://t.co/ZR5TOUoa9V\n",
            "-------------------------------\n",
            "Tweet ID: 1613014757854048256\n",
            "「新しい公園」の愛称を募集したところ、『魚住』と『みんな』の２つがとても多かったので、両方採用して『魚住みんな公園』と呼ぶことにした。「緑のグラウンド」や「多目的グラウンド」に加え、ゆっくりできる「みんな広場」に、ジョギングや散歩に適した「水辺ゾーン」も整備する。乞うご期待！ https://t.co/GILt44rZ1v https://t.co/9gBg36ym2t\n",
            "-------------------------------\n",
            "Tweet ID: 1612966495142936578\n",
            "JR魚住駅の上りのホームからですね。街頭演説の写真、アップしていただき、ありがとうございます。魚住駅の北（国道2号線沿い）には、新しい公園『魚住みんな公園』がこの4月にオープンとなる。魚住駅の南にある西部市民会館（図書館やホール）も改修をしたところ。魚住も更に住みやすくしていきたい。 https://t.co/zoPwxBKKSC\n",
            "-------------------------------\n",
            "Tweet ID: 1612963816576516097\n",
            "今日は1月11日（水）。<n>今朝は「JR魚住駅」の駅頭にて『明石市民の会』としての活動をさせていただいた。ボランティアの方々も数多くお越しいただき（県外からボランティアにお越しいただいた方もおられる）、ビラ配りなどのお手伝いをしていただいた。皆さん、本当にありがとうございました。 https://t.co/dCnDLteVnO\n",
            "-------------------------------\n",
            "Tweet ID: 1612806019624861697\n",
            "「障害のあるこの子を残して死ねない」と言って親が無理心中を図り、それを美学のように扱うのは、日本ぐらいだ。そうではなく「この子を残して死んでも大丈夫」と言えるような社会をつくりたい、そう思って政治の世界で生きてきた。思いの一端を語った動画、ご覧ください。 https://t.co/FVIPU6Dnqy\n",
            "-------------------------------\n",
            "Tweet ID: 1612728195052371968\n",
            "市役所のトイレの窓からの夕焼け、なう。<n>明日も天気になあ〜れ。 https://t.co/FDkZlmkZn4\n",
            "-------------------------------\n",
            "Tweet ID: 1612675065946177537\n",
            "「差し入れの缶コーヒー」って嬉しいですよね。「手持ちのチラシ」がなくなったということは、そのチラシの数だけ受け取っていただいた方がおられたということ。ありがたいことです。中川なつみさん（41歳、早稲田大卒、公認会計士、2児の母）、心のある方です。皆さん、宜しくお願い致します。 https://t.co/wsTEnL4qBt\n"
          ]
        }
      ]
    },
    {
      "cell_type": "markdown",
      "source": [
        "# ユーザー情報を取得"
      ],
      "metadata": {
        "id": "_TFZ8xLZkpMs"
      }
    },
    {
      "cell_type": "code",
      "source": [
        "import pandas as pd\n",
        "\n",
        "def  get_user_info(username):\n",
        "\n",
        "  # ユーザーIDを取得\n",
        "  user = ClientInfo().get_user(username=username)\n",
        "  user_id = user.data.id\n",
        "\n",
        "  # ユーザー情報の取得\n",
        "  user_fields = [\"id\",  \"name\",  \"username\",  \"created_at\",\"protected\",\"withheld\",  \"location\",  \"url\",  \"description\",  \"verified\",  \"entities\",\"profile_image_url\",  \"public_metrics\",  \"pinned_tweet_id\"]\n",
        "\n",
        "  # APIからレスポンス取得\n",
        "  response = ClientInfo().get_users(ids=user_id, user_fields=user_fields)\n",
        "\n",
        "  # DataFrameに格納\n",
        "  df = pd.DataFrame(index=[], columns=[])\n",
        "  for user in response.data:\n",
        "    df['username'] = [user.username]\n",
        "    df['フォロワー数'] = [user.public_metrics['followers_count']]\n",
        "    df['フォロー数'] = [user.public_metrics['following_count']]\n",
        "    df['投稿数'] = [user.public_metrics['tweet_count']]\n",
        "    df['URL'] = [user.url]\n",
        "    df['開設年月日'] = [f'{user.created_at.year}年 {user.created_at.month}月 {user.created_at.day}日']\n",
        "    \n",
        "    df = df.astype({'フォロワー数':  int  ,'フォロー数':  int  ,  '投稿数':  int})\n",
        "\n",
        "  return df"
      ],
      "metadata": {
        "id": "vBh3buDwkhch"
      },
      "execution_count": null,
      "outputs": []
    },
    {
      "cell_type": "code",
      "source": [
        "df = get_user_info('izumi_akashi')\n",
        "df"
      ],
      "metadata": {
        "colab": {
          "base_uri": "https://localhost:8080/",
          "height": 81
        },
        "id": "9p-Js5yMk-Ac",
        "outputId": "94ac02e2-d2a3-4fc9-8b98-b311791ad976"
      },
      "execution_count": null,
      "outputs": [
        {
          "output_type": "execute_result",
          "data": {
            "text/plain": [
              "       username  フォロワー数  フォロー数   投稿数                      URL          開設年月日\n",
              "0  izumi_akashi  397019      0  4728  https://t.co/k7E5BlaFy1  2021年 12月 15日"
            ],
            "text/html": [
              "\n",
              "  <div id=\"df-6a262c38-e9ba-4147-8e1c-6f80b2b6406a\">\n",
              "    <div class=\"colab-df-container\">\n",
              "      <div>\n",
              "<style scoped>\n",
              "    .dataframe tbody tr th:only-of-type {\n",
              "        vertical-align: middle;\n",
              "    }\n",
              "\n",
              "    .dataframe tbody tr th {\n",
              "        vertical-align: top;\n",
              "    }\n",
              "\n",
              "    .dataframe thead th {\n",
              "        text-align: right;\n",
              "    }\n",
              "</style>\n",
              "<table border=\"1\" class=\"dataframe\">\n",
              "  <thead>\n",
              "    <tr style=\"text-align: right;\">\n",
              "      <th></th>\n",
              "      <th>username</th>\n",
              "      <th>フォロワー数</th>\n",
              "      <th>フォロー数</th>\n",
              "      <th>投稿数</th>\n",
              "      <th>URL</th>\n",
              "      <th>開設年月日</th>\n",
              "    </tr>\n",
              "  </thead>\n",
              "  <tbody>\n",
              "    <tr>\n",
              "      <th>0</th>\n",
              "      <td>izumi_akashi</td>\n",
              "      <td>397019</td>\n",
              "      <td>0</td>\n",
              "      <td>4728</td>\n",
              "      <td>https://t.co/k7E5BlaFy1</td>\n",
              "      <td>2021年 12月 15日</td>\n",
              "    </tr>\n",
              "  </tbody>\n",
              "</table>\n",
              "</div>\n",
              "      <button class=\"colab-df-convert\" onclick=\"convertToInteractive('df-6a262c38-e9ba-4147-8e1c-6f80b2b6406a')\"\n",
              "              title=\"Convert this dataframe to an interactive table.\"\n",
              "              style=\"display:none;\">\n",
              "        \n",
              "  <svg xmlns=\"http://www.w3.org/2000/svg\" height=\"24px\"viewBox=\"0 0 24 24\"\n",
              "       width=\"24px\">\n",
              "    <path d=\"M0 0h24v24H0V0z\" fill=\"none\"/>\n",
              "    <path d=\"M18.56 5.44l.94 2.06.94-2.06 2.06-.94-2.06-.94-.94-2.06-.94 2.06-2.06.94zm-11 1L8.5 8.5l.94-2.06 2.06-.94-2.06-.94L8.5 2.5l-.94 2.06-2.06.94zm10 10l.94 2.06.94-2.06 2.06-.94-2.06-.94-.94-2.06-.94 2.06-2.06.94z\"/><path d=\"M17.41 7.96l-1.37-1.37c-.4-.4-.92-.59-1.43-.59-.52 0-1.04.2-1.43.59L10.3 9.45l-7.72 7.72c-.78.78-.78 2.05 0 2.83L4 21.41c.39.39.9.59 1.41.59.51 0 1.02-.2 1.41-.59l7.78-7.78 2.81-2.81c.8-.78.8-2.07 0-2.86zM5.41 20L4 18.59l7.72-7.72 1.47 1.35L5.41 20z\"/>\n",
              "  </svg>\n",
              "      </button>\n",
              "      \n",
              "  <style>\n",
              "    .colab-df-container {\n",
              "      display:flex;\n",
              "      flex-wrap:wrap;\n",
              "      gap: 12px;\n",
              "    }\n",
              "\n",
              "    .colab-df-convert {\n",
              "      background-color: #E8F0FE;\n",
              "      border: none;\n",
              "      border-radius: 50%;\n",
              "      cursor: pointer;\n",
              "      display: none;\n",
              "      fill: #1967D2;\n",
              "      height: 32px;\n",
              "      padding: 0 0 0 0;\n",
              "      width: 32px;\n",
              "    }\n",
              "\n",
              "    .colab-df-convert:hover {\n",
              "      background-color: #E2EBFA;\n",
              "      box-shadow: 0px 1px 2px rgba(60, 64, 67, 0.3), 0px 1px 3px 1px rgba(60, 64, 67, 0.15);\n",
              "      fill: #174EA6;\n",
              "    }\n",
              "\n",
              "    [theme=dark] .colab-df-convert {\n",
              "      background-color: #3B4455;\n",
              "      fill: #D2E3FC;\n",
              "    }\n",
              "\n",
              "    [theme=dark] .colab-df-convert:hover {\n",
              "      background-color: #434B5C;\n",
              "      box-shadow: 0px 1px 3px 1px rgba(0, 0, 0, 0.15);\n",
              "      filter: drop-shadow(0px 1px 2px rgba(0, 0, 0, 0.3));\n",
              "      fill: #FFFFFF;\n",
              "    }\n",
              "  </style>\n",
              "\n",
              "      <script>\n",
              "        const buttonEl =\n",
              "          document.querySelector('#df-6a262c38-e9ba-4147-8e1c-6f80b2b6406a button.colab-df-convert');\n",
              "        buttonEl.style.display =\n",
              "          google.colab.kernel.accessAllowed ? 'block' : 'none';\n",
              "\n",
              "        async function convertToInteractive(key) {\n",
              "          const element = document.querySelector('#df-6a262c38-e9ba-4147-8e1c-6f80b2b6406a');\n",
              "          const dataTable =\n",
              "            await google.colab.kernel.invokeFunction('convertToInteractive',\n",
              "                                                     [key], {});\n",
              "          if (!dataTable) return;\n",
              "\n",
              "          const docLinkHtml = 'Like what you see? Visit the ' +\n",
              "            '<a target=\"_blank\" href=https://colab.research.google.com/notebooks/data_table.ipynb>data table notebook</a>'\n",
              "            + ' to learn more about interactive tables.';\n",
              "          element.innerHTML = '';\n",
              "          dataTable['output_type'] = 'display_data';\n",
              "          await google.colab.output.renderOutput(dataTable, element);\n",
              "          const docLink = document.createElement('div');\n",
              "          docLink.innerHTML = docLinkHtml;\n",
              "          element.appendChild(docLink);\n",
              "        }\n",
              "      </script>\n",
              "    </div>\n",
              "  </div>\n",
              "  "
            ]
          },
          "metadata": {},
          "execution_count": 13
        }
      ]
    }
  ]
}