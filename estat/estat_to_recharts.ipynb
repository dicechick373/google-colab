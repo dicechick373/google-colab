{
  "cells": [
    {
      "cell_type": "markdown",
      "metadata": {
        "id": "s-vMUUPB124n"
      },
      "source": [
        "# 事前準備"
      ]
    },
    {
      "cell_type": "markdown",
      "metadata": {
        "id": "uE_OCx7vVWhj"
      },
      "source": [
        "## Google Drive"
      ]
    },
    {
      "cell_type": "markdown",
      "metadata": {
        "id": "kHc6WsJkUqvx"
      },
      "source": [
        "Google Driveをマウント"
      ]
    },
    {
      "cell_type": "code",
      "execution_count": 1,
      "metadata": {
        "colab": {
          "base_uri": "https://localhost:8080/"
        },
        "id": "DeythyREUwXk",
        "outputId": "b7e790ae-92ed-4f3f-d9d6-a8a7305ad85b"
      },
      "outputs": [
        {
          "output_type": "stream",
          "name": "stdout",
          "text": [
            "Mounted at /content/drive\n"
          ]
        }
      ],
      "source": [
        "from google.colab import drive\n",
        "drive.mount('/content/drive')"
      ]
    },
    {
      "cell_type": "markdown",
      "source": [
        "# e-statのレスポンスを取得"
      ],
      "metadata": {
        "id": "gZZsFRnhPsOw"
      }
    },
    {
      "cell_type": "markdown",
      "source": [
        "## レスポンスを取得する関数"
      ],
      "metadata": {
        "id": "pqHwdgE7QaeA"
      }
    },
    {
      "cell_type": "code",
      "source": [
        "import urllib.parse\n",
        "import urllib.request\n",
        "import json\n",
        "\n",
        "def get_estat_response(params):\n",
        "  # appId\n",
        "  params['appId'] = '724e5b90772a3e9289f41a253e4e7e32438f4fff'\n",
        "  \n",
        "  # url生成\n",
        "  url = 'http://api.e-stat.go.jp/rest/2.1/app/json/getStatsData?'\n",
        "  url += urllib.parse.urlencode(params)\n",
        "\n",
        "  with urllib.request.urlopen(url) as response:\n",
        "    return json.loads(response.read().decode('utf-8'))"
      ],
      "metadata": {
        "id": "AGpAepFBPrkz"
      },
      "execution_count": 16,
      "outputs": []
    },
    {
      "cell_type": "code",
      "source": [
        "params = {\n",
        "    'statsDataId': '0000020201',\n",
        "    'cdCat01': 'A1101,A110101,A110102',\n",
        "    'cdArea': '28100,28201',\n",
        "    }\n",
        "\n",
        "res = get_estat_response(params)\n",
        "print(res)"
      ],
      "metadata": {
        "id": "Ak4FnoItPzbM",
        "outputId": "452d9781-e508-4dc0-a23c-e755dc10e023",
        "colab": {
          "base_uri": "https://localhost:8080/"
        }
      },
      "execution_count": 48,
      "outputs": [
        {
          "output_type": "stream",
          "name": "stdout",
          "text": [
            "{'GET_STATS_DATA': {'RESULT': {'STATUS': 0, 'ERROR_MSG': '正常に終了しました。', 'DATE': '2022-12-23T14:34:19.264+09:00'}, 'PARAMETER': {'LANG': 'J', 'STATS_DATA_ID': '0000020201', 'NARROWING_COND': {'CODE_CAT01_SELECT': 'A1101,A110101,A110102', 'CODE_AREA_SELECT': '28100,28201'}, 'DATA_FORMAT': 'J', 'START_POSITION': 1, 'METAGET_FLG': 'Y'}, 'STATISTICAL_DATA': {'RESULT_INF': {'TOTAL_NUMBER': 32, 'FROM_NUMBER': 1, 'TO_NUMBER': 32}, 'TABLE_INF': {'@id': '0000020201', 'STAT_NAME': {'@code': '00200502', '$': '社会・人口統計体系'}, 'GOV_ORG': {'@code': '00200', '$': '総務省'}, 'STATISTICS_NAME': '市区町村データ 基礎データ（廃置分合処理済）', 'TITLE': {'@no': '0000020201', '$': 'Ａ\\u3000人口・世帯'}, 'CYCLE': '年度次', 'SURVEY_DATE': 0, 'OPEN_DATE': '2022-06-21', 'SMALL_AREA': 0, 'MAIN_CATEGORY': {'@code': '99', '$': 'その他'}, 'SUB_CATEGORY': {'@code': '99', '$': 'その他'}, 'OVERALL_TOTAL_NUMBER': 1567404, 'UPDATED_DATE': '2022-06-21', 'STATISTICS_NAME_SPEC': {'TABULATION_CATEGORY': '市区町村データ', 'TABULATION_SUB_CATEGORY1': '基礎データ（廃置分合処理済）'}, 'TITLE_SPEC': {'TABLE_NAME': 'Ａ\\u3000人口・世帯'}}, 'CLASS_INF': {'CLASS_OBJ': [{'@id': 'tab', '@name': '観測値', 'CLASS': {'@code': '00001', '@name': '観測値', '@level': '1'}}, {'@id': 'cat01', '@name': 'Ａ\\u3000人口・世帯', 'CLASS': [{'@code': 'A1101', '@name': 'A1101_総人口', '@level': '1', '@unit': '人'}, {'@code': 'A110101', '@name': 'A110101_総人口（男）', '@level': '1', '@unit': '人'}, {'@code': 'A110102', '@name': 'A110102_総人口（女）', '@level': '1', '@unit': '人'}]}, {'@id': 'area', '@name': '地域', 'CLASS': [{'@code': '28100', '@name': '兵庫県 神戸市', '@level': '2', '@parentCode': '28000'}, {'@code': '28201', '@name': '兵庫県 姫路市', '@level': '2', '@parentCode': '28000'}]}, {'@id': 'time', '@name': '調査年', 'CLASS': [{'@code': '1980100000', '@name': '1980年度', '@level': '1'}, {'@code': '1981100000', '@name': '1981年度', '@level': '1'}, {'@code': '1982100000', '@name': '1982年度', '@level': '1'}, {'@code': '1983100000', '@name': '1983年度', '@level': '1'}, {'@code': '1984100000', '@name': '1984年度', '@level': '1'}, {'@code': '1985100000', '@name': '1985年度', '@level': '1'}, {'@code': '1986100000', '@name': '1986年度', '@level': '1'}, {'@code': '1987100000', '@name': '1987年度', '@level': '1'}, {'@code': '1988100000', '@name': '1988年度', '@level': '1'}, {'@code': '1989100000', '@name': '1989年度', '@level': '1'}, {'@code': '1990100000', '@name': '1990年度', '@level': '1'}, {'@code': '1991100000', '@name': '1991年度', '@level': '1'}, {'@code': '1992100000', '@name': '1992年度', '@level': '1'}, {'@code': '1993100000', '@name': '1993年度', '@level': '1'}, {'@code': '1994100000', '@name': '1994年度', '@level': '1'}, {'@code': '1995100000', '@name': '1995年度', '@level': '1'}, {'@code': '1996100000', '@name': '1996年度', '@level': '1'}, {'@code': '1997100000', '@name': '1997年度', '@level': '1'}, {'@code': '1998100000', '@name': '1998年度', '@level': '1'}, {'@code': '1999100000', '@name': '1999年度', '@level': '1'}, {'@code': '2000100000', '@name': '2000年度', '@level': '1'}, {'@code': '2001100000', '@name': '2001年度', '@level': '1'}, {'@code': '2002100000', '@name': '2002年度', '@level': '1'}, {'@code': '2003100000', '@name': '2003年度', '@level': '1'}, {'@code': '2004100000', '@name': '2004年度', '@level': '1'}, {'@code': '2005100000', '@name': '2005年度', '@level': '1'}, {'@code': '2006100000', '@name': '2006年度', '@level': '1'}, {'@code': '2007100000', '@name': '2007年度', '@level': '1'}, {'@code': '2008100000', '@name': '2008年度', '@level': '1'}, {'@code': '2009100000', '@name': '2009年度', '@level': '1'}, {'@code': '2010100000', '@name': '2010年度', '@level': '1'}, {'@code': '2011100000', '@name': '2011年度', '@level': '1'}, {'@code': '2012100000', '@name': '2012年度', '@level': '1'}, {'@code': '2013100000', '@name': '2013年度', '@level': '1'}, {'@code': '2014100000', '@name': '2014年度', '@level': '1'}, {'@code': '2015100000', '@name': '2015年度', '@level': '1'}, {'@code': '2016100000', '@name': '2016年度', '@level': '1'}, {'@code': '2017100000', '@name': '2017年度', '@level': '1'}, {'@code': '2018100000', '@name': '2018年度', '@level': '1'}, {'@code': '2019100000', '@name': '2019年度', '@level': '1'}, {'@code': '2020100000', '@name': '2020年度', '@level': '1'}]}]}, 'DATA_INF': {'NOTE': [{'@char': '***', '$': '調査又は集計していないもの'}, {'@char': '-', '$': 'データが得られないもの'}, {'@char': 'X', '$': '数値が秘匿されているもの'}], 'VALUE': [{'@tab': '00001', '@cat01': 'A1101', '@area': '28100', '@time': '1980100000', '@unit': '人', '$': '1367390'}, {'@tab': '00001', '@cat01': 'A1101', '@area': '28100', '@time': '1985100000', '@unit': '人', '$': '1410834'}, {'@tab': '00001', '@cat01': 'A1101', '@area': '28100', '@time': '1990100000', '@unit': '人', '$': '1477410'}, {'@tab': '00001', '@cat01': 'A1101', '@area': '28100', '@time': '1995100000', '@unit': '人', '$': '1423792'}, {'@tab': '00001', '@cat01': 'A1101', '@area': '28100', '@time': '2000100000', '@unit': '人', '$': '1493398'}, {'@tab': '00001', '@cat01': 'A1101', '@area': '28100', '@time': '2005100000', '@unit': '人', '$': '1525393'}, {'@tab': '00001', '@cat01': 'A1101', '@area': '28100', '@time': '2010100000', '@unit': '人', '$': '1544200'}, {'@tab': '00001', '@cat01': 'A1101', '@area': '28100', '@time': '2015100000', '@unit': '人', '$': '1537272'}, {'@tab': '00001', '@cat01': 'A1101', '@area': '28201', '@time': '1980100000', '@unit': '人', '$': '494825'}, {'@tab': '00001', '@cat01': 'A1101', '@area': '28201', '@time': '1985100000', '@unit': '人', '$': '506101'}, {'@tab': '00001', '@cat01': 'A1101', '@area': '28201', '@time': '1990100000', '@unit': '人', '$': '509129'}, {'@tab': '00001', '@cat01': 'A1101', '@area': '28201', '@time': '1995100000', '@unit': '人', '$': '527854'}, {'@tab': '00001', '@cat01': 'A1101', '@area': '28201', '@time': '2000100000', '@unit': '人', '$': '534969'}, {'@tab': '00001', '@cat01': 'A1101', '@area': '28201', '@time': '2005100000', '@unit': '人', '$': '536232'}, {'@tab': '00001', '@cat01': 'A1101', '@area': '28201', '@time': '2010100000', '@unit': '人', '$': '536270'}, {'@tab': '00001', '@cat01': 'A1101', '@area': '28201', '@time': '2015100000', '@unit': '人', '$': '535664'}, {'@tab': '00001', '@cat01': 'A110101', '@area': '28100', '@time': '2000100000', '@unit': '人', '$': '713684'}, {'@tab': '00001', '@cat01': 'A110101', '@area': '28100', '@time': '2005100000', '@unit': '人', '$': '724427'}, {'@tab': '00001', '@cat01': 'A110101', '@area': '28100', '@time': '2010100000', '@unit': '人', '$': '731114'}, {'@tab': '00001', '@cat01': 'A110101', '@area': '28100', '@time': '2015100000', '@unit': '人', '$': '726700'}, {'@tab': '00001', '@cat01': 'A110101', '@area': '28201', '@time': '2000100000', '@unit': '人', '$': '258299'}, {'@tab': '00001', '@cat01': 'A110101', '@area': '28201', '@time': '2005100000', '@unit': '人', '$': '258607'}, {'@tab': '00001', '@cat01': 'A110101', '@area': '28201', '@time': '2010100000', '@unit': '人', '$': '259320'}, {'@tab': '00001', '@cat01': 'A110101', '@area': '28201', '@time': '2015100000', '@unit': '人', '$': '258724'}, {'@tab': '00001', '@cat01': 'A110102', '@area': '28100', '@time': '2000100000', '@unit': '人', '$': '779714'}, {'@tab': '00001', '@cat01': 'A110102', '@area': '28100', '@time': '2005100000', '@unit': '人', '$': '800966'}, {'@tab': '00001', '@cat01': 'A110102', '@area': '28100', '@time': '2010100000', '@unit': '人', '$': '813086'}, {'@tab': '00001', '@cat01': 'A110102', '@area': '28100', '@time': '2015100000', '@unit': '人', '$': '810572'}, {'@tab': '00001', '@cat01': 'A110102', '@area': '28201', '@time': '2000100000', '@unit': '人', '$': '276670'}, {'@tab': '00001', '@cat01': 'A110102', '@area': '28201', '@time': '2005100000', '@unit': '人', '$': '277625'}, {'@tab': '00001', '@cat01': 'A110102', '@area': '28201', '@time': '2010100000', '@unit': '人', '$': '276950'}, {'@tab': '00001', '@cat01': 'A110102', '@area': '28201', '@time': '2015100000', '@unit': '人', '$': '276940'}]}}}}\n"
          ]
        }
      ]
    },
    {
      "cell_type": "markdown",
      "source": [
        "## CLASS_OBJ"
      ],
      "metadata": {
        "id": "JoiOW_ywaVLi"
      }
    },
    {
      "cell_type": "code",
      "source": [
        "CLASS_OBJ = res['GET_STATS_DATA']['STATISTICAL_DATA']['CLASS_INF']['CLASS_OBJ']\n",
        "CLASS_OBJ"
      ],
      "metadata": {
        "id": "B30c927vaURF",
        "outputId": "747d7650-4e3f-436f-c4e0-83db8bf4f6c2",
        "colab": {
          "base_uri": "https://localhost:8080/"
        }
      },
      "execution_count": 49,
      "outputs": [
        {
          "output_type": "execute_result",
          "data": {
            "text/plain": [
              "[{'@id': 'tab',\n",
              "  '@name': '観測値',\n",
              "  'CLASS': {'@code': '00001', '@name': '観測値', '@level': '1'}},\n",
              " {'@id': 'cat01',\n",
              "  '@name': 'Ａ\\u3000人口・世帯',\n",
              "  'CLASS': [{'@code': 'A1101',\n",
              "    '@name': 'A1101_総人口',\n",
              "    '@level': '1',\n",
              "    '@unit': '人'},\n",
              "   {'@code': 'A110101',\n",
              "    '@name': 'A110101_総人口（男）',\n",
              "    '@level': '1',\n",
              "    '@unit': '人'},\n",
              "   {'@code': 'A110102',\n",
              "    '@name': 'A110102_総人口（女）',\n",
              "    '@level': '1',\n",
              "    '@unit': '人'}]},\n",
              " {'@id': 'area',\n",
              "  '@name': '地域',\n",
              "  'CLASS': [{'@code': '28100',\n",
              "    '@name': '兵庫県 神戸市',\n",
              "    '@level': '2',\n",
              "    '@parentCode': '28000'},\n",
              "   {'@code': '28201',\n",
              "    '@name': '兵庫県 姫路市',\n",
              "    '@level': '2',\n",
              "    '@parentCode': '28000'}]},\n",
              " {'@id': 'time',\n",
              "  '@name': '調査年',\n",
              "  'CLASS': [{'@code': '1980100000', '@name': '1980年度', '@level': '1'},\n",
              "   {'@code': '1981100000', '@name': '1981年度', '@level': '1'},\n",
              "   {'@code': '1982100000', '@name': '1982年度', '@level': '1'},\n",
              "   {'@code': '1983100000', '@name': '1983年度', '@level': '1'},\n",
              "   {'@code': '1984100000', '@name': '1984年度', '@level': '1'},\n",
              "   {'@code': '1985100000', '@name': '1985年度', '@level': '1'},\n",
              "   {'@code': '1986100000', '@name': '1986年度', '@level': '1'},\n",
              "   {'@code': '1987100000', '@name': '1987年度', '@level': '1'},\n",
              "   {'@code': '1988100000', '@name': '1988年度', '@level': '1'},\n",
              "   {'@code': '1989100000', '@name': '1989年度', '@level': '1'},\n",
              "   {'@code': '1990100000', '@name': '1990年度', '@level': '1'},\n",
              "   {'@code': '1991100000', '@name': '1991年度', '@level': '1'},\n",
              "   {'@code': '1992100000', '@name': '1992年度', '@level': '1'},\n",
              "   {'@code': '1993100000', '@name': '1993年度', '@level': '1'},\n",
              "   {'@code': '1994100000', '@name': '1994年度', '@level': '1'},\n",
              "   {'@code': '1995100000', '@name': '1995年度', '@level': '1'},\n",
              "   {'@code': '1996100000', '@name': '1996年度', '@level': '1'},\n",
              "   {'@code': '1997100000', '@name': '1997年度', '@level': '1'},\n",
              "   {'@code': '1998100000', '@name': '1998年度', '@level': '1'},\n",
              "   {'@code': '1999100000', '@name': '1999年度', '@level': '1'},\n",
              "   {'@code': '2000100000', '@name': '2000年度', '@level': '1'},\n",
              "   {'@code': '2001100000', '@name': '2001年度', '@level': '1'},\n",
              "   {'@code': '2002100000', '@name': '2002年度', '@level': '1'},\n",
              "   {'@code': '2003100000', '@name': '2003年度', '@level': '1'},\n",
              "   {'@code': '2004100000', '@name': '2004年度', '@level': '1'},\n",
              "   {'@code': '2005100000', '@name': '2005年度', '@level': '1'},\n",
              "   {'@code': '2006100000', '@name': '2006年度', '@level': '1'},\n",
              "   {'@code': '2007100000', '@name': '2007年度', '@level': '1'},\n",
              "   {'@code': '2008100000', '@name': '2008年度', '@level': '1'},\n",
              "   {'@code': '2009100000', '@name': '2009年度', '@level': '1'},\n",
              "   {'@code': '2010100000', '@name': '2010年度', '@level': '1'},\n",
              "   {'@code': '2011100000', '@name': '2011年度', '@level': '1'},\n",
              "   {'@code': '2012100000', '@name': '2012年度', '@level': '1'},\n",
              "   {'@code': '2013100000', '@name': '2013年度', '@level': '1'},\n",
              "   {'@code': '2014100000', '@name': '2014年度', '@level': '1'},\n",
              "   {'@code': '2015100000', '@name': '2015年度', '@level': '1'},\n",
              "   {'@code': '2016100000', '@name': '2016年度', '@level': '1'},\n",
              "   {'@code': '2017100000', '@name': '2017年度', '@level': '1'},\n",
              "   {'@code': '2018100000', '@name': '2018年度', '@level': '1'},\n",
              "   {'@code': '2019100000', '@name': '2019年度', '@level': '1'},\n",
              "   {'@code': '2020100000', '@name': '2020年度', '@level': '1'}]}]"
            ]
          },
          "metadata": {},
          "execution_count": 49
        }
      ]
    },
    {
      "cell_type": "code",
      "source": [],
      "metadata": {
        "id": "f-uywtKBemhj"
      },
      "execution_count": null,
      "outputs": []
    },
    {
      "cell_type": "markdown",
      "source": [
        "### カテゴリ名"
      ],
      "metadata": {
        "id": "pPtZ5GEsanV2"
      }
    },
    {
      "cell_type": "code",
      "source": [
        "def categoryName(res):\n",
        "  CLASS_OBJ = res['GET_STATS_DATA']['STATISTICAL_DATA']['CLASS_INF']['CLASS_OBJ']\n",
        "  return "
      ],
      "metadata": {
        "id": "04PJoJ3Cam-i"
      },
      "execution_count": null,
      "outputs": []
    },
    {
      "cell_type": "markdown",
      "source": [
        "## VALUE"
      ],
      "metadata": {
        "id": "5LK82ULJSish"
      }
    },
    {
      "cell_type": "code",
      "source": [
        "VALUE = res['GET_STATS_DATA']['STATISTICAL_DATA']['DATA_INF']['VALUE']\n",
        "VALUE[0]"
      ],
      "metadata": {
        "id": "i4bLwiWfSJwz",
        "outputId": "d8fbf110-4d5c-424f-81f4-7197f51beff0",
        "colab": {
          "base_uri": "https://localhost:8080/"
        }
      },
      "execution_count": 50,
      "outputs": [
        {
          "output_type": "execute_result",
          "data": {
            "text/plain": [
              "{'@tab': '00001',\n",
              " '@cat01': 'A1101',\n",
              " '@area': '28100',\n",
              " '@time': '1980100000',\n",
              " '@unit': '人',\n",
              " '$': '1367390'}"
            ]
          },
          "metadata": {},
          "execution_count": 50
        }
      ]
    },
    {
      "cell_type": "markdown",
      "source": [
        "## chartData"
      ],
      "metadata": {
        "id": "3bR7LPm6Syxz"
      }
    },
    {
      "cell_type": "code",
      "source": [
        "VALUE = res['GET_STATS_DATA']['STATISTICAL_DATA']['DATA_INF']['VALUE']\n",
        "\n",
        "def is_num(t: str) :\n",
        "    if int(t):\n",
        "      return int(t)\n",
        "    else:\n",
        "      return float(t)\n",
        "\n",
        "def format(x):\n",
        "  # @time、$を抽出\n",
        "  d = {key: x[key] for key in ['@time', '$']}\n",
        "\n",
        "  # キー名を変更\n",
        "  d['time'] = d.pop('@time')[:4]\n",
        "  d['value'] = is_num(d.pop('$'))\n",
        "\n",
        "  return d\n",
        "\n",
        "list(map(format, VALUE))\n",
        "\n",
        "\n",
        "\n",
        "# print(list(set(VALUE)))"
      ],
      "metadata": {
        "id": "9PK1k3OmS-zj",
        "outputId": "21a58ec7-3b1c-4da2-abe3-79f65e5ba209",
        "colab": {
          "base_uri": "https://localhost:8080/"
        }
      },
      "execution_count": 41,
      "outputs": [
        {
          "output_type": "execute_result",
          "data": {
            "text/plain": [
              "[{'time': '1980', 'value': 1367390},\n",
              " {'time': '1985', 'value': 1410834},\n",
              " {'time': '1990', 'value': 1477410},\n",
              " {'time': '1995', 'value': 1423792},\n",
              " {'time': '2000', 'value': 1493398},\n",
              " {'time': '2005', 'value': 1525393},\n",
              " {'time': '2010', 'value': 1544200},\n",
              " {'time': '2015', 'value': 1537272}]"
            ]
          },
          "metadata": {},
          "execution_count": 41
        }
      ]
    }
  ],
  "metadata": {
    "colab": {
      "provenance": [],
      "toc_visible": true
    },
    "kernelspec": {
      "display_name": "Python 3",
      "name": "python3"
    },
    "language_info": {
      "name": "python"
    }
  },
  "nbformat": 4,
  "nbformat_minor": 0
}