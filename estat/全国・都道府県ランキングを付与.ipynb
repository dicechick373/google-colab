{
  "cells": [
    {
      "cell_type": "markdown",
      "metadata": {
        "id": "inrYQThZlUDa"
      },
      "source": [
        "# 実行環境の作成"
      ]
    },
    {
      "cell_type": "markdown",
      "source": [
        "## Google Drive"
      ],
      "metadata": {
        "id": "uE_OCx7vVWhj"
      }
    },
    {
      "cell_type": "markdown",
      "source": [
        "Google Driveをマウント"
      ],
      "metadata": {
        "id": "kHc6WsJkUqvx"
      }
    },
    {
      "cell_type": "code",
      "source": [
        "from google.colab import drive\n",
        "drive.mount('/content/drive')"
      ],
      "metadata": {
        "id": "DeythyREUwXk",
        "outputId": "e5d40bda-5904-460d-eb72-a7de17616816",
        "colab": {
          "base_uri": "https://localhost:8080/"
        }
      },
      "execution_count": 7,
      "outputs": [
        {
          "output_type": "stream",
          "name": "stdout",
          "text": [
            "Mounted at /content/drive\n"
          ]
        }
      ]
    },
    {
      "cell_type": "markdown",
      "source": [
        "## Google Sheets"
      ],
      "metadata": {
        "id": "rc5jeElrVc2j"
      }
    },
    {
      "cell_type": "markdown",
      "source": [
        "ライブラリのインストール"
      ],
      "metadata": {
        "id": "CaxFFxxGVbj7"
      }
    },
    {
      "cell_type": "code",
      "source": [
        "!pip install --upgrade -q gspread"
      ],
      "metadata": {
        "id": "ySMOqC5VVlIV"
      },
      "execution_count": null,
      "outputs": []
    },
    {
      "cell_type": "markdown",
      "source": [
        "Google Sheetsの認証"
      ],
      "metadata": {
        "id": "wvyybj9YVti6"
      }
    },
    {
      "cell_type": "code",
      "source": [
        "from google.colab import auth\n",
        "from google.auth import default\n",
        "import gspread\n",
        "\n",
        "auth.authenticate_user()\n",
        "creds, _ = default()\n",
        "gc = gspread.authorize(creds)"
      ],
      "metadata": {
        "id": "pdWWV-ywV108"
      },
      "execution_count": null,
      "outputs": []
    },
    {
      "cell_type": "markdown",
      "metadata": {
        "id": "BDMnnS3RVrkF"
      },
      "source": [
        "## Google Cloud Storage"
      ]
    },
    {
      "cell_type": "markdown",
      "metadata": {
        "id": "SsgiSjKhV2D7"
      },
      "source": [
        "下記コードでGCPに接続"
      ]
    },
    {
      "cell_type": "code",
      "execution_count": null,
      "metadata": {
        "id": "GKiUkM7SV0bY"
      },
      "outputs": [],
      "source": [
        "from google.colab import auth\n",
        "auth.authenticate_user()"
      ]
    },
    {
      "cell_type": "markdown",
      "metadata": {
        "id": "KP4JP4ouV6QS"
      },
      "source": [
        "認証に成功したらgcsfuseをインストール"
      ]
    },
    {
      "cell_type": "code",
      "execution_count": null,
      "metadata": {
        "id": "d1D5UagbV9A4"
      },
      "outputs": [],
      "source": [
        "!echo \"deb http://packages.cloud.google.com/apt gcsfuse-`lsb_release -c -s` main\" | sudo tee /etc/apt/sources.list.d/gcsfuse.list\n",
        "!curl https://packages.cloud.google.com/apt/doc/apt-key.gpg | sudo apt-key add -\n",
        "!apt-get -y -q update\n",
        "!apt-get -y -q install gcsfuse"
      ]
    },
    {
      "cell_type": "markdown",
      "metadata": {
        "id": "QUUcFp5LWR6s"
      },
      "source": [
        "バケット「statistics-hyogo」をディレクトリ「statistics-hyogo」にマウント"
      ]
    },
    {
      "cell_type": "code",
      "execution_count": null,
      "metadata": {
        "id": "vw-vsTVGWIfp"
      },
      "outputs": [],
      "source": [
        "! mkdir -p statistics-hyogo\n",
        "! gcsfuse --implicit-dirs --limit-bytes-per-sec -1 --limit-ops-per-sec -1 statistics-hyogo statistics-hyogo"
      ]
    },
    {
      "cell_type": "markdown",
      "metadata": {
        "id": "fHfHKgAXbC_a"
      },
      "source": [
        "# estatレスポンスを取得"
      ]
    },
    {
      "cell_type": "code",
      "source": [
        "import urllib.parse\n",
        "import urllib.request\n",
        "import json\n",
        "\n",
        "def get_estat_response(params):\n",
        "  # appId\n",
        "  params['appId'] = '724e5b90772a3e9289f41a253e4e7e32438f4fff'\n",
        "  \n",
        "  # url生成\n",
        "  url = 'http://api.e-stat.go.jp/rest/2.1/app/json/getStatsData?'\n",
        "  url += urllib.parse.urlencode(params)\n",
        "\n",
        "  with urllib.request.urlopen(url) as response:\n",
        "    return json.loads(response.read().decode('utf-8'))"
      ],
      "metadata": {
        "id": "1XRNHV9Flokg"
      },
      "execution_count": 1,
      "outputs": []
    },
    {
      "cell_type": "code",
      "source": [
        "params = {\n",
        "    'statsDataId': '0000020201',\n",
        "    'cdCat01': 'A1101',\n",
        "    'cdArea': '28100,28201',\n",
        "    }\n",
        "\n",
        "res = get_estat_response(params)\n",
        "print(res)"
      ],
      "metadata": {
        "id": "YCbe1sMpl9Be",
        "outputId": "17b147b0-4b0b-45fe-9f9b-24b4746006d6",
        "colab": {
          "base_uri": "https://localhost:8080/"
        }
      },
      "execution_count": 4,
      "outputs": [
        {
          "output_type": "stream",
          "name": "stdout",
          "text": [
            "{'GET_STATS_DATA': {'RESULT': {'STATUS': 0, 'ERROR_MSG': '正常に終了しました。', 'DATE': '2022-12-23T15:07:35.384+09:00'}, 'PARAMETER': {'LANG': 'J', 'STATS_DATA_ID': '0000020201', 'NARROWING_COND': {'CODE_CAT01_SELECT': 'A1101', 'CODE_AREA_SELECT': '28100,28201'}, 'DATA_FORMAT': 'J', 'START_POSITION': 1, 'METAGET_FLG': 'Y'}, 'STATISTICAL_DATA': {'RESULT_INF': {'TOTAL_NUMBER': 16, 'FROM_NUMBER': 1, 'TO_NUMBER': 16}, 'TABLE_INF': {'@id': '0000020201', 'STAT_NAME': {'@code': '00200502', '$': '社会・人口統計体系'}, 'GOV_ORG': {'@code': '00200', '$': '総務省'}, 'STATISTICS_NAME': '市区町村データ 基礎データ（廃置分合処理済）', 'TITLE': {'@no': '0000020201', '$': 'Ａ\\u3000人口・世帯'}, 'CYCLE': '年度次', 'SURVEY_DATE': 0, 'OPEN_DATE': '2022-06-21', 'SMALL_AREA': 0, 'MAIN_CATEGORY': {'@code': '99', '$': 'その他'}, 'SUB_CATEGORY': {'@code': '99', '$': 'その他'}, 'OVERALL_TOTAL_NUMBER': 1567404, 'UPDATED_DATE': '2022-06-21', 'STATISTICS_NAME_SPEC': {'TABULATION_CATEGORY': '市区町村データ', 'TABULATION_SUB_CATEGORY1': '基礎データ（廃置分合処理済）'}, 'TITLE_SPEC': {'TABLE_NAME': 'Ａ\\u3000人口・世帯'}}, 'CLASS_INF': {'CLASS_OBJ': [{'@id': 'tab', '@name': '観測値', 'CLASS': {'@code': '00001', '@name': '観測値', '@level': '1'}}, {'@id': 'cat01', '@name': 'Ａ\\u3000人口・世帯', 'CLASS': {'@code': 'A1101', '@name': 'A1101_総人口', '@level': '1', '@unit': '人'}}, {'@id': 'area', '@name': '地域', 'CLASS': [{'@code': '28100', '@name': '兵庫県 神戸市', '@level': '2', '@parentCode': '28000'}, {'@code': '28201', '@name': '兵庫県 姫路市', '@level': '2', '@parentCode': '28000'}]}, {'@id': 'time', '@name': '調査年', 'CLASS': [{'@code': '1980100000', '@name': '1980年度', '@level': '1'}, {'@code': '1981100000', '@name': '1981年度', '@level': '1'}, {'@code': '1982100000', '@name': '1982年度', '@level': '1'}, {'@code': '1983100000', '@name': '1983年度', '@level': '1'}, {'@code': '1984100000', '@name': '1984年度', '@level': '1'}, {'@code': '1985100000', '@name': '1985年度', '@level': '1'}, {'@code': '1986100000', '@name': '1986年度', '@level': '1'}, {'@code': '1987100000', '@name': '1987年度', '@level': '1'}, {'@code': '1988100000', '@name': '1988年度', '@level': '1'}, {'@code': '1989100000', '@name': '1989年度', '@level': '1'}, {'@code': '1990100000', '@name': '1990年度', '@level': '1'}, {'@code': '1991100000', '@name': '1991年度', '@level': '1'}, {'@code': '1992100000', '@name': '1992年度', '@level': '1'}, {'@code': '1993100000', '@name': '1993年度', '@level': '1'}, {'@code': '1994100000', '@name': '1994年度', '@level': '1'}, {'@code': '1995100000', '@name': '1995年度', '@level': '1'}, {'@code': '1996100000', '@name': '1996年度', '@level': '1'}, {'@code': '1997100000', '@name': '1997年度', '@level': '1'}, {'@code': '1998100000', '@name': '1998年度', '@level': '1'}, {'@code': '1999100000', '@name': '1999年度', '@level': '1'}, {'@code': '2000100000', '@name': '2000年度', '@level': '1'}, {'@code': '2001100000', '@name': '2001年度', '@level': '1'}, {'@code': '2002100000', '@name': '2002年度', '@level': '1'}, {'@code': '2003100000', '@name': '2003年度', '@level': '1'}, {'@code': '2004100000', '@name': '2004年度', '@level': '1'}, {'@code': '2005100000', '@name': '2005年度', '@level': '1'}, {'@code': '2006100000', '@name': '2006年度', '@level': '1'}, {'@code': '2007100000', '@name': '2007年度', '@level': '1'}, {'@code': '2008100000', '@name': '2008年度', '@level': '1'}, {'@code': '2009100000', '@name': '2009年度', '@level': '1'}, {'@code': '2010100000', '@name': '2010年度', '@level': '1'}, {'@code': '2011100000', '@name': '2011年度', '@level': '1'}, {'@code': '2012100000', '@name': '2012年度', '@level': '1'}, {'@code': '2013100000', '@name': '2013年度', '@level': '1'}, {'@code': '2014100000', '@name': '2014年度', '@level': '1'}, {'@code': '2015100000', '@name': '2015年度', '@level': '1'}, {'@code': '2016100000', '@name': '2016年度', '@level': '1'}, {'@code': '2017100000', '@name': '2017年度', '@level': '1'}, {'@code': '2018100000', '@name': '2018年度', '@level': '1'}, {'@code': '2019100000', '@name': '2019年度', '@level': '1'}, {'@code': '2020100000', '@name': '2020年度', '@level': '1'}]}]}, 'DATA_INF': {'NOTE': [{'@char': '***', '$': '調査又は集計していないもの'}, {'@char': '-', '$': 'データが得られないもの'}, {'@char': 'X', '$': '数値が秘匿されているもの'}], 'VALUE': [{'@tab': '00001', '@cat01': 'A1101', '@area': '28100', '@time': '1980100000', '@unit': '人', '$': '1367390'}, {'@tab': '00001', '@cat01': 'A1101', '@area': '28100', '@time': '1985100000', '@unit': '人', '$': '1410834'}, {'@tab': '00001', '@cat01': 'A1101', '@area': '28100', '@time': '1990100000', '@unit': '人', '$': '1477410'}, {'@tab': '00001', '@cat01': 'A1101', '@area': '28100', '@time': '1995100000', '@unit': '人', '$': '1423792'}, {'@tab': '00001', '@cat01': 'A1101', '@area': '28100', '@time': '2000100000', '@unit': '人', '$': '1493398'}, {'@tab': '00001', '@cat01': 'A1101', '@area': '28100', '@time': '2005100000', '@unit': '人', '$': '1525393'}, {'@tab': '00001', '@cat01': 'A1101', '@area': '28100', '@time': '2010100000', '@unit': '人', '$': '1544200'}, {'@tab': '00001', '@cat01': 'A1101', '@area': '28100', '@time': '2015100000', '@unit': '人', '$': '1537272'}, {'@tab': '00001', '@cat01': 'A1101', '@area': '28201', '@time': '1980100000', '@unit': '人', '$': '494825'}, {'@tab': '00001', '@cat01': 'A1101', '@area': '28201', '@time': '1985100000', '@unit': '人', '$': '506101'}, {'@tab': '00001', '@cat01': 'A1101', '@area': '28201', '@time': '1990100000', '@unit': '人', '$': '509129'}, {'@tab': '00001', '@cat01': 'A1101', '@area': '28201', '@time': '1995100000', '@unit': '人', '$': '527854'}, {'@tab': '00001', '@cat01': 'A1101', '@area': '28201', '@time': '2000100000', '@unit': '人', '$': '534969'}, {'@tab': '00001', '@cat01': 'A1101', '@area': '28201', '@time': '2005100000', '@unit': '人', '$': '536232'}, {'@tab': '00001', '@cat01': 'A1101', '@area': '28201', '@time': '2010100000', '@unit': '人', '$': '536270'}, {'@tab': '00001', '@cat01': 'A1101', '@area': '28201', '@time': '2015100000', '@unit': '人', '$': '535664'}]}}}}\n"
          ]
        }
      ]
    },
    {
      "cell_type": "markdown",
      "source": [
        "# 地域設定"
      ],
      "metadata": {
        "id": "powhhLFDmuVy"
      }
    },
    {
      "cell_type": "markdown",
      "source": [
        "## 関数"
      ],
      "metadata": {
        "id": "upBZOY0Smyup"
      }
    },
    {
      "cell_type": "code",
      "source": [
        "import json\n",
        "\n",
        "def get_area(params={}):\n",
        "  with open('drive/MyDrive/statistics-hyogo/resas/arealist.json') as j:\n",
        "    areas = json.load(j)\n",
        "\n",
        "    if not params:\n",
        "      return areas\n",
        "\n",
        "    else:\n",
        "      for p in params.keys():\n",
        "        areas = list(filter(lambda x: x[p] == params[p], areas))\n",
        "      return areas"
      ],
      "metadata": {
        "id": "dBQdo_6EmrZu"
      },
      "execution_count": 5,
      "outputs": []
    },
    {
      "cell_type": "markdown",
      "source": [
        "## 都道府県コード一覧"
      ],
      "metadata": {
        "id": "N_Y2Rdj6m0t2"
      }
    },
    {
      "cell_type": "code",
      "source": [
        "def prefecture():\n",
        "  params = {\n",
        "      'governmentType': 'prefecture',\n",
        "  }\n",
        "  \n",
        "  area = get_area(params)\n",
        "  return [d.get('areaCode') for d in area]"
      ],
      "metadata": {
        "id": "P-N7G9Dam3tI"
      },
      "execution_count": 13,
      "outputs": []
    },
    {
      "cell_type": "code",
      "source": [
        "prefCodes = prefecture()\n",
        "print(prefCodes)"
      ],
      "metadata": {
        "id": "n6xHzeF8qFM2",
        "outputId": "f11934d3-0782-464d-ba05-1409e79d3849",
        "colab": {
          "base_uri": "https://localhost:8080/"
        }
      },
      "execution_count": 15,
      "outputs": [
        {
          "output_type": "stream",
          "name": "stdout",
          "text": [
            "['01000', '02000', '03000', '04000', '05000', '06000', '07000', '08000', '09000', '10000', '11000', '12000', '13000', '14000', '15000', '16000', '17000', '18000', '19000', '20000', '21000', '22000', '23000', '24000', '25000', '26000', '27000', '28000', '29000', '30000', '31000', '32000', '33000', '34000', '35000', '36000', '37000', '38000', '39000', '40000', '41000', '42000', '43000', '44000', '45000', '46000', '47000']\n"
          ]
        }
      ]
    },
    {
      "cell_type": "markdown",
      "source": [
        "## 市区町村コード一覧"
      ],
      "metadata": {
        "id": "X0pTilhUtgZ_"
      }
    },
    {
      "cell_type": "markdown",
      "source": [
        "# 都道府県ランキング"
      ],
      "metadata": {
        "id": "6xINYHs0mGLm"
      }
    },
    {
      "cell_type": "code",
      "source": [],
      "metadata": {
        "id": "PnqqH_SZmFyZ"
      },
      "execution_count": null,
      "outputs": []
    },
    {
      "cell_type": "markdown",
      "source": [
        "DataFrameを整形する関数"
      ],
      "metadata": {
        "id": "r4uA0dWVTwyo"
      }
    },
    {
      "cell_type": "code",
      "source": [
        "ESTAT_APPID = '724e5b90772a3e9289f41a253e4e7e32438f4fff'\n",
        "\n",
        "import urllib.parse\n",
        "import urllib.request\n",
        "import json\n",
        "import pandas as pd\n",
        "\n",
        "\"\"\"\n",
        "estat-APIのレスポンスを整形してDataFrameに変換\n",
        "\"\"\"\n",
        "\n",
        "def get_estat_dataframe(params):\n",
        "  res = get_estat_response(params)\n",
        "  df_res = conv_estat_response_to_dataframe(res)\n",
        "  df_res = format_estat_dataframe(df_res)\n",
        "\n",
        "  return df_res\n",
        "\n",
        "\"\"\"\n",
        "estat-APIのレスポンスを取得する関数\n",
        "\"\"\"\n",
        "\n",
        "def get_estat_response(params):\n",
        "  p = params.copy()\n",
        "\n",
        "  # appId\n",
        "  p['appId'] = ESTAT_APPID\n",
        "  \n",
        "  # url生成\n",
        "  url = 'http://api.e-stat.go.jp/rest/2.1/app/json/getStatsData?'\n",
        "  url += urllib.parse.urlencode(p)\n",
        "\n",
        "  with urllib.request.urlopen(url) as response:\n",
        "    return json.loads(response.read().decode('utf-8'))\n",
        "\n",
        "\n",
        "\"\"\"\n",
        "estat-APIのレスポンスをDataFrameに変換する\n",
        "\"\"\"\n",
        "\n",
        "def conv_estat_response_to_dataframe(response):\n",
        "\n",
        "  # VALUEをDataFrameに変換\n",
        "  VALUE = response['GET_STATS_DATA']['STATISTICAL_DATA']['DATA_INF']['VALUE']\n",
        "  df = pd.json_normalize(VALUE)\n",
        "\n",
        "  # CLASS_OBJのDataFrameを結合\n",
        "  CLASS_OBJ = response['GET_STATS_DATA']['STATISTICAL_DATA']['CLASS_INF']['CLASS_OBJ']\n",
        "  for d in CLASS_OBJ :\n",
        "    # DataFrameに変換 '@code','@name'だけ抽出\n",
        "    df_class = pd.json_normalize(d['CLASS']) \n",
        "    df_class = df_class.copy()[['@code','@name']]\n",
        "\n",
        "    # @codeをキー名に変更 @nameをキー名＋'_name'に変更\n",
        "    key_name = '@{}'.format(d['@id'])\n",
        "    df_class = df_class.rename(columns={'@code':key_name,'@name': key_name+'_name'})\n",
        "\n",
        "    # DataFrameを結合\n",
        "    df = pd.merge(df, df_class, on=key_name, how='outer')\n",
        "\n",
        "  # 統計情報を追加\n",
        "  TABLE_INF = response['GET_STATS_DATA']['STATISTICAL_DATA']['TABLE_INF']\n",
        "  df['statsDataId'] = TABLE_INF['@id']\n",
        "  df['statsDataName'] = TABLE_INF['STAT_NAME']['$']\n",
        "  \n",
        "  return df\n",
        "\n",
        "\"\"\"\n",
        "DataFrameを整形する\n",
        "\"\"\"\n",
        "\n",
        "def  format_estat_dataframe(df_arg):\n",
        "\n",
        "  # 列を抽出して名前変更\n",
        "  df =  df_arg[['statsDataId','statsDataName','@cat01','@cat01_name','@time','@time_name','@area','$','@unit']]\n",
        "  df = df.rename(columns = {'@cat01':'categoryCode','@cat01_name':'categoryName','@time':'timeCode','@time_name':'timeName','@area':'areaCode','$':'value','@unit':'unit'})\n",
        "\n",
        "  # 欠損データ削除\n",
        "  df = df.dropna(subset=['categoryCode'])\n",
        "\n",
        "  # categoryNameから不要な情報（categoryCode）を削除\n",
        "  df['categoryName'] = df.apply(lambda x: x['categoryName'].replace(x['categoryCode']+'_', ''), 1)\n",
        "\n",
        "  # timeCodeを文字列4桁に置換\n",
        "  df['timeCode'] = df['timeCode'].astype(str)\n",
        "  df['timeCode'] = df.apply(lambda x: x['timeCode'][:4], 1)\n",
        "  \n",
        "  # 地域情報をマージ\n",
        "  with open('drive/MyDrive/statistics-hyogo/resas/arealist.json') as j:\n",
        "    arealist = json.load(j)\n",
        "    df_arealist = pd.json_normalize(arealist)  \n",
        "  df = pd.merge(df, df_arealist, on='areaCode', how='right')\n",
        "\n",
        "\n",
        "  df = df.dropna(subset=['categoryCode'])\n",
        "\n",
        "  # '-'を'0'に置換\n",
        "  df = df.replace({'value': {'-': '0'}})\n",
        "  df = df.replace({'value': {'X': '0'}})\n",
        "\n",
        "  return df"
      ],
      "metadata": {
        "id": "aRItwwQ41twT"
      },
      "execution_count": null,
      "outputs": []
    },
    {
      "cell_type": "code",
      "source": [
        "params = {\n",
        "    'statsDataId': '0000010101',\n",
        "    'cdCat01':'A1101',\n",
        "}\n",
        "\n",
        "df = get_estat_dataframe(params)\n",
        "df"
      ],
      "metadata": {
        "id": "Po1qxEn9xAUN"
      },
      "execution_count": null,
      "outputs": []
    },
    {
      "cell_type": "markdown",
      "source": [
        "# ランキングの付与"
      ],
      "metadata": {
        "id": "2z261ckFEZ8V"
      }
    },
    {
      "cell_type": "code",
      "source": [
        "!pip install pandas-gbq"
      ],
      "metadata": {
        "id": "Iw8hXRPoaqcn"
      },
      "execution_count": null,
      "outputs": []
    },
    {
      "cell_type": "markdown",
      "source": [
        "BigQueryのテーブルをDataFrameに格納"
      ],
      "metadata": {
        "id": "dCT6GY-oG8b_"
      }
    },
    {
      "cell_type": "code",
      "source": [
        "import pandas as pd\n",
        "\n",
        "def get_gbq(table_id):\n",
        "  project_id='primal-buttress-342908'\n",
        "  dataset_id = 'contents'  \n",
        "  query = f'SELECT * FROM `{project_id}.{dataset_id}.{table_id}`'\n",
        "  \n",
        "  return pd.read_gbq(query, project_id, dialect='standard')"
      ],
      "metadata": {
        "id": "f-y7-xPaFmHx"
      },
      "execution_count": null,
      "outputs": []
    },
    {
      "cell_type": "markdown",
      "source": [
        "ランキングの付与"
      ],
      "metadata": {
        "id": "p6PY3OlJHGMM"
      }
    },
    {
      "cell_type": "code",
      "source": [
        "\"\"\"\n",
        "都道府県のランキングを付与する関数\n",
        "\"\"\"\n",
        "def withrank_prefecture(df_arg):\n",
        "\n",
        "  # 年度リスト、カテゴリリストの作成\n",
        "  times = list(set(df_arg['timeCode'].tolist()))\n",
        "  categories = list(set(df_arg['categoryCode'].tolist()))\n",
        "\n",
        "  # 返却するDataFrameの定義\n",
        "  df_res = pd.DataFrame(index=[], columns=[])\n",
        "\n",
        "  for time in times:\n",
        "    for category in categories:\n",
        "      df = df_arg.copy()\n",
        "      df = df[df['timeCode'] == time][df['categoryCode'] == category]\n",
        "      \n",
        "      # valueを数値に変換して、'rank'を付与\n",
        "      df = df.astype({'value': float})\n",
        "      df['rankJapan'] = df.rank(ascending=False)['value'].astype(int).astype(str)\n",
        "      \n",
        "      # 結合\n",
        "      df_res = pd.concat([df_res, df])\n",
        "  \n",
        "  return df_res"
      ],
      "metadata": {
        "id": "yIu9Z7ezHuTH"
      },
      "execution_count": null,
      "outputs": []
    },
    {
      "cell_type": "code",
      "source": [
        "table_id = 'total-population-prefecture'\n",
        "df = get_gbq(table_id)\n",
        "df_rank = withrank_prefecture(df)\n",
        "df_rank"
      ],
      "metadata": {
        "id": "DiBAM7h4ININ"
      },
      "execution_count": null,
      "outputs": []
    },
    {
      "cell_type": "code",
      "source": [
        "\"\"\"\n",
        "市区町村のランキングを付与する関数\n",
        "\"\"\"\n",
        "def withrank_city(df_arg):\n",
        "  print(f'基のDataDrameは{len(df_arg)}行')\n",
        "\n",
        "  # 年度リスト、カテゴリリストの作成\n",
        "  times = list(set(df_arg['timeCode'].tolist()))\n",
        "  categories = list(set(df_arg['categoryCode'].tolist()))\n",
        "  prefs = list(set(df_arg['prefCode'].tolist()))\n",
        "  print(prefs)\n",
        "\n",
        "  # ランキングDataFrameを作成\n",
        "  df_rank = pd.DataFrame(index=[], columns=[])\n",
        "  for time in times:\n",
        "    for category in categories:\n",
        "\n",
        "      # DataFrameの抽出\n",
        "      df = df_arg.copy()\n",
        "      df = df[df['timeCode'] == time][df['categoryCode'] == category]\n",
        "      df = df[df['bigCityFlag'] != '1']\n",
        "\n",
        "      # valueを数値に変換して、'rank'を付与\n",
        "      df = df.astype({'value': float})\n",
        "      df['rankJapan'] = df.rank(ascending=False)['value'].astype(int).astype(str)\n",
        "      \n",
        "      # 必要な列だけ結合\n",
        "      df = df[['timeCode','categoryCode','areaCode','rankJapan']]\n",
        "      df_rank = pd.concat([df_rank, df])\n",
        "  \n",
        "  # 基のDataFrameにマージ\n",
        "  df_res = df_arg.copy()\n",
        "  df_res = pd.merge(df_res, df_rank, on=['timeCode','categoryCode','areaCode'], how='left')\n",
        "\n",
        "\n",
        "  # ランキングDataFrameを作成\n",
        "  df_rank = pd.DataFrame(index=[], columns=[])\n",
        "  for time in times:\n",
        "    for category in categories:\n",
        "      for pref in prefs:\n",
        "        # DataFrameの抽出\n",
        "        df = df_arg.copy()\n",
        "        df = df[df['timeCode'] == time][df['categoryCode'] == category]\n",
        "        df = df[df['bigCityFlag'] != '1']\n",
        "        df = df[df['prefCode'] == pref]\n",
        "\n",
        "        # valueを数値に変換して、'rank'を付与\n",
        "        df = df.astype({'value': float})\n",
        "        df['rankPref'] = df.rank(ascending=False)['value'].astype(int).astype(str)\n",
        "      \n",
        "        # 必要な列だけ結合\n",
        "        df = df[['timeCode','categoryCode','areaCode','rankPref']]\n",
        "        df_rank = pd.concat([df_rank, df])\n",
        "\n",
        "  df_res = pd.merge(df_res, df_rank, on=['timeCode','categoryCode','areaCode'], how='left')\n",
        "  return df_res"
      ],
      "metadata": {
        "id": "enKb_tRETN8M"
      },
      "execution_count": null,
      "outputs": []
    },
    {
      "cell_type": "code",
      "source": [
        "table_id = 'total-population-city'\n",
        "df = get_gbq(table_id)\n",
        "df_rank = withrank_city(df)\n",
        "df_rank"
      ],
      "metadata": {
        "id": "AALpbWnFUiwY",
        "outputId": "2e8556d4-75b5-4257-e3ae-be319d32a8b7",
        "colab": {
          "base_uri": "https://localhost:8080/",
          "height": 222
        }
      },
      "execution_count": null,
      "outputs": [
        {
          "output_type": "error",
          "ename": "NameError",
          "evalue": "ignored",
          "traceback": [
            "\u001b[0;31m---------------------------------------------------------------------------\u001b[0m",
            "\u001b[0;31mNameError\u001b[0m                                 Traceback (most recent call last)",
            "\u001b[0;32m<ipython-input-2-927f62db1cca>\u001b[0m in \u001b[0;36m<module>\u001b[0;34m\u001b[0m\n\u001b[1;32m      1\u001b[0m \u001b[0mtable_id\u001b[0m \u001b[0;34m=\u001b[0m \u001b[0;34m'total-population-city'\u001b[0m\u001b[0;34m\u001b[0m\u001b[0;34m\u001b[0m\u001b[0m\n\u001b[0;32m----> 2\u001b[0;31m \u001b[0mdf\u001b[0m \u001b[0;34m=\u001b[0m \u001b[0mget_gbq\u001b[0m\u001b[0;34m(\u001b[0m\u001b[0mtable_id\u001b[0m\u001b[0;34m)\u001b[0m\u001b[0;34m\u001b[0m\u001b[0;34m\u001b[0m\u001b[0m\n\u001b[0m\u001b[1;32m      3\u001b[0m \u001b[0mdf_rank\u001b[0m \u001b[0;34m=\u001b[0m \u001b[0mwithrank_city\u001b[0m\u001b[0;34m(\u001b[0m\u001b[0mdf\u001b[0m\u001b[0;34m)\u001b[0m\u001b[0;34m\u001b[0m\u001b[0;34m\u001b[0m\u001b[0m\n\u001b[1;32m      4\u001b[0m \u001b[0mdf_rank\u001b[0m\u001b[0;34m\u001b[0m\u001b[0;34m\u001b[0m\u001b[0m\n",
            "\u001b[0;31mNameError\u001b[0m: name 'get_gbq' is not defined"
          ]
        }
      ]
    },
    {
      "cell_type": "code",
      "source": [
        "from google.cloud import bigquery\n",
        "from google.cloud.exceptions import NotFound\n",
        "\n",
        "# 統計カード一覧を取得\n",
        "with open('/content/drive/MyDrive/statistics-hyogo/contents/statistics-cards.json') as j:\n",
        "  cardlist = json.load(j)\n",
        "\n",
        "for card in cardlist:\n",
        "\n",
        "  # BigQueryのテーブル定義\n",
        "  project_id='primal-buttress-342908'\n",
        "  dataset_id = 'contents'\n",
        "  table_id= card['cardId']\n",
        "\n",
        "  client = bigquery.Client()\n",
        "\n",
        "  try:\n",
        "    client.get_table(f'{project_id}.{dataset_id}.{table_id}')  \n",
        "    print(\"Table {} already exists.\".format(table_id))\n",
        "\n",
        "  except NotFound:\n",
        "    estatParams = card['estatParams']\n",
        "    governmentType = card['governmentType']\n",
        "    # print(governmentType)\n",
        "\n",
        "    df = get_estat_dataframe(estatParams)\n",
        "\n",
        "    if governmentType == 'prefecture':\n",
        "      df = withrank_prefecture(df)\n",
        "      print(f'{table_id}のデータを作成しています')\n",
        "      print(estatParams)\n",
        "    else:\n",
        "      df = withrank_city(df)\n",
        "    \n",
        "    df.to_gbq(f'{dataset_id}.{table_id}', project_id=project_id, if_exists=\"replace\")\n",
        "    \n",
        "    print(estatParams)\n",
        "    print(f'{table_id}を保存しました')\n",
        "\n"
      ],
      "metadata": {
        "id": "b8maJe5ZYQ8C"
      },
      "execution_count": null,
      "outputs": []
    }
  ],
  "metadata": {
    "colab": {
      "toc_visible": true,
      "provenance": []
    },
    "gpuClass": "standard",
    "kernelspec": {
      "display_name": "Python 3",
      "name": "python3"
    }
  },
  "nbformat": 4,
  "nbformat_minor": 0
}