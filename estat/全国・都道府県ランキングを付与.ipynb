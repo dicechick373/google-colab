{
  "cells": [
    {
      "cell_type": "markdown",
      "metadata": {
        "id": "inrYQThZlUDa"
      },
      "source": [
        "# 実行環境の作成"
      ]
    },
    {
      "cell_type": "markdown",
      "source": [
        "## Google Drive"
      ],
      "metadata": {
        "id": "uE_OCx7vVWhj"
      }
    },
    {
      "cell_type": "markdown",
      "source": [
        "Google Driveをマウント"
      ],
      "metadata": {
        "id": "kHc6WsJkUqvx"
      }
    },
    {
      "cell_type": "code",
      "source": [
        "from google.colab import drive\n",
        "drive.mount('/content/drive')"
      ],
      "metadata": {
        "id": "DeythyREUwXk",
        "outputId": "a6121196-303e-401a-e145-ab164b107a4b",
        "colab": {
          "base_uri": "https://localhost:8080/"
        }
      },
      "execution_count": 1,
      "outputs": [
        {
          "output_type": "stream",
          "name": "stdout",
          "text": [
            "Mounted at /content/drive\n"
          ]
        }
      ]
    },
    {
      "cell_type": "markdown",
      "source": [
        "## Google Sheets"
      ],
      "metadata": {
        "id": "rc5jeElrVc2j"
      }
    },
    {
      "cell_type": "markdown",
      "source": [
        "ライブラリのインストール"
      ],
      "metadata": {
        "id": "CaxFFxxGVbj7"
      }
    },
    {
      "cell_type": "code",
      "source": [
        "!pip install --upgrade -q gspread"
      ],
      "metadata": {
        "id": "ySMOqC5VVlIV"
      },
      "execution_count": null,
      "outputs": []
    },
    {
      "cell_type": "markdown",
      "source": [
        "Google Sheetsの認証"
      ],
      "metadata": {
        "id": "wvyybj9YVti6"
      }
    },
    {
      "cell_type": "code",
      "source": [
        "from google.colab import auth\n",
        "from google.auth import default\n",
        "import gspread\n",
        "\n",
        "auth.authenticate_user()\n",
        "creds, _ = default()\n",
        "gc = gspread.authorize(creds)"
      ],
      "metadata": {
        "id": "pdWWV-ywV108"
      },
      "execution_count": null,
      "outputs": []
    },
    {
      "cell_type": "markdown",
      "metadata": {
        "id": "BDMnnS3RVrkF"
      },
      "source": [
        "## Google Cloud Storage"
      ]
    },
    {
      "cell_type": "markdown",
      "metadata": {
        "id": "SsgiSjKhV2D7"
      },
      "source": [
        "下記コードでGCPに接続"
      ]
    },
    {
      "cell_type": "code",
      "execution_count": null,
      "metadata": {
        "id": "GKiUkM7SV0bY"
      },
      "outputs": [],
      "source": [
        "from google.colab import auth\n",
        "auth.authenticate_user()"
      ]
    },
    {
      "cell_type": "markdown",
      "metadata": {
        "id": "KP4JP4ouV6QS"
      },
      "source": [
        "認証に成功したらgcsfuseをインストール"
      ]
    },
    {
      "cell_type": "code",
      "execution_count": null,
      "metadata": {
        "id": "d1D5UagbV9A4"
      },
      "outputs": [],
      "source": [
        "!echo \"deb http://packages.cloud.google.com/apt gcsfuse-`lsb_release -c -s` main\" | sudo tee /etc/apt/sources.list.d/gcsfuse.list\n",
        "!curl https://packages.cloud.google.com/apt/doc/apt-key.gpg | sudo apt-key add -\n",
        "!apt-get -y -q update\n",
        "!apt-get -y -q install gcsfuse"
      ]
    },
    {
      "cell_type": "markdown",
      "metadata": {
        "id": "QUUcFp5LWR6s"
      },
      "source": [
        "バケット「statistics-hyogo」をディレクトリ「statistics-hyogo」にマウント"
      ]
    },
    {
      "cell_type": "code",
      "execution_count": null,
      "metadata": {
        "id": "vw-vsTVGWIfp"
      },
      "outputs": [],
      "source": [
        "! mkdir -p statistics-hyogo\n",
        "! gcsfuse --implicit-dirs --limit-bytes-per-sec -1 --limit-ops-per-sec -1 statistics-hyogo statistics-hyogo"
      ]
    },
    {
      "cell_type": "markdown",
      "metadata": {
        "id": "fHfHKgAXbC_a"
      },
      "source": [
        "# estatレスポンスをDataFrameに格納"
      ]
    },
    {
      "cell_type": "markdown",
      "source": [
        "DataFrameを整形する関数"
      ],
      "metadata": {
        "id": "r4uA0dWVTwyo"
      }
    },
    {
      "cell_type": "code",
      "source": [
        "ESTAT_APPID = '724e5b90772a3e9289f41a253e4e7e32438f4fff'\n",
        "\n",
        "import urllib.parse\n",
        "import urllib.request\n",
        "import json\n",
        "import pandas as pd\n",
        "\n",
        "\"\"\"\n",
        "estat-APIのレスポンスを整形してDataFrameに変換\n",
        "\"\"\"\n",
        "\n",
        "def get_estat_dataframe(params):\n",
        "  res = get_estat_response(params)\n",
        "  df_res = conv_estat_response_to_dataframe(res)\n",
        "  df_res = format_estat_dataframe(df_res)\n",
        "\n",
        "  return df_res\n",
        "\n",
        "\"\"\"\n",
        "estat-APIのレスポンスを取得する関数\n",
        "\"\"\"\n",
        "\n",
        "def get_estat_response(params):\n",
        "  p = params.copy()\n",
        "\n",
        "  # appId\n",
        "  p['appId'] = ESTAT_APPID\n",
        "  \n",
        "  # url生成\n",
        "  url = 'http://api.e-stat.go.jp/rest/2.1/app/json/getStatsData?'\n",
        "  url += urllib.parse.urlencode(p)\n",
        "\n",
        "  with urllib.request.urlopen(url) as response:\n",
        "    return json.loads(response.read().decode('utf-8'))\n",
        "\n",
        "\n",
        "\"\"\"\n",
        "estat-APIのレスポンスをDataFrameに変換する\n",
        "\"\"\"\n",
        "\n",
        "def conv_estat_response_to_dataframe(response):\n",
        "\n",
        "  # VALUEをDataFrameに変換\n",
        "  VALUE = response['GET_STATS_DATA']['STATISTICAL_DATA']['DATA_INF']['VALUE']\n",
        "  df = pd.json_normalize(VALUE)\n",
        "\n",
        "  # CLASS_OBJのDataFrameを結合\n",
        "  CLASS_OBJ = response['GET_STATS_DATA']['STATISTICAL_DATA']['CLASS_INF']['CLASS_OBJ']\n",
        "  for d in CLASS_OBJ :\n",
        "    # DataFrameに変換 '@code','@name'だけ抽出\n",
        "    df_class = pd.json_normalize(d['CLASS']) \n",
        "    df_class = df_class.copy()[['@code','@name']]\n",
        "\n",
        "    # @codeをキー名に変更 @nameをキー名＋'_name'に変更\n",
        "    key_name = '@{}'.format(d['@id'])\n",
        "    df_class = df_class.rename(columns={'@code':key_name,'@name': key_name+'_name'})\n",
        "\n",
        "    # DataFrameを結合\n",
        "    df = pd.merge(df, df_class, on=key_name, how='outer')\n",
        "\n",
        "  # 統計情報を追加\n",
        "  TABLE_INF = response['GET_STATS_DATA']['STATISTICAL_DATA']['TABLE_INF']\n",
        "  df['statsDataId'] = TABLE_INF['@id']\n",
        "  df['statsDataName'] = TABLE_INF['STAT_NAME']['$']\n",
        "  \n",
        "  return df\n",
        "\n",
        "\"\"\"\n",
        "DataFrameを整形する\n",
        "\"\"\"\n",
        "\n",
        "def  format_estat_dataframe(df_arg):\n",
        "\n",
        "  # 列を抽出して名前変更\n",
        "  df =  df_arg[['statsDataId','statsDataName','@cat01','@cat01_name','@time','@time_name','@area','$','@unit']]\n",
        "  df = df.rename(columns = {'@cat01':'categoryCode','@cat01_name':'categoryName','@time':'timeCode','@time_name':'timeName','@area':'areaCode','$':'value','@unit':'unit'})\n",
        "\n",
        "  # 欠損データ削除\n",
        "  df = df.dropna(subset=['categoryCode'])\n",
        "\n",
        "  # categoryNameから不要な情報（categoryCode）を削除\n",
        "  df['categoryName'] = df.apply(lambda x: x['categoryName'].replace(x['categoryCode']+'_', ''), 1)\n",
        "\n",
        "  # timeCodeを文字列4桁に置換\n",
        "  df['timeCode'] = df['timeCode'].astype(str)\n",
        "  df['timeCode'] = df.apply(lambda x: x['timeCode'][:4], 1)\n",
        "  \n",
        "  # 地域情報をマージ\n",
        "  with open('drive/MyDrive/statistics-hyogo/resas/arealist.json') as j:\n",
        "    arealist = json.load(j)\n",
        "    df_arealist = pd.json_normalize(arealist)  \n",
        "  df = pd.merge(df, df_arealist, on='areaCode', how='right')\n",
        "\n",
        "\n",
        "  df = df.dropna(subset=['categoryCode'])\n",
        "\n",
        "  # '-'を'0'に置換\n",
        "  df = df.replace({'value': {'-': '0'}})\n",
        "  df = df.replace({'value': {'X': '0'}})\n",
        "\n",
        "  return df"
      ],
      "metadata": {
        "id": "aRItwwQ41twT"
      },
      "execution_count": 3,
      "outputs": []
    },
    {
      "cell_type": "code",
      "source": [
        "params = {\n",
        "    'statsDataId': '0000010101',\n",
        "    'cdCat01':'A1101',\n",
        "}\n",
        "\n",
        "df = get_estat_dataframe(params)\n",
        "df"
      ],
      "metadata": {
        "id": "Po1qxEn9xAUN"
      },
      "execution_count": null,
      "outputs": []
    },
    {
      "cell_type": "markdown",
      "source": [
        "# ランキングの付与"
      ],
      "metadata": {
        "id": "2z261ckFEZ8V"
      }
    },
    {
      "cell_type": "code",
      "source": [
        "!pip install pandas-gbq"
      ],
      "metadata": {
        "id": "Iw8hXRPoaqcn"
      },
      "execution_count": null,
      "outputs": []
    },
    {
      "cell_type": "markdown",
      "source": [
        "BigQueryのテーブルをDataFrameに格納"
      ],
      "metadata": {
        "id": "dCT6GY-oG8b_"
      }
    },
    {
      "cell_type": "code",
      "source": [
        "import pandas as pd\n",
        "\n",
        "def get_gbq(table_id):\n",
        "  project_id='primal-buttress-342908'\n",
        "  dataset_id = 'contents'  \n",
        "  query = f'SELECT * FROM `{project_id}.{dataset_id}.{table_id}`'\n",
        "  \n",
        "  return pd.read_gbq(query, project_id, dialect='standard')"
      ],
      "metadata": {
        "id": "f-y7-xPaFmHx"
      },
      "execution_count": null,
      "outputs": []
    },
    {
      "cell_type": "markdown",
      "source": [
        "ランキングの付与"
      ],
      "metadata": {
        "id": "p6PY3OlJHGMM"
      }
    },
    {
      "cell_type": "code",
      "source": [
        "\"\"\"\n",
        "都道府県のランキングを付与する関数\n",
        "\"\"\"\n",
        "def withrank_prefecture(df_arg):\n",
        "\n",
        "  # 年度リスト、カテゴリリストの作成\n",
        "  times = list(set(df_arg['timeCode'].tolist()))\n",
        "  categories = list(set(df_arg['categoryCode'].tolist()))\n",
        "\n",
        "  # 返却するDataFrameの定義\n",
        "  df_res = pd.DataFrame(index=[], columns=[])\n",
        "\n",
        "  for time in times:\n",
        "    for category in categories:\n",
        "      df = df_arg.copy()\n",
        "      df = df[df['timeCode'] == time][df['categoryCode'] == category]\n",
        "      \n",
        "      # valueを数値に変換して、'rank'を付与\n",
        "      df = df.astype({'value': float})\n",
        "      df['rankJapan'] = df.rank(ascending=False)['value'].astype(int).astype(str)\n",
        "      \n",
        "      # 結合\n",
        "      df_res = pd.concat([df_res, df])\n",
        "  \n",
        "  return df_res"
      ],
      "metadata": {
        "id": "yIu9Z7ezHuTH"
      },
      "execution_count": null,
      "outputs": []
    },
    {
      "cell_type": "code",
      "source": [
        "table_id = 'total-population-prefecture'\n",
        "df = get_gbq(table_id)\n",
        "df_rank = withrank_prefecture(df)\n",
        "df_rank"
      ],
      "metadata": {
        "id": "DiBAM7h4ININ"
      },
      "execution_count": null,
      "outputs": []
    },
    {
      "cell_type": "code",
      "source": [
        "\"\"\"\n",
        "市区町村のランキングを付与する関数\n",
        "\"\"\"\n",
        "def withrank_city(df_arg):\n",
        "  print(f'基のDataDrameは{len(df_arg)}行')\n",
        "\n",
        "  # 年度リスト、カテゴリリストの作成\n",
        "  times = list(set(df_arg['timeCode'].tolist()))\n",
        "  categories = list(set(df_arg['categoryCode'].tolist()))\n",
        "  prefs = list(set(df_arg['prefCode'].tolist()))\n",
        "  print(prefs)\n",
        "\n",
        "  # ランキングDataFrameを作成\n",
        "  df_rank = pd.DataFrame(index=[], columns=[])\n",
        "  for time in times:\n",
        "    for category in categories:\n",
        "\n",
        "      # DataFrameの抽出\n",
        "      df = df_arg.copy()\n",
        "      df = df[df['timeCode'] == time][df['categoryCode'] == category]\n",
        "      df = df[df['bigCityFlag'] != '1']\n",
        "\n",
        "      # valueを数値に変換して、'rank'を付与\n",
        "      df = df.astype({'value': float})\n",
        "      df['rankJapan'] = df.rank(ascending=False)['value'].astype(int).astype(str)\n",
        "      \n",
        "      # 必要な列だけ結合\n",
        "      df = df[['timeCode','categoryCode','areaCode','rankJapan']]\n",
        "      df_rank = pd.concat([df_rank, df])\n",
        "  \n",
        "  # 基のDataFrameにマージ\n",
        "  df_res = df_arg.copy()\n",
        "  df_res = pd.merge(df_res, df_rank, on=['timeCode','categoryCode','areaCode'], how='left')\n",
        "\n",
        "\n",
        "  # ランキングDataFrameを作成\n",
        "  df_rank = pd.DataFrame(index=[], columns=[])\n",
        "  for time in times:\n",
        "    for category in categories:\n",
        "      for pref in prefs:\n",
        "        # DataFrameの抽出\n",
        "        df = df_arg.copy()\n",
        "        df = df[df['timeCode'] == time][df['categoryCode'] == category]\n",
        "        df = df[df['bigCityFlag'] != '1']\n",
        "        df = df[df['prefCode'] == pref]\n",
        "\n",
        "        # valueを数値に変換して、'rank'を付与\n",
        "        df = df.astype({'value': float})\n",
        "        df['rankPref'] = df.rank(ascending=False)['value'].astype(int).astype(str)\n",
        "      \n",
        "        # 必要な列だけ結合\n",
        "        df = df[['timeCode','categoryCode','areaCode','rankPref']]\n",
        "        df_rank = pd.concat([df_rank, df])\n",
        "\n",
        "  df_res = pd.merge(df_res, df_rank, on=['timeCode','categoryCode','areaCode'], how='left')\n",
        "  return df_res"
      ],
      "metadata": {
        "id": "enKb_tRETN8M"
      },
      "execution_count": null,
      "outputs": []
    },
    {
      "cell_type": "code",
      "source": [
        "table_id = 'total-population-city'\n",
        "df = get_gbq(table_id)\n",
        "df_rank = withrank_city(df)\n",
        "df_rank"
      ],
      "metadata": {
        "id": "AALpbWnFUiwY",
        "outputId": "2e8556d4-75b5-4257-e3ae-be319d32a8b7",
        "colab": {
          "base_uri": "https://localhost:8080/",
          "height": 222
        }
      },
      "execution_count": 2,
      "outputs": [
        {
          "output_type": "error",
          "ename": "NameError",
          "evalue": "ignored",
          "traceback": [
            "\u001b[0;31m---------------------------------------------------------------------------\u001b[0m",
            "\u001b[0;31mNameError\u001b[0m                                 Traceback (most recent call last)",
            "\u001b[0;32m<ipython-input-2-927f62db1cca>\u001b[0m in \u001b[0;36m<module>\u001b[0;34m\u001b[0m\n\u001b[1;32m      1\u001b[0m \u001b[0mtable_id\u001b[0m \u001b[0;34m=\u001b[0m \u001b[0;34m'total-population-city'\u001b[0m\u001b[0;34m\u001b[0m\u001b[0;34m\u001b[0m\u001b[0m\n\u001b[0;32m----> 2\u001b[0;31m \u001b[0mdf\u001b[0m \u001b[0;34m=\u001b[0m \u001b[0mget_gbq\u001b[0m\u001b[0;34m(\u001b[0m\u001b[0mtable_id\u001b[0m\u001b[0;34m)\u001b[0m\u001b[0;34m\u001b[0m\u001b[0;34m\u001b[0m\u001b[0m\n\u001b[0m\u001b[1;32m      3\u001b[0m \u001b[0mdf_rank\u001b[0m \u001b[0;34m=\u001b[0m \u001b[0mwithrank_city\u001b[0m\u001b[0;34m(\u001b[0m\u001b[0mdf\u001b[0m\u001b[0;34m)\u001b[0m\u001b[0;34m\u001b[0m\u001b[0;34m\u001b[0m\u001b[0m\n\u001b[1;32m      4\u001b[0m \u001b[0mdf_rank\u001b[0m\u001b[0;34m\u001b[0m\u001b[0;34m\u001b[0m\u001b[0m\n",
            "\u001b[0;31mNameError\u001b[0m: name 'get_gbq' is not defined"
          ]
        }
      ]
    },
    {
      "cell_type": "code",
      "source": [
        "from google.cloud import bigquery\n",
        "from google.cloud.exceptions import NotFound\n",
        "\n",
        "# 統計カード一覧を取得\n",
        "with open('/content/drive/MyDrive/statistics-hyogo/contents/statistics-cards.json') as j:\n",
        "  cardlist = json.load(j)\n",
        "\n",
        "for card in cardlist:\n",
        "\n",
        "  # BigQueryのテーブル定義\n",
        "  project_id='primal-buttress-342908'\n",
        "  dataset_id = 'contents'\n",
        "  table_id= card['cardId']\n",
        "\n",
        "  client = bigquery.Client()\n",
        "\n",
        "  try:\n",
        "    client.get_table(f'{project_id}.{dataset_id}.{table_id}')  \n",
        "    print(\"Table {} already exists.\".format(table_id))\n",
        "\n",
        "  except NotFound:\n",
        "    estatParams = card['estatParams']\n",
        "    governmentType = card['governmentType']\n",
        "    # print(governmentType)\n",
        "\n",
        "    df = get_estat_dataframe(estatParams)\n",
        "\n",
        "    if governmentType == 'prefecture':\n",
        "      df = withrank_prefecture(df)\n",
        "      print(f'{table_id}のデータを作成しています')\n",
        "      print(estatParams)\n",
        "    else:\n",
        "      df = withrank_city(df)\n",
        "    \n",
        "    df.to_gbq(f'{dataset_id}.{table_id}', project_id=project_id, if_exists=\"replace\")\n",
        "    \n",
        "    print(estatParams)\n",
        "    print(f'{table_id}を保存しました')\n",
        "\n"
      ],
      "metadata": {
        "id": "b8maJe5ZYQ8C"
      },
      "execution_count": null,
      "outputs": []
    }
  ],
  "metadata": {
    "colab": {
      "collapsed_sections": [],
      "toc_visible": true,
      "provenance": []
    },
    "gpuClass": "standard",
    "kernelspec": {
      "display_name": "Python 3",
      "name": "python3"
    }
  },
  "nbformat": 4,
  "nbformat_minor": 0
}