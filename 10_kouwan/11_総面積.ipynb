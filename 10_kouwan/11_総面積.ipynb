{
  "nbformat": 4,
  "nbformat_minor": 0,
  "metadata": {
    "colab": {
      "provenance": [],
      "toc_visible": true,
      "authorship_tag": "ABX9TyPeOxX5x7kgOI+3UHVVbcqD"
    },
    "kernelspec": {
      "name": "python3",
      "display_name": "Python 3"
    },
    "language_info": {
      "name": "python"
    }
  },
  "cells": [
    {
      "cell_type": "code",
      "execution_count": null,
      "metadata": {
        "id": "w0mfyXmqk8Ku"
      },
      "outputs": [],
      "source": [
        "pip install contentful"
      ]
    },
    {
      "cell_type": "code",
      "source": [
        "CTF_SPACE_ID='kg2cianb49uf'\n",
        "CTF_ACCESS_TOKEN='unkkBwsQP3K7qaFKRlTqvPqspLAjPWCaUOEtiTn_Jzo'"
      ],
      "metadata": {
        "id": "knNopLbsnNrE"
      },
      "execution_count": null,
      "outputs": []
    },
    {
      "cell_type": "code",
      "source": [
        "import contentful\n",
        "import json\n",
        "client = contentful.Client(CTF_SPACE_ID, CTF_ACCESS_TOKEN)\n",
        "fields = client.entries({'content_type': 'statisticsField'})\n",
        "\n",
        "for field in fields:\n",
        "  field_id = field.fields()['field_id']\n",
        "  print(field_id)\n",
        "\n",
        "# print(client.entries({'content_type': 'statisticsField'}))"
      ],
      "metadata": {
        "colab": {
          "base_uri": "https://localhost:8080/"
        },
        "id": "my1bO4EYnXkK",
        "outputId": "5df6f1ab-8cb3-4781-f49e-227f59d675e2"
      },
      "execution_count": null,
      "outputs": [
        {
          "output_type": "stream",
          "name": "stdout",
          "text": [
            "economy\n",
            "administrativefinancial\n",
            "population\n",
            "safetyenvironment\n",
            "educationsports\n",
            "tourism\n",
            "energy\n",
            "miningindustry\n",
            "agriculture\n",
            "landweather\n",
            "construction\n",
            "international\n",
            "socialsecurity\n",
            "commercial\n",
            "laborwage\n"
          ]
        }
      ]
    },
    {
      "cell_type": "markdown",
      "source": [],
      "metadata": {
        "id": "3YQ2s44fqA1V"
      }
    },
    {
      "cell_type": "markdown",
      "source": [
        "# estatCart一覧"
      ],
      "metadata": {
        "id": "DMzHNnHVqBbQ"
      }
    },
    {
      "cell_type": "code",
      "source": [
        "cards = client.entries({'content_type': 'estatCardConfig'})\n",
        "\n",
        "for card in cards:\n",
        "  governmentType = card.fields()['government_type']\n",
        "  params = card.fields()['estat_params']\n",
        "  print(governmentType,params)"
      ],
      "metadata": {
        "colab": {
          "base_uri": "https://localhost:8080/"
        },
        "id": "aVjkoIyuqAdk",
        "outputId": "325e60ba-2d2d-4694-9b23-a9f575aaad62"
      },
      "execution_count": null,
      "outputs": [
        {
          "output_type": "stream",
          "name": "stdout",
          "text": [
            "prefecture {'cdCat01': ['A1101', 'A110101', 'A110102'], 'statsDataId': '0000010101'}\n",
            "prefecture {'cdCat01': ['A3200', 'A3201', 'A3202', 'A3203', 'A3204'], 'statsDataId': '0000010101'}\n",
            "prefecture {'statsDataId': '0000010103', 'cdCat01': ['C121101']}\n",
            "prefecture {'cdCat01': ['C6201', 'C620101', 'C620105', 'C620106', 'C620107', 'C620108', 'C620109', 'C620110', 'C620111', 'C620112', 'C620113', 'C620114', 'C620115', 'C620116', 'C620117', 'C620118', 'C620119', 'C620120', 'C620121', 'C620122'], 'statsDataId': '0000010103'}\n",
            "prefecture {'cdCat01': ['C2201', 'C2206', 'C2204', 'C2205'], 'statsDataId': '0000010103'}\n",
            "prefecture {'cdCat01': ['C2101', 'C2106', 'C2104', 'C2105'], 'statsDataId': '0000010103'}\n",
            "prefecture {'statsDataId': '0000010104', 'cdCat01': ['D1203']}\n",
            "prefecture {'statsDataId': '0000010104', 'cdCat01': ['D1204']}\n",
            "prefecture {'statsDataId': '0000010104', 'cdCat01': ['D1210']}\n",
            "prefecture {'statsDataId': '0000010104', 'cdCat01': ['D1205']}\n",
            "city {'cdCat01': ['C120110'], 'statsDataId': '0000020203'}\n",
            "prefecture {'cdCat01': ['C1413', 'C141301', 'C141302'], 'statsDataId': '0000010103'}\n",
            "prefecture {'cdCat01': ['A1602021', 'A1602022', 'A1602031', 'A1602032', 'A1602041', 'A1602042', 'A1602051', 'A1602052', 'A1602061', 'A1602062', 'A1602071', 'A1602072', 'A1602081', 'A1602082', 'A1602091', 'A1602092', 'A1602101', 'A1602102', 'A1602111', 'A1602112', 'A1602121', 'A1602122', 'A1602131', 'A1602132', 'A1602141', 'A1602142', 'A1602151', 'A1602152'], 'statsDataId': '0000010101'}\n",
            "prefecture {'cdCat01': ['A1601021', 'A1601022', 'A1601031', 'A1601032', 'A1601041', 'A1601042', 'A1601051', 'A1601052', 'A1601061', 'A1601062', 'A1601071', 'A1601072', 'A1601081', 'A1601082', 'A1601091', 'A1601092', 'A1601101', 'A1601102', 'A1601111', 'A1601112', 'A1601121', 'A1601122', 'A1601131', 'A1601132', 'A1601141', 'A1601142', 'A1601151', 'A1601152'], 'statsDataId': '0000010101'}\n",
            "prefecture {'cdCat01': ['A1604031', 'A1604032', 'A1604041', 'A1604042', 'A1604051', 'A1604052', 'A1604061', 'A1604062', 'A1604071', 'A1604072', 'A1604081', 'A1604082', 'A1604091', 'A1604092', 'A1604101', 'A1604102', 'A1604111', 'A1604112', 'A1604121', 'A1604122', 'A1604131', 'A1604132', 'A1604141', 'A1604142', 'A1604151', 'A1604152'], 'statsDataId': '0000010101'}\n",
            "prefecture {'cdCat01': ['A9111', 'A9112'], 'statsDataId': '0000010101'}\n",
            "prefecture {'cdCat01': ['A9201'], 'statsDataId': '0000010101'}\n",
            "prefecture {'cdCat01': ['A9101'], 'statsDataId': '0000010101'}\n",
            "prefecture {'cdCat01': ['A8401', 'A840101', 'A840102', 'A840103'], 'statsDataId': '0000010101'}\n",
            "prefecture {'cdCat01': ['A710101'], 'statsDataId': '0000010101'}\n",
            "prefecture {'cdCat01': ['A4301'], 'statsDataId': '0000010101'}\n",
            "prefecture {'cdCat01': ['A424001', 'A424002'], 'statsDataId': '0000010101'}\n",
            "prefecture {'cdCat01': ['A4270', 'A427001'], 'statsDataId': '0000010101'}\n",
            "prefecture {'cdCat01': ['A4200', 'A420001', 'A420002'], 'statsDataId': '0000010101'}\n",
            "prefecture {'cdCat01': ['A4101', 'A410101', 'A410102'], 'statsDataId': '0000010101'}\n",
            "prefecture {'cdCat01': ['A4103'], 'statsDataId': '0000010101'}\n",
            "prefecture {'cdCat01': ['A6104', 'A610401', 'A610402'], 'statsDataId': '0000010101'}\n",
            "prefecture {'cdCat01': ['A6104', 'A610401', 'A610402'], 'statsDataId': '0000010101'}\n",
            "prefecture {'cdCat01': ['A6106', 'A610601', 'A610602'], 'statsDataId': '0000010101'}\n",
            "prefecture {'cdCat01': ['A6106', 'A610601', 'A610602'], 'statsDataId': '0000010101'}\n",
            "prefecture {'cdCat01': ['A5101', 'A510101', 'A510102'], 'statsDataId': '0000010101'}\n",
            "prefecture {'cdCat01': ['A5102', 'A510201', 'A510202'], 'statsDataId': '0000010101'}\n",
            "prefecture {'cdCat01': ['L450201'], 'statsDataId': '0000010112'}\n",
            "prefecture {'cdCat01': ['L450101'], 'statsDataId': '0000010112'}\n",
            "city {'cdCat01': ['D2203'], 'statsDataId': '0000020204'}\n",
            "city {'cdCat01': ['D2202'], 'statsDataId': '0000020204'}\n",
            "city {'cdCat01': ['D2201'], 'statsDataId': '0000020204'}\n",
            "prefecture {'cdCat01': ['D2105'], 'statsDataId': '0000010104'}\n",
            "prefecture {'cdCat01': ['D2106'], 'statsDataId': '0000010104'}\n",
            "prefecture {'cdCat01': ['D2111'], 'statsDataId': '0000010104'}\n",
            "prefecture {'cdCat01': ['D2102'], 'statsDataId': '0000010104'}\n",
            "prefecture {'cdCat01': ['D2103'], 'statsDataId': '0000010104'}\n",
            "prefecture {'cdCat01': ['D2112'], 'statsDataId': '0000010104'}\n",
            "prefecture {'cdCat01': ['D2101'], 'statsDataId': '0000010104'}\n",
            "prefecture {'cdCat01': ['K6107', 'K6108'], 'statsDataId': '0000010111'}\n",
            "prefecture {'cdCat01': ['K4401'], 'statsDataId': '0000010111'}\n",
            "prefecture {'cdCat01': ['K4402'], 'statsDataId': '0000010111'}\n",
            "prefecture {'cdCat01': ['K3301', 'K3302'], 'statsDataId': '0000010111'}\n",
            "prefecture {'cdCat01': ['K3303', 'K3304'], 'statsDataId': '0000010111'}\n",
            "prefecture {'cdCat01': ['K330501', 'K330502', 'K330503', 'K330504'], 'statsDataId': '0000010111'}\n",
            "prefecture {'cdCat01': ['K2109', 'K2110', 'K2111'], 'statsDataId': '0000010111'}\n",
            "prefecture {'cdCat01': ['K2213', 'K2215'], 'statsDataId': '0000010111'}\n",
            "prefecture {'cdCat01': ['K2209', 'K2211'], 'statsDataId': '0000010111'}\n",
            "prefecture {'cdCat01': ['K2105', 'K2106'], 'statsDataId': '0000010111'}\n",
            "prefecture {'cdCat01': ['K2101', 'K2102'], 'statsDataId': '0000010111'}\n",
            "prefecture {'cdCat01': ['K1210'], 'statsDataId': '0000010111'}\n",
            "prefecture {'cdCat01': ['K1201'], 'statsDataId': '0000010111'}\n",
            "prefecture {'cdCat01': ['K1104', 'K110401', 'K110402', 'K1105'], 'statsDataId': '0000010111'}\n",
            "prefecture {'cdCat01': ['K1101'], 'statsDataId': '0000010111'}\n",
            "prefecture {'cdCat01': ['K4703'], 'statsDataId': '0000010111'}\n",
            "prefecture {'cdCat01': ['K4701'], 'statsDataId': '0000010111'}\n",
            "prefecture {'cdCat01': ['K4702'], 'statsDataId': '0000010111'}\n",
            "prefecture {'cdCat01': ['K4301', 'K4302'], 'statsDataId': '0000010111'}\n",
            "prefecture {'cdCat01': ['K4305', 'K4306'], 'statsDataId': '0000010111'}\n",
            "prefecture {'cdCat01': ['K8101', 'K8102'], 'statsDataId': '0000010111'}\n",
            "prefecture {'cdCat01': ['K5113', 'K5114'], 'statsDataId': '0000010111'}\n",
            "prefecture {'cdCat01': ['K5112'], 'statsDataId': '0000010111'}\n",
            "prefecture {'cdCat01': ['K5115', 'K5116'], 'statsDataId': '0000010111'}\n",
            "prefecture {'statsDataId': '0000010111', 'cdCat01': ['K6106']}\n",
            "prefecture {'cdCat01': ['K6103', 'K610301', 'K610302', 'K610303', 'K610304', 'K610305', 'K610306', 'K610307'], 'statsDataId': '0000010111'}\n",
            "prefecture {'cdCat01': ['K6101', 'K610101', 'K610102'], 'statsDataId': '0000010111'}\n",
            "prefecture {'cdCat01': ['K4803', 'K480301', 'K480302'], 'statsDataId': '0000010111'}\n",
            "prefecture {'cdCat01': ['J4108'], 'statsDataId': '0000010110'}\n",
            "prefecture {'cdCat01': ['J2301'], 'statsDataId': '0000020210'}\n",
            "prefecture {'cdCat01': ['J4108'], 'statsDataId': '0000020210'}\n",
            "prefecture {'cdCat01': ['J4001'], 'statsDataId': '0000010110'}\n",
            "prefecture {'cdCat01': ['J2301'], 'statsDataId': '0000010110'}\n",
            "city {'cdCat01': ['E1101'], 'statsDataId': '0000020205'}\n",
            "prefecture {'cdCat01': ['E1301', 'E130101', 'E130102'], 'statsDataId': '0000010105'}\n",
            "prefecture {'cdCat01': ['E1501', 'E150104', 'E150105'], 'statsDataId': '0000010105'}\n",
            "prefecture {'cdCat01': ['E1101'], 'statsDataId': '0000010105'}\n",
            "prefecture {'cdCat01': ['E2501', 'E250104', 'E250105'], 'statsDataId': '0000010105'}\n",
            "prefecture {'cdCat01': ['E2401', 'E240101', 'E240102'], 'statsDataId': '0000010105'}\n",
            "prefecture {'cdCat01': ['K3504', 'K3505'], 'statsDataId': '0000010111'}\n",
            "prefecture {'cdCat01': ['K3501', 'K3502', 'K3503'], 'statsDataId': '0000010111'}\n",
            "prefecture {'cdCat01': ['C3801', 'C3802'], 'statsDataId': '0000010103'}\n",
            "prefecture {'cdCat01': ['H5206'], 'statsDataId': '0000010108'}\n",
            "prefecture {'cdCat01': ['H5105'], 'statsDataId': '0000010108'}\n",
            "prefecture {'cdCat01': ['H5104'], 'statsDataId': '0000010108'}\n",
            "prefecture {'cdCat01': ['H5205'], 'statsDataId': '0000010108'}\n",
            "prefecture {'cdCat01': ['C3406', 'C340601', 'C340602'], 'statsDataId': '0000010103'}\n",
            "prefecture {'cdCat01': ['C3122', 'C312201', 'C312202'], 'statsDataId': '0000010103'}\n",
            "prefecture {'cdCat01': ['F1301'], 'statsDataId': '0000010106'}\n",
            "prefecture {'cdCat01': ['C3107', 'C310701', 'C310702'], 'statsDataId': '0000010103'}\n",
            "prefecture {'cdCat01': ['C3114'], 'statsDataId': '0000010103'}\n",
            "prefecture {'cdCat01': ['F1302', 'F130201', 'F130202'], 'statsDataId': '0000010106'}\n",
            "prefecture {'cdCat01': ['C3120', 'C312001', 'C312002'], 'statsDataId': '0000010103'}\n",
            "prefecture {'cdCat01': ['C3109'], 'statsDataId': '0000010103'}\n",
            "city {'cdCat01': ['C3101'], 'statsDataId': '0000020203'}\n",
            "prefecture {'cdCat01': ['C3108'], 'statsDataId': '0000010103'}\n"
          ]
        }
      ]
    }
  ]
}