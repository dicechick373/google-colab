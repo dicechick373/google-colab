{
  "cells": [
    {
      "cell_type": "markdown",
      "metadata": {
        "id": "inrYQThZlUDa"
      },
      "source": [
        "# 実行環境の作成"
      ]
    },
    {
      "cell_type": "markdown",
      "metadata": {
        "id": "BDMnnS3RVrkF"
      },
      "source": [
        "## GCP認証"
      ]
    },
    {
      "cell_type": "markdown",
      "metadata": {
        "id": "SsgiSjKhV2D7"
      },
      "source": [
        "下記コードでGCPに接続"
      ]
    },
    {
      "cell_type": "code",
      "execution_count": 1,
      "metadata": {
        "id": "GKiUkM7SV0bY"
      },
      "outputs": [],
      "source": [
        "from google.colab import auth\n",
        "auth.authenticate_user()"
      ]
    },
    {
      "cell_type": "markdown",
      "source": [
        "認証に成功したらgcsfuseをインストール"
      ],
      "metadata": {
        "id": "enYr9pN-93Rt"
      }
    },
    {
      "cell_type": "code",
      "source": [
        "!echo \"deb http://packages.cloud.google.com/apt gcsfuse-`lsb_release -c -s` main\" | sudo tee /etc/apt/sources.list.d/gcsfuse.list\n",
        "!curl https://packages.cloud.google.com/apt/doc/apt-key.gpg | sudo apt-key add -\n",
        "!apt-get -y -q update\n",
        "!apt-get -y -q install gcsfuse"
      ],
      "metadata": {
        "id": "AFwTrIW490Kc"
      },
      "execution_count": null,
      "outputs": []
    },
    {
      "cell_type": "markdown",
      "source": [
        "バケット「statistics-hyogo」をディレクトリ「statistics-hyogo」にマウント"
      ],
      "metadata": {
        "id": "6-30LHij9-Mg"
      }
    },
    {
      "cell_type": "code",
      "source": [
        "! mkdir -p statistics-japan\n",
        "! gcsfuse --implicit-dirs --limit-bytes-per-sec -1 --limit-ops-per-sec -1 statistics-japan statistics-japan"
      ],
      "metadata": {
        "id": "eoN0BsSJ95Vy"
      },
      "execution_count": null,
      "outputs": []
    },
    {
      "cell_type": "markdown",
      "source": [
        "## ライブラリ"
      ],
      "metadata": {
        "id": "3NqeMResAOUm"
      }
    },
    {
      "cell_type": "code",
      "source": [
        "!pip install simplejson"
      ],
      "metadata": {
        "id": "FkZ5-UYozzEX"
      },
      "execution_count": null,
      "outputs": []
    },
    {
      "cell_type": "markdown",
      "source": [
        "# GBQからデータ取得"
      ],
      "metadata": {
        "id": "hyTzPL10eZU0"
      }
    },
    {
      "cell_type": "markdown",
      "source": [
        "## テーブルデータ取得"
      ],
      "metadata": {
        "id": "XAqEoJ5dgb9a"
      }
    },
    {
      "cell_type": "code",
      "source": [
        "from google.cloud import bigquery\n",
        "\n",
        "def get_estat_origin(table_id):\n",
        "  project_id='primal-buttress-342908'\n",
        "  dataset_id = 'estat_ranking'\n",
        "  client = bigquery.Client(project=project_id)\n",
        "\n",
        "  query_string = f'SELECT * FROM {dataset_id}.{table_id}'\n",
        "\n",
        "  return client.query(query_string).result().to_dataframe()"
      ],
      "metadata": {
        "id": "ry5biVu7gjNU"
      },
      "execution_count": 3,
      "outputs": []
    },
    {
      "cell_type": "code",
      "source": [
        "table_id = '0000010101_A1101'\n",
        "get_estat_origin(table_id).head()"
      ],
      "metadata": {
        "colab": {
          "base_uri": "https://localhost:8080/",
          "height": 206
        },
        "id": "iAsfjE59gbJE",
        "outputId": "340faf78-1770-406b-e325-073b0f86a4df"
      },
      "execution_count": 4,
      "outputs": [
        {
          "output_type": "execute_result",
          "data": {
            "text/plain": [
              "   index categoryCode areaCode    timeCode    value unit categoryName  \\\n",
              "0     45        A1101    01000  1975100000  5338206    人          総人口   \n",
              "1     46        A1101    01000  1976100000  5395000    人          総人口   \n",
              "2     47        A1101    01000  1977100000  5443000    人          総人口   \n",
              "3     48        A1101    01000  1978100000  5490000    人          総人口   \n",
              "4     49        A1101    01000  1979100000  5535000    人          総人口   \n",
              "\n",
              "  areaName timeName  rankJapan  \n",
              "0      北海道   1975年度          5  \n",
              "1      北海道   1976年度          5  \n",
              "2      北海道   1977年度          5  \n",
              "3      北海道   1978年度          5  \n",
              "4      北海道   1979年度          5  "
            ],
            "text/html": [
              "\n",
              "  <div id=\"df-25883a15-f8f9-4bb9-8850-231dd3767b1b\">\n",
              "    <div class=\"colab-df-container\">\n",
              "      <div>\n",
              "<style scoped>\n",
              "    .dataframe tbody tr th:only-of-type {\n",
              "        vertical-align: middle;\n",
              "    }\n",
              "\n",
              "    .dataframe tbody tr th {\n",
              "        vertical-align: top;\n",
              "    }\n",
              "\n",
              "    .dataframe thead th {\n",
              "        text-align: right;\n",
              "    }\n",
              "</style>\n",
              "<table border=\"1\" class=\"dataframe\">\n",
              "  <thead>\n",
              "    <tr style=\"text-align: right;\">\n",
              "      <th></th>\n",
              "      <th>index</th>\n",
              "      <th>categoryCode</th>\n",
              "      <th>areaCode</th>\n",
              "      <th>timeCode</th>\n",
              "      <th>value</th>\n",
              "      <th>unit</th>\n",
              "      <th>categoryName</th>\n",
              "      <th>areaName</th>\n",
              "      <th>timeName</th>\n",
              "      <th>rankJapan</th>\n",
              "    </tr>\n",
              "  </thead>\n",
              "  <tbody>\n",
              "    <tr>\n",
              "      <th>0</th>\n",
              "      <td>45</td>\n",
              "      <td>A1101</td>\n",
              "      <td>01000</td>\n",
              "      <td>1975100000</td>\n",
              "      <td>5338206</td>\n",
              "      <td>人</td>\n",
              "      <td>総人口</td>\n",
              "      <td>北海道</td>\n",
              "      <td>1975年度</td>\n",
              "      <td>5</td>\n",
              "    </tr>\n",
              "    <tr>\n",
              "      <th>1</th>\n",
              "      <td>46</td>\n",
              "      <td>A1101</td>\n",
              "      <td>01000</td>\n",
              "      <td>1976100000</td>\n",
              "      <td>5395000</td>\n",
              "      <td>人</td>\n",
              "      <td>総人口</td>\n",
              "      <td>北海道</td>\n",
              "      <td>1976年度</td>\n",
              "      <td>5</td>\n",
              "    </tr>\n",
              "    <tr>\n",
              "      <th>2</th>\n",
              "      <td>47</td>\n",
              "      <td>A1101</td>\n",
              "      <td>01000</td>\n",
              "      <td>1977100000</td>\n",
              "      <td>5443000</td>\n",
              "      <td>人</td>\n",
              "      <td>総人口</td>\n",
              "      <td>北海道</td>\n",
              "      <td>1977年度</td>\n",
              "      <td>5</td>\n",
              "    </tr>\n",
              "    <tr>\n",
              "      <th>3</th>\n",
              "      <td>48</td>\n",
              "      <td>A1101</td>\n",
              "      <td>01000</td>\n",
              "      <td>1978100000</td>\n",
              "      <td>5490000</td>\n",
              "      <td>人</td>\n",
              "      <td>総人口</td>\n",
              "      <td>北海道</td>\n",
              "      <td>1978年度</td>\n",
              "      <td>5</td>\n",
              "    </tr>\n",
              "    <tr>\n",
              "      <th>4</th>\n",
              "      <td>49</td>\n",
              "      <td>A1101</td>\n",
              "      <td>01000</td>\n",
              "      <td>1979100000</td>\n",
              "      <td>5535000</td>\n",
              "      <td>人</td>\n",
              "      <td>総人口</td>\n",
              "      <td>北海道</td>\n",
              "      <td>1979年度</td>\n",
              "      <td>5</td>\n",
              "    </tr>\n",
              "  </tbody>\n",
              "</table>\n",
              "</div>\n",
              "      <button class=\"colab-df-convert\" onclick=\"convertToInteractive('df-25883a15-f8f9-4bb9-8850-231dd3767b1b')\"\n",
              "              title=\"Convert this dataframe to an interactive table.\"\n",
              "              style=\"display:none;\">\n",
              "        \n",
              "  <svg xmlns=\"http://www.w3.org/2000/svg\" height=\"24px\"viewBox=\"0 0 24 24\"\n",
              "       width=\"24px\">\n",
              "    <path d=\"M0 0h24v24H0V0z\" fill=\"none\"/>\n",
              "    <path d=\"M18.56 5.44l.94 2.06.94-2.06 2.06-.94-2.06-.94-.94-2.06-.94 2.06-2.06.94zm-11 1L8.5 8.5l.94-2.06 2.06-.94-2.06-.94L8.5 2.5l-.94 2.06-2.06.94zm10 10l.94 2.06.94-2.06 2.06-.94-2.06-.94-.94-2.06-.94 2.06-2.06.94z\"/><path d=\"M17.41 7.96l-1.37-1.37c-.4-.4-.92-.59-1.43-.59-.52 0-1.04.2-1.43.59L10.3 9.45l-7.72 7.72c-.78.78-.78 2.05 0 2.83L4 21.41c.39.39.9.59 1.41.59.51 0 1.02-.2 1.41-.59l7.78-7.78 2.81-2.81c.8-.78.8-2.07 0-2.86zM5.41 20L4 18.59l7.72-7.72 1.47 1.35L5.41 20z\"/>\n",
              "  </svg>\n",
              "      </button>\n",
              "      \n",
              "  <style>\n",
              "    .colab-df-container {\n",
              "      display:flex;\n",
              "      flex-wrap:wrap;\n",
              "      gap: 12px;\n",
              "    }\n",
              "\n",
              "    .colab-df-convert {\n",
              "      background-color: #E8F0FE;\n",
              "      border: none;\n",
              "      border-radius: 50%;\n",
              "      cursor: pointer;\n",
              "      display: none;\n",
              "      fill: #1967D2;\n",
              "      height: 32px;\n",
              "      padding: 0 0 0 0;\n",
              "      width: 32px;\n",
              "    }\n",
              "\n",
              "    .colab-df-convert:hover {\n",
              "      background-color: #E2EBFA;\n",
              "      box-shadow: 0px 1px 2px rgba(60, 64, 67, 0.3), 0px 1px 3px 1px rgba(60, 64, 67, 0.15);\n",
              "      fill: #174EA6;\n",
              "    }\n",
              "\n",
              "    [theme=dark] .colab-df-convert {\n",
              "      background-color: #3B4455;\n",
              "      fill: #D2E3FC;\n",
              "    }\n",
              "\n",
              "    [theme=dark] .colab-df-convert:hover {\n",
              "      background-color: #434B5C;\n",
              "      box-shadow: 0px 1px 3px 1px rgba(0, 0, 0, 0.15);\n",
              "      filter: drop-shadow(0px 1px 2px rgba(0, 0, 0, 0.3));\n",
              "      fill: #FFFFFF;\n",
              "    }\n",
              "  </style>\n",
              "\n",
              "      <script>\n",
              "        const buttonEl =\n",
              "          document.querySelector('#df-25883a15-f8f9-4bb9-8850-231dd3767b1b button.colab-df-convert');\n",
              "        buttonEl.style.display =\n",
              "          google.colab.kernel.accessAllowed ? 'block' : 'none';\n",
              "\n",
              "        async function convertToInteractive(key) {\n",
              "          const element = document.querySelector('#df-25883a15-f8f9-4bb9-8850-231dd3767b1b');\n",
              "          const dataTable =\n",
              "            await google.colab.kernel.invokeFunction('convertToInteractive',\n",
              "                                                     [key], {});\n",
              "          if (!dataTable) return;\n",
              "\n",
              "          const docLinkHtml = 'Like what you see? Visit the ' +\n",
              "            '<a target=\"_blank\" href=https://colab.research.google.com/notebooks/data_table.ipynb>data table notebook</a>'\n",
              "            + ' to learn more about interactive tables.';\n",
              "          element.innerHTML = '';\n",
              "          dataTable['output_type'] = 'display_data';\n",
              "          await google.colab.output.renderOutput(dataTable, element);\n",
              "          const docLink = document.createElement('div');\n",
              "          docLink.innerHTML = docLinkHtml;\n",
              "          element.appendChild(docLink);\n",
              "        }\n",
              "      </script>\n",
              "    </div>\n",
              "  </div>\n",
              "  "
            ]
          },
          "metadata": {},
          "execution_count": 4
        }
      ]
    },
    {
      "cell_type": "markdown",
      "source": [
        "## テーブルデータを結合"
      ],
      "metadata": {
        "id": "ICBlIZ22nnmL"
      }
    },
    {
      "cell_type": "code",
      "source": [
        "card = {\n",
        "    'cardId': 'total-population',\n",
        "    'categories': [\n",
        "        { '総数' : '0000010101_A1101' },\n",
        "        { '男性' : '0000010101_A110101' },\n",
        "        { '女性' : '0000010101_A110102' },\n",
        "    ]\n",
        "}"
      ],
      "metadata": {
        "id": "7eQVMynVnslt"
      },
      "execution_count": 39,
      "outputs": []
    },
    {
      "cell_type": "code",
      "source": [
        "import pandas as pd\n",
        "\n",
        "def df_data(card):\n",
        "  \n",
        "  # 返却するDataFrameの定義\n",
        "  df_res = pd.DataFrame(index=[], columns=[])\n",
        "\n",
        "  # 結合\n",
        "  for c in card['categories']:\n",
        "    df = get_estat_origin(list(c.values())[0])\n",
        "    df['categoryName'] = list(c.keys())[0]\n",
        "    df['timeCode'] = df.apply(lambda x: x['timeCode'][:4], 1)\n",
        "    df = df.drop('index', axis=1)\n",
        "\n",
        "    df_res = pd.concat([df_res, df])\n",
        "  \n",
        "  return df_res"
      ],
      "metadata": {
        "id": "If4prg-RznHN"
      },
      "execution_count": 56,
      "outputs": []
    },
    {
      "cell_type": "code",
      "source": [
        "df_data(card).head()"
      ],
      "metadata": {
        "id": "_FyBmQgSzzKi",
        "outputId": "32a6084e-698c-4568-a93f-da4fa7ef84e3",
        "colab": {
          "base_uri": "https://localhost:8080/",
          "height": 206
        }
      },
      "execution_count": 57,
      "outputs": [
        {
          "output_type": "execute_result",
          "data": {
            "text/plain": [
              "  categoryCode areaCode timeCode    value unit categoryName areaName timeName  \\\n",
              "0        A1101    01000     1975  5338206    人           総数      北海道   1975年度   \n",
              "1        A1101    01000     1976  5395000    人           総数      北海道   1976年度   \n",
              "2        A1101    01000     1977  5443000    人           総数      北海道   1977年度   \n",
              "3        A1101    01000     1978  5490000    人           総数      北海道   1978年度   \n",
              "4        A1101    01000     1979  5535000    人           総数      北海道   1979年度   \n",
              "\n",
              "   rankJapan  \n",
              "0          5  \n",
              "1          5  \n",
              "2          5  \n",
              "3          5  \n",
              "4          5  "
            ],
            "text/html": [
              "\n",
              "  <div id=\"df-1b1b587e-629c-4cfd-962f-e43711f3f3a6\">\n",
              "    <div class=\"colab-df-container\">\n",
              "      <div>\n",
              "<style scoped>\n",
              "    .dataframe tbody tr th:only-of-type {\n",
              "        vertical-align: middle;\n",
              "    }\n",
              "\n",
              "    .dataframe tbody tr th {\n",
              "        vertical-align: top;\n",
              "    }\n",
              "\n",
              "    .dataframe thead th {\n",
              "        text-align: right;\n",
              "    }\n",
              "</style>\n",
              "<table border=\"1\" class=\"dataframe\">\n",
              "  <thead>\n",
              "    <tr style=\"text-align: right;\">\n",
              "      <th></th>\n",
              "      <th>categoryCode</th>\n",
              "      <th>areaCode</th>\n",
              "      <th>timeCode</th>\n",
              "      <th>value</th>\n",
              "      <th>unit</th>\n",
              "      <th>categoryName</th>\n",
              "      <th>areaName</th>\n",
              "      <th>timeName</th>\n",
              "      <th>rankJapan</th>\n",
              "    </tr>\n",
              "  </thead>\n",
              "  <tbody>\n",
              "    <tr>\n",
              "      <th>0</th>\n",
              "      <td>A1101</td>\n",
              "      <td>01000</td>\n",
              "      <td>1975</td>\n",
              "      <td>5338206</td>\n",
              "      <td>人</td>\n",
              "      <td>総数</td>\n",
              "      <td>北海道</td>\n",
              "      <td>1975年度</td>\n",
              "      <td>5</td>\n",
              "    </tr>\n",
              "    <tr>\n",
              "      <th>1</th>\n",
              "      <td>A1101</td>\n",
              "      <td>01000</td>\n",
              "      <td>1976</td>\n",
              "      <td>5395000</td>\n",
              "      <td>人</td>\n",
              "      <td>総数</td>\n",
              "      <td>北海道</td>\n",
              "      <td>1976年度</td>\n",
              "      <td>5</td>\n",
              "    </tr>\n",
              "    <tr>\n",
              "      <th>2</th>\n",
              "      <td>A1101</td>\n",
              "      <td>01000</td>\n",
              "      <td>1977</td>\n",
              "      <td>5443000</td>\n",
              "      <td>人</td>\n",
              "      <td>総数</td>\n",
              "      <td>北海道</td>\n",
              "      <td>1977年度</td>\n",
              "      <td>5</td>\n",
              "    </tr>\n",
              "    <tr>\n",
              "      <th>3</th>\n",
              "      <td>A1101</td>\n",
              "      <td>01000</td>\n",
              "      <td>1978</td>\n",
              "      <td>5490000</td>\n",
              "      <td>人</td>\n",
              "      <td>総数</td>\n",
              "      <td>北海道</td>\n",
              "      <td>1978年度</td>\n",
              "      <td>5</td>\n",
              "    </tr>\n",
              "    <tr>\n",
              "      <th>4</th>\n",
              "      <td>A1101</td>\n",
              "      <td>01000</td>\n",
              "      <td>1979</td>\n",
              "      <td>5535000</td>\n",
              "      <td>人</td>\n",
              "      <td>総数</td>\n",
              "      <td>北海道</td>\n",
              "      <td>1979年度</td>\n",
              "      <td>5</td>\n",
              "    </tr>\n",
              "  </tbody>\n",
              "</table>\n",
              "</div>\n",
              "      <button class=\"colab-df-convert\" onclick=\"convertToInteractive('df-1b1b587e-629c-4cfd-962f-e43711f3f3a6')\"\n",
              "              title=\"Convert this dataframe to an interactive table.\"\n",
              "              style=\"display:none;\">\n",
              "        \n",
              "  <svg xmlns=\"http://www.w3.org/2000/svg\" height=\"24px\"viewBox=\"0 0 24 24\"\n",
              "       width=\"24px\">\n",
              "    <path d=\"M0 0h24v24H0V0z\" fill=\"none\"/>\n",
              "    <path d=\"M18.56 5.44l.94 2.06.94-2.06 2.06-.94-2.06-.94-.94-2.06-.94 2.06-2.06.94zm-11 1L8.5 8.5l.94-2.06 2.06-.94-2.06-.94L8.5 2.5l-.94 2.06-2.06.94zm10 10l.94 2.06.94-2.06 2.06-.94-2.06-.94-.94-2.06-.94 2.06-2.06.94z\"/><path d=\"M17.41 7.96l-1.37-1.37c-.4-.4-.92-.59-1.43-.59-.52 0-1.04.2-1.43.59L10.3 9.45l-7.72 7.72c-.78.78-.78 2.05 0 2.83L4 21.41c.39.39.9.59 1.41.59.51 0 1.02-.2 1.41-.59l7.78-7.78 2.81-2.81c.8-.78.8-2.07 0-2.86zM5.41 20L4 18.59l7.72-7.72 1.47 1.35L5.41 20z\"/>\n",
              "  </svg>\n",
              "      </button>\n",
              "      \n",
              "  <style>\n",
              "    .colab-df-container {\n",
              "      display:flex;\n",
              "      flex-wrap:wrap;\n",
              "      gap: 12px;\n",
              "    }\n",
              "\n",
              "    .colab-df-convert {\n",
              "      background-color: #E8F0FE;\n",
              "      border: none;\n",
              "      border-radius: 50%;\n",
              "      cursor: pointer;\n",
              "      display: none;\n",
              "      fill: #1967D2;\n",
              "      height: 32px;\n",
              "      padding: 0 0 0 0;\n",
              "      width: 32px;\n",
              "    }\n",
              "\n",
              "    .colab-df-convert:hover {\n",
              "      background-color: #E2EBFA;\n",
              "      box-shadow: 0px 1px 2px rgba(60, 64, 67, 0.3), 0px 1px 3px 1px rgba(60, 64, 67, 0.15);\n",
              "      fill: #174EA6;\n",
              "    }\n",
              "\n",
              "    [theme=dark] .colab-df-convert {\n",
              "      background-color: #3B4455;\n",
              "      fill: #D2E3FC;\n",
              "    }\n",
              "\n",
              "    [theme=dark] .colab-df-convert:hover {\n",
              "      background-color: #434B5C;\n",
              "      box-shadow: 0px 1px 3px 1px rgba(0, 0, 0, 0.15);\n",
              "      filter: drop-shadow(0px 1px 2px rgba(0, 0, 0, 0.3));\n",
              "      fill: #FFFFFF;\n",
              "    }\n",
              "  </style>\n",
              "\n",
              "      <script>\n",
              "        const buttonEl =\n",
              "          document.querySelector('#df-1b1b587e-629c-4cfd-962f-e43711f3f3a6 button.colab-df-convert');\n",
              "        buttonEl.style.display =\n",
              "          google.colab.kernel.accessAllowed ? 'block' : 'none';\n",
              "\n",
              "        async function convertToInteractive(key) {\n",
              "          const element = document.querySelector('#df-1b1b587e-629c-4cfd-962f-e43711f3f3a6');\n",
              "          const dataTable =\n",
              "            await google.colab.kernel.invokeFunction('convertToInteractive',\n",
              "                                                     [key], {});\n",
              "          if (!dataTable) return;\n",
              "\n",
              "          const docLinkHtml = 'Like what you see? Visit the ' +\n",
              "            '<a target=\"_blank\" href=https://colab.research.google.com/notebooks/data_table.ipynb>data table notebook</a>'\n",
              "            + ' to learn more about interactive tables.';\n",
              "          element.innerHTML = '';\n",
              "          dataTable['output_type'] = 'display_data';\n",
              "          await google.colab.output.renderOutput(dataTable, element);\n",
              "          const docLink = document.createElement('div');\n",
              "          docLink.innerHTML = docLinkHtml;\n",
              "          element.appendChild(docLink);\n",
              "        }\n",
              "      </script>\n",
              "    </div>\n",
              "  </div>\n",
              "  "
            ]
          },
          "metadata": {},
          "execution_count": 57
        }
      ]
    },
    {
      "cell_type": "markdown",
      "source": [
        "## 地域ごとのJSONに保存"
      ],
      "metadata": {
        "id": "r7vwpTgJCF0R"
      }
    },
    {
      "cell_type": "code",
      "source": [
        "def save_json(card):\n",
        "\n",
        "  df = df_data(card)\n",
        "  \n",
        "  areas = sorted(list(set(df['areaCode'].tolist())))\n",
        "  for area in areas:\n",
        "    df_area = df.copy().query(f'areaCode == \"{area}\"').reset_index()\n",
        "\n",
        "    gcs_path = \"statistics-japan/prefecture/{}_{}.json\".format(card['cardId'],area)\n",
        "    df_area.to_json(gcs_path, orient='records', force_ascii=False)\n",
        "    print(f'{gcs_path}を作成しました')\n",
        "    \n",
        "  return"
      ],
      "metadata": {
        "id": "bc88F0KJ_w5G"
      },
      "execution_count": 66,
      "outputs": []
    },
    {
      "cell_type": "code",
      "source": [
        "save_json(card)"
      ],
      "metadata": {
        "id": "EwFk-C9fAkuT"
      },
      "execution_count": null,
      "outputs": []
    },
    {
      "cell_type": "markdown",
      "source": [
        "# 人口・世帯"
      ],
      "metadata": {
        "id": "iwNv5Bc4F5Ac"
      }
    },
    {
      "cell_type": "markdown",
      "source": [
        "### 総人口"
      ],
      "metadata": {
        "id": "SsscpgMlF-kH"
      }
    },
    {
      "cell_type": "code",
      "source": [
        "card = {\n",
        "    'cardId': 'total-population',\n",
        "    'categories': [\n",
        "        { '総数' : '0000010101_A1101' },\n",
        "        { '男性' : '0000010101_A110101' },\n",
        "        { '女性' : '0000010101_A110102' },\n",
        "    ]\n",
        "}"
      ],
      "metadata": {
        "id": "i35VUDW6GAgb"
      },
      "execution_count": null,
      "outputs": []
    }
  ],
  "metadata": {
    "colab": {
      "toc_visible": true,
      "provenance": []
    },
    "gpuClass": "standard",
    "kernelspec": {
      "display_name": "Python 3",
      "name": "python3"
    }
  },
  "nbformat": 4,
  "nbformat_minor": 0
}