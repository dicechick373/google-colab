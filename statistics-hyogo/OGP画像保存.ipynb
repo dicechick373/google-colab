{
  "nbformat": 4,
  "nbformat_minor": 0,
  "metadata": {
    "colab": {
      "provenance": [],
      "toc_visible": true,
      "authorship_tag": "ABX9TyMQd2lNs3pc4GDuUSjKDpIz"
    },
    "kernelspec": {
      "name": "python3",
      "display_name": "Python 3"
    },
    "language_info": {
      "name": "python"
    }
  },
  "cells": [
    {
      "cell_type": "markdown",
      "source": [
        ":Googleドライブをマウント"
      ],
      "metadata": {
        "id": "ManxWX9dyYyC"
      }
    },
    {
      "cell_type": "code",
      "execution_count": 1,
      "metadata": {
        "colab": {
          "base_uri": "https://localhost:8080/"
        },
        "id": "ZREB5WImxVJD",
        "outputId": "f1d09faf-7b32-4a09-ec78-4e408cc7291a"
      },
      "outputs": [
        {
          "output_type": "stream",
          "name": "stdout",
          "text": [
            "Mounted at /content/drive\n"
          ]
        }
      ],
      "source": [
        "from google.colab import drive\n",
        "drive.mount('/content/drive')"
      ]
    },
    {
      "cell_type": "markdown",
      "source": [
        "seleniumをインストール"
      ],
      "metadata": {
        "id": "WNq8WJf6yeYr"
      }
    },
    {
      "cell_type": "code",
      "source": [
        "# original code from https://python-to.hateblo.jp/entry/2021/06/24/000000\n",
        "# 日本語フォントインストール\n",
        "!apt install fonts-ipafont-gothic"
      ],
      "metadata": {
        "id": "QfnrOEwB4MC1"
      },
      "execution_count": null,
      "outputs": []
    },
    {
      "cell_type": "code",
      "source": [
        "!pip install selenium"
      ],
      "metadata": {
        "id": "kHRsSgpEyg9C"
      },
      "execution_count": null,
      "outputs": []
    },
    {
      "cell_type": "code",
      "source": [
        "# chromedriverインストール\n",
        "!apt update\n",
        "!apt install chromium-chromedriver\n",
        "!cp /usr/lib/chromium-browser/chromedriver /usr/bin"
      ],
      "metadata": {
        "id": "7u5I7Qri3Zme"
      },
      "execution_count": null,
      "outputs": []
    },
    {
      "cell_type": "code",
      "source": [
        "import json\n",
        "import os\n",
        "import time\n",
        "from selenium import webdriver\n",
        "from selenium.webdriver.chrome.options import Options\n",
        "\n",
        "def save_selenium_screenshot():\n",
        "  # chrome_options\n",
        "  chrome_options = webdriver.ChromeOptions()\n",
        "  chrome_options.add_argument('--headless')\n",
        "  chrome_options.add_argument('--disable-gpu')\n",
        "  chrome_options.add_argument('--no-sandbox')\n",
        "  chrome_options.add_argument('--hide-scrollbars')\n",
        "  chrome_options.add_argument('--enable-logging')\n",
        "  chrome_options.add_argument('--log-level=0')\n",
        "  chrome_options.add_argument('--v=99')\n",
        "  chrome_options.add_argument('--single-process')\n",
        "  chrome_options.add_argument('--ignore-certificate-errors')\n",
        "  # chrome_options.binary_location = os.getcwd() + \"/headless-chromium\"\n",
        "\n",
        "  driver = webdriver.Chrome('chromedriver',options=chrome_options)\n",
        "\n",
        "  # driver = webdriver.Chrome(os.getcwd() + \"/chromedriver\", chrome_options=chrome_options)\n",
        "\n",
        "  # set url\n",
        "  url = 'https://www.yahoo.co.jp/'\n",
        "  driver.get(url)\n",
        "\n",
        "  # file name\n",
        "  file_name = \"screenshot.png\"\n",
        "\n",
        "  # save screenshot\n",
        "  time.sleep(5)\n",
        "  driver.save_screenshot(\"drive/MyDrive/statistics-hyogo/{}\".format(file_name))\n",
        "\n",
        "  driver.quit()"
      ],
      "metadata": {
        "id": "a8R9OVoaz71N"
      },
      "execution_count": 18,
      "outputs": []
    },
    {
      "cell_type": "code",
      "source": [
        "save_selenium_screenshot()"
      ],
      "metadata": {
        "id": "yvKraOBN3zD1"
      },
      "execution_count": 19,
      "outputs": []
    }
  ]
}