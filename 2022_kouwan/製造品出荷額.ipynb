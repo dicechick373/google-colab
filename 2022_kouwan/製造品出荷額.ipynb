{
  "nbformat": 4,
  "nbformat_minor": 0,
  "metadata": {
    "colab": {
      "provenance": [],
      "toc_visible": true,
      "authorship_tag": "ABX9TyMEiYrrJ4LRcD6AwDTUYj+M"
    },
    "kernelspec": {
      "name": "python3",
      "display_name": "Python 3"
    },
    "language_info": {
      "name": "python"
    }
  },
  "cells": [
    {
      "cell_type": "code",
      "source": [
        "ESTAT_APPID = '724e5b90772a3e9289f41a253e4e7e32438f4fff'"
      ],
      "metadata": {
        "id": "9KhoF4hVDXfB"
      },
      "execution_count": 1,
      "outputs": []
    },
    {
      "cell_type": "code",
      "source": [
        "import urllib.parse\n",
        "import urllib.request\n",
        "import json\n",
        "import pandas as pd"
      ],
      "metadata": {
        "id": "DMV5aW9uDfW3"
      },
      "execution_count": 2,
      "outputs": []
    },
    {
      "cell_type": "markdown",
      "source": [
        "estat-APIからレスポンスを取得する関数"
      ],
      "metadata": {
        "id": "w9viEMGcGO3R"
      }
    },
    {
      "cell_type": "code",
      "source": [
        "def get_estat_response(params):\n",
        "  p = params.copy()\n",
        "\n",
        "  # appId\n",
        "  p['appId'] = ESTAT_APPID\n",
        "  \n",
        "  # url生成\n",
        "  url = 'http://api.e-stat.go.jp/rest/2.1/app/json/getStatsData?'\n",
        "  url += urllib.parse.urlencode(p)\n",
        "\n",
        "  with urllib.request.urlopen(url) as response:\n",
        "    return json.loads(response.read().decode('utf-8'))"
      ],
      "metadata": {
        "id": "FCLyLoxqDbEr"
      },
      "execution_count": 3,
      "outputs": []
    },
    {
      "cell_type": "code",
      "source": [
        "params = {\n",
        "    'statsDataId':'0003130803',\n",
        "}"
      ],
      "metadata": {
        "id": "sNNJrbosINm8"
      },
      "execution_count": 17,
      "outputs": []
    },
    {
      "cell_type": "code",
      "source": [
        "res = get_estat_response(params)"
      ],
      "metadata": {
        "id": "CjoHo2NZIQYV"
      },
      "execution_count": 19,
      "outputs": []
    },
    {
      "cell_type": "code",
      "source": [
        "CLASS_OBJ = res['GET_STATS_DATA']['STATISTICAL_DATA']['CLASS_INF']['CLASS_OBJ']\n",
        "print(CLASS_OBJ)\n",
        "\n",
        "def changes(id,code):\n",
        "  print(id)\n",
        "  test = [d.get('CLASS') for d in CLASS_OBJ]\n",
        "  test2 = [d.get('@code') for d in test]\n",
        "  print(test)\n",
        "  print(test2)\n"
      ],
      "metadata": {
        "id": "lT2GNQj7Iy57",
        "outputId": "943b5107-d031-49f4-dcc6-848c3f504461",
        "colab": {
          "base_uri": "https://localhost:8080/"
        }
      },
      "execution_count": 42,
      "outputs": [
        {
          "output_type": "stream",
          "name": "stdout",
          "text": [
            "[{'@id': 'tab', '@name': '表章項目', 'CLASS': {'@code': '120', '@name': 'トン数', '@level': '', '@unit': 'トン'}}, {'@id': 'cat01', '@name': '輸移出入', 'CLASS': [{'@code': '100', '@name': '合計', '@level': '1'}, {'@code': '110', '@name': '輸出', '@level': '2', '@parentCode': '100'}, {'@code': '120', '@name': '輸入', '@level': '2', '@parentCode': '100'}, {'@code': '130', '@name': '移出', '@level': '2', '@parentCode': '100'}, {'@code': '140', '@name': '移入', '@level': '2', '@parentCode': '100'}]}, {'@id': 'cat02', '@name': 'T/S', '@description': '「Ｔ／Ｓ」とはトランシップをいい、「一般」の内数として別掲した。', 'CLASS': [{'@code': '100', '@name': '計', '@level': '1'}, {'@code': '110', '@name': '内T/S', '@level': '2', '@parentCode': '100'}]}, {'@id': 'cat03', '@name': '輸送形態', '@description': '「一般」 には、下記以外の貨物を計上した。\\r\\n「自動車航送船」には、自動車航送船により輸送されたバス、トラック、乗用車等（二輪自動車、自転車及び商品としての自動車を除く。）を計上した。\\r\\n「鉄道連絡船」 には、鉄道連絡船により輸送された貨物（自動車等を含む。）を計上した。', 'CLASS': [{'@code': '100', '@name': '計', '@level': '1'}, {'@code': '110', '@name': '一般', '@level': '2', '@parentCode': '100'}, {'@code': '120', '@name': '自動車航送船', '@level': '2', '@parentCode': '100'}]}, {'@id': 'cat04', '@name': '甲種港湾_2010年以降', 'CLASS': [{'@code': '01000', '@name': '北海道', '@level': '2', '@parentCode': '00500'}, {'@code': '01001', '@name': '北海道_稚内', '@level': '3', '@parentCode': '01000'}, {'@code': '01002', '@name': '北海道_紋別', '@level': '3', '@parentCode': '01000'}, {'@code': '01003', '@name': '北海道_網走', '@level': '3', '@parentCode': '01000'}, {'@code': '01004', '@name': '北海道_根室', '@level': '3', '@parentCode': '01000'}, {'@code': '01005', '@name': '北海道_釧路', '@level': '3', '@parentCode': '01000'}, {'@code': '01006', '@name': '北海道_十勝', '@level': '3', '@parentCode': '01000'}, {'@code': '01007', '@name': '北海道_苫小牧', '@level': '3', '@parentCode': '01000'}, {'@code': '01008', '@name': '北海道_白老', '@level': '3', '@parentCode': '01000'}, {'@code': '01009', '@name': '北海道_室蘭', '@level': '3', '@parentCode': '01000'}, {'@code': '01010', '@name': '北海道_函館', '@level': '3', '@parentCode': '01000'}, {'@code': '01011', '@name': '北海道_小樽', '@level': '3', '@parentCode': '01000'}, {'@code': '01012', '@name': '北海道_石狩湾新', '@level': '3', '@parentCode': '01000'}, {'@code': '01013', '@name': '北海道_留萌', '@level': '3', '@parentCode': '01000'}, {'@code': '02000', '@name': '青森県', '@level': '2', '@parentCode': '00500'}, {'@code': '02001', '@name': '青森県_青森', '@level': '3', '@parentCode': '02000'}, {'@code': '02003', '@name': '青森県_尻屋岬', '@level': '3', '@parentCode': '02000'}, {'@code': '02004', '@name': '青森県_むつ小川原', '@level': '3', '@parentCode': '02000'}, {'@code': '02005', '@name': '青森県_八戸', '@level': '3', '@parentCode': '02000'}, {'@code': '03000', '@name': '岩手県', '@level': '2', '@parentCode': '00500'}, {'@code': '03001', '@name': '岩手県_久慈', '@level': '3', '@parentCode': '03000'}, {'@code': '03002', '@name': '岩手県_宮古', '@level': '3', '@parentCode': '03000'}, {'@code': '03003', '@name': '岩手県_釜石', '@level': '3', '@parentCode': '03000'}, {'@code': '03004', '@name': '岩手県_大船渡', '@level': '3', '@parentCode': '03000'}, {'@code': '04000', '@name': '宮城県', '@level': '2', '@parentCode': '00500'}, {'@code': '04002', '@name': '宮城県_石巻', '@level': '3', '@parentCode': '04000'}, {'@code': '04003', '@name': '宮城県_仙台塩釜', '@level': '3', '@parentCode': '04000'}, {'@code': '05000', '@name': '秋田県', '@level': '2', '@parentCode': '00500'}, {'@code': '05001', '@name': '秋田県_能代', '@level': '3', '@parentCode': '05000'}, {'@code': '05002', '@name': '秋田県_船川', '@level': '3', '@parentCode': '05000'}, {'@code': '05003', '@name': '秋田県_秋田', '@level': '3', '@parentCode': '05000'}, {'@code': '06000', '@name': '山形県', '@level': '2', '@parentCode': '00500'}, {'@code': '06001', '@name': '山形県_酒田', '@level': '3', '@parentCode': '06000'}, {'@code': '07000', '@name': '福島県', '@level': '2', '@parentCode': '00500'}, {'@code': '07001', '@name': '福島県_相馬', '@level': '3', '@parentCode': '07000'}, {'@code': '07002', '@name': '福島県_小名浜', '@level': '3', '@parentCode': '07000'}, {'@code': '08000', '@name': '茨城県', '@level': '2', '@parentCode': '00500'}, {'@code': '08001', '@name': '茨城県_茨城', '@level': '3', '@parentCode': '08000'}, {'@code': '08005', '@name': '茨城県_鹿島', '@level': '3', '@parentCode': '08000'}, {'@code': '12000', '@name': '千葉県', '@level': '2', '@parentCode': '00500'}, {'@code': '12001', '@name': '千葉県_館山', '@level': '3', '@parentCode': '12000'}, {'@code': '12002', '@name': '千葉県_木更津', '@level': '3', '@parentCode': '12000'}, {'@code': '12003', '@name': '千葉県_千葉', '@level': '3', '@parentCode': '12000'}, {'@code': '13000', '@name': '東京都', '@level': '2', '@parentCode': '00500'}, {'@code': '13001', '@name': '東京都_東京', '@level': '3', '@parentCode': '13000'}, {'@code': '14000', '@name': '神奈川県', '@level': '2', '@parentCode': '00500'}, {'@code': '14001', '@name': '神奈川県_川崎', '@level': '3', '@parentCode': '14000'}, {'@code': '14002', '@name': '神奈川県_横浜', '@level': '3', '@parentCode': '14000'}, {'@code': '14003', '@name': '神奈川県_横須賀', '@level': '3', '@parentCode': '14000'}, {'@code': '15000', '@name': '新潟県', '@level': '2', '@parentCode': '00500'}, {'@code': '15001', '@name': '新潟県_新潟', '@level': '3', '@parentCode': '15000'}, {'@code': '15002', '@name': '新潟県_柏崎', '@level': '3', '@parentCode': '15000'}, {'@code': '15003', '@name': '新潟県_直江津', '@level': '3', '@parentCode': '15000'}, {'@code': '15004', '@name': '新潟県_姫川', '@level': '3', '@parentCode': '15000'}, {'@code': '15005', '@name': '新潟県_両津', '@level': '3', '@parentCode': '15000'}, {'@code': '15006', '@name': '新潟県_小木', '@level': '3', '@parentCode': '15000'}, {'@code': '16000', '@name': '富山県', '@level': '2', '@parentCode': '00500'}, {'@code': '16001', '@name': '富山県_伏木富山', '@level': '3', '@parentCode': '16000'}, {'@code': '17000', '@name': '石川県', '@level': '2', '@parentCode': '00500'}, {'@code': '17001', '@name': '石川県_七尾', '@level': '3', '@parentCode': '17000'}, {'@code': '17002', '@name': '石川県_金沢', '@level': '3', '@parentCode': '17000'}, {'@code': '18000', '@name': '福井県', '@level': '2', '@parentCode': '00500'}, {'@code': '18001', '@name': '福井県_福井', '@level': '3', '@parentCode': '18000'}, {'@code': '18002', '@name': '福井県_敦賀', '@level': '3', '@parentCode': '18000'}, {'@code': '18003', '@name': '福井県_内浦', '@level': '3', '@parentCode': '18000'}, {'@code': '22000', '@name': '静岡県', '@level': '2', '@parentCode': '00500'}, {'@code': '22001', '@name': '静岡県_沼津', '@level': '3', '@parentCode': '22000'}, {'@code': '22002', '@name': '静岡県_田子の浦', '@level': '3', '@parentCode': '22000'}, {'@code': '22003', '@name': '静岡県_清水', '@level': '3', '@parentCode': '22000'}, {'@code': '22004', '@name': '静岡県_大井川', '@level': '3', '@parentCode': '22000'}, {'@code': '22005', '@name': '静岡県_御前崎', '@level': '3', '@parentCode': '22000'}, {'@code': '23000', '@name': '愛知県', '@level': '2', '@parentCode': '00500'}, {'@code': '23001', '@name': '愛知県_三河', '@level': '3', '@parentCode': '23000'}, {'@code': '23002', '@name': '愛知県_衣浦', '@level': '3', '@parentCode': '23000'}, {'@code': '23003', '@name': '愛知県_名古屋', '@level': '3', '@parentCode': '23000'}, {'@code': '24000', '@name': '三重県', '@level': '2', '@parentCode': '00500'}, {'@code': '24001', '@name': '三重県_四日市', '@level': '3', '@parentCode': '24000'}, {'@code': '24002', '@name': '三重県_津松阪', '@level': '3', '@parentCode': '24000'}, {'@code': '24003', '@name': '三重県_吉津', '@level': '3', '@parentCode': '24000'}, {'@code': '24005', '@name': '三重県_尾鷲', '@level': '3', '@parentCode': '24000'}, {'@code': '24006', '@name': '三重県_鵜殿', '@level': '3', '@parentCode': '24000'}, {'@code': '26000', '@name': '京都府', '@level': '2', '@parentCode': '00500'}, {'@code': '26001', '@name': '京都府_舞鶴', '@level': '3', '@parentCode': '26000'}, {'@code': '26002', '@name': '京都府_宮津', '@level': '3', '@parentCode': '26000'}, {'@code': '27000', '@name': '大阪府', '@level': '2', '@parentCode': '00500'}, {'@code': '27001', '@name': '大阪府_泉州', '@level': '3', '@parentCode': '27000'}, {'@code': '27004', '@name': '大阪府_阪南', '@level': '3', '@parentCode': '27000'}, {'@code': '27005', '@name': '大阪府_堺泉北', '@level': '3', '@parentCode': '27000'}, {'@code': '27006', '@name': '大阪府_大阪', '@level': '3', '@parentCode': '27000'}, {'@code': '28000', '@name': '兵庫県', '@level': '2', '@parentCode': '00500'}, {'@code': '28001', '@name': '兵庫県_尼崎西宮芦屋', '@level': '3', '@parentCode': '28000'}, {'@code': '28002', '@name': '兵庫県_神戸', '@level': '3', '@parentCode': '28000'}, {'@code': '28003', '@name': '兵庫県_明石', '@level': '3', '@parentCode': '28000'}, {'@code': '28004', '@name': '兵庫県_東播磨', '@level': '3', '@parentCode': '28000'}, {'@code': '28005', '@name': '兵庫県_姫路', '@level': '3', '@parentCode': '28000'}, {'@code': '28006', '@name': '兵庫県_赤穂', '@level': '3', '@parentCode': '28000'}, {'@code': '30000', '@name': '和歌山県', '@level': '2', '@parentCode': '00500'}, {'@code': '30001', '@name': '和歌山県_新宮', '@level': '3', '@parentCode': '30000'}, {'@code': '30003', '@name': '和歌山県_日高', '@level': '3', '@parentCode': '30000'}, {'@code': '30004', '@name': '和歌山県_和歌山下津', '@level': '3', '@parentCode': '30000'}, {'@code': '31000', '@name': '鳥取県', '@level': '2', '@parentCode': '00500'}, {'@code': '31001', '@name': '鳥取県_鳥取', '@level': '3', '@parentCode': '31000'}, {'@code': '31005', '@name': '鳥取県_境', '@level': '3', '@parentCode': '31000'}, {'@code': '32000', '@name': '島根県', '@level': '2', '@parentCode': '00500'}, {'@code': '32001', '@name': '島根県_浜田', '@level': '3', '@parentCode': '32000'}, {'@code': '32002', '@name': '島根県_三隅', '@level': '3', '@parentCode': '32000'}, {'@code': '32003', '@name': '島根県_西郷', '@level': '3', '@parentCode': '32000'}, {'@code': '33000', '@name': '岡山県', '@level': '2', '@parentCode': '00500'}, {'@code': '33001', '@name': '岡山県_東備', '@level': '3', '@parentCode': '33000'}, {'@code': '33002', '@name': '岡山県_岡山', '@level': '3', '@parentCode': '33000'}, {'@code': '33003', '@name': '岡山県_宇野', '@level': '3', '@parentCode': '33000'}, {'@code': '33004', '@name': '岡山県_水島', '@level': '3', '@parentCode': '33000'}, {'@code': '33005', '@name': '岡山県_笠岡', '@level': '3', '@parentCode': '33000'}, {'@code': '34000', '@name': '広島県', '@level': '2', '@parentCode': '00500'}, {'@code': '34001', '@name': '広島県_福山', '@level': '3', '@parentCode': '34000'}, {'@code': '34002', '@name': '広島県_尾道糸崎', '@level': '3', '@parentCode': '34000'}, {'@code': '34003', '@name': '広島県_竹原', '@level': '3', '@parentCode': '34000'}, {'@code': '34004', '@name': '広島県_呉', '@level': '3', '@parentCode': '34000'}, {'@code': '34005', '@name': '広島県_広島', '@level': '3', '@parentCode': '34000'}, {'@code': '34006', '@name': '広島県_大竹', '@level': '3', '@parentCode': '34000'}, {'@code': '34007', '@name': '広島県_鹿川', '@level': '3', '@parentCode': '34000'}, {'@code': '35000', '@name': '山口県', '@level': '2', '@parentCode': '00500'}, {'@code': '35001', '@name': '山口県_下関', '@level': '3', '@parentCode': '35000'}, {'@code': '35002', '@name': '山口県_小野田', '@level': '3', '@parentCode': '35000'}, {'@code': '35003', '@name': '山口県_宇部', '@level': '3', '@parentCode': '35000'}, {'@code': '35004', '@name': '山口県_三田尻中関', '@level': '3', '@parentCode': '35000'}, {'@code': '35005', '@name': '山口県_徳山下松', '@level': '3', '@parentCode': '35000'}, {'@code': '35006', '@name': '山口県_平生', '@level': '3', '@parentCode': '35000'}, {'@code': '35007', '@name': '山口県_柳井', '@level': '3', '@parentCode': '35000'}, {'@code': '35008', '@name': '山口県_岩国', '@level': '3', '@parentCode': '35000'}, {'@code': '36000', '@name': '徳島県', '@level': '2', '@parentCode': '00500'}, {'@code': '36003', '@name': '徳島県_徳島小松島', '@level': '3', '@parentCode': '36000'}, {'@code': '36004', '@name': '徳島県_富岡', '@level': '3', '@parentCode': '36000'}, {'@code': '36005', '@name': '徳島県_橘', '@level': '3', '@parentCode': '36000'}, {'@code': '37000', '@name': '香川県', '@level': '2', '@parentCode': '00500'}, {'@code': '37001', '@name': '香川県_詫間', '@level': '3', '@parentCode': '37000'}, {'@code': '37002', '@name': '香川県_多度津', '@level': '3', '@parentCode': '37000'}, {'@code': '37003', '@name': '香川県_丸亀', '@level': '3', '@parentCode': '37000'}, {'@code': '37004', '@name': '香川県_坂出', '@level': '3', '@parentCode': '37000'}, {'@code': '37005', '@name': '香川県_高松', '@level': '3', '@parentCode': '37000'}, {'@code': '37006', '@name': '香川県_風戸', '@level': '3', '@parentCode': '37000'}, {'@code': '38000', '@name': '愛媛県', '@level': '2', '@parentCode': '00500'}, {'@code': '38001', '@name': '愛媛県_宇和島', '@level': '3', '@parentCode': '38000'}, {'@code': '38003', '@name': '愛媛県_長浜', '@level': '3', '@parentCode': '38000'}, {'@code': '38005', '@name': '愛媛県_松山', '@level': '3', '@parentCode': '38000'}, {'@code': '38006', '@name': '愛媛県_今治', '@level': '3', '@parentCode': '38000'}, {'@code': '38007', '@name': '愛媛県_東予', '@level': '3', '@parentCode': '38000'}, {'@code': '38008', '@name': '愛媛県_新居浜', '@level': '3', '@parentCode': '38000'}, {'@code': '38009', '@name': '愛媛県_三島川之江', '@level': '3', '@parentCode': '38000'}, {'@code': '39000', '@name': '高知県', '@level': '2', '@parentCode': '00500'}, {'@code': '39001', '@name': '高知県_高知', '@level': '3', '@parentCode': '39000'}, {'@code': '39002', '@name': '高知県_須崎', '@level': '3', '@parentCode': '39000'}, {'@code': '39003', '@name': '高知県_宿毛湾', '@level': '3', '@parentCode': '39000'}, {'@code': '40000', '@name': '福岡県', '@level': '2', '@parentCode': '00500'}, {'@code': '40001', '@name': '福岡県_博多', '@level': '3', '@parentCode': '40000'}, {'@code': '40002', '@name': '福岡県_北九州', '@level': '3', '@parentCode': '40000'}, {'@code': '40003', '@name': '福岡県_苅田', '@level': '3', '@parentCode': '40000'}, {'@code': '40004', '@name': '福岡県_三池', '@level': '3', '@parentCode': '40000'}, {'@code': '41000', '@name': '佐賀県', '@level': '2', '@parentCode': '00500'}, {'@code': '41001', '@name': '佐賀県_伊万里', '@level': '3', '@parentCode': '41000'}, {'@code': '41002', '@name': '佐賀県_唐津', '@level': '3', '@parentCode': '41000'}, {'@code': '42000', '@name': '長崎県', '@level': '2', '@parentCode': '00500'}, {'@code': '42001', '@name': '長崎県_島原', '@level': '3', '@parentCode': '42000'}, {'@code': '42002', '@name': '長崎県_長崎', '@level': '3', '@parentCode': '42000'}, {'@code': '42003', '@name': '長崎県_佐世保', '@level': '3', '@parentCode': '42000'}, {'@code': '42004', '@name': '長崎県_松浦', '@level': '3', '@parentCode': '42000'}, {'@code': '42005', '@name': '長崎県_厳原', '@level': '3', '@parentCode': '42000'}, {'@code': '42006', '@name': '長崎県_郷ノ浦', '@level': '3', '@parentCode': '42000'}, {'@code': '42008', '@name': '長崎県_福江', '@level': '3', '@parentCode': '42000'}, {'@code': '42009', '@name': '長崎県_松島', '@level': '3', '@parentCode': '42000'}, {'@code': '43000', '@name': '熊本県', '@level': '2', '@parentCode': '00500'}, {'@code': '43001', '@name': '熊本県_水俣', '@level': '3', '@parentCode': '43000'}, {'@code': '43002', '@name': '熊本県_八代', '@level': '3', '@parentCode': '43000'}, {'@code': '43003', '@name': '熊本県_三角', '@level': '3', '@parentCode': '43000'}, {'@code': '43004', '@name': '熊本県_熊本', '@level': '3', '@parentCode': '43000'}, {'@code': '44000', '@name': '大分県', '@level': '2', '@parentCode': '00500'}, {'@code': '44001', '@name': '大分県_中津', '@level': '3', '@parentCode': '44000'}, {'@code': '44002', '@name': '大分県_別府', '@level': '3', '@parentCode': '44000'}, {'@code': '44003', '@name': '大分県_大分', '@level': '3', '@parentCode': '44000'}, {'@code': '44004', '@name': '大分県_佐賀関', '@level': '3', '@parentCode': '44000'}, {'@code': '44005', '@name': '大分県_津久見', '@level': '3', '@parentCode': '44000'}, {'@code': '44006', '@name': '大分県_佐伯', '@level': '3', '@parentCode': '44000'}, {'@code': '45000', '@name': '宮崎県', '@level': '2', '@parentCode': '00500'}, {'@code': '45002', '@name': '宮崎県_細島', '@level': '3', '@parentCode': '45000'}, {'@code': '45003', '@name': '宮崎県_宮崎', '@level': '3', '@parentCode': '45000'}, {'@code': '45004', '@name': '宮崎県_油津', '@level': '3', '@parentCode': '45000'}, {'@code': '46000', '@name': '鹿児島県', '@level': '2', '@parentCode': '00500'}, {'@code': '46001', '@name': '鹿児島県_志布志', '@level': '3', '@parentCode': '46000'}, {'@code': '46002', '@name': '鹿児島県_加治木', '@level': '3', '@parentCode': '46000'}, {'@code': '46003', '@name': '鹿児島県_鹿児島', '@level': '3', '@parentCode': '46000'}, {'@code': '46004', '@name': '鹿児島県_喜入', '@level': '3', '@parentCode': '46000'}, {'@code': '46005', '@name': '鹿児島県_川内', '@level': '3', '@parentCode': '46000'}, {'@code': '46006', '@name': '鹿児島県_米之津', '@level': '3', '@parentCode': '46000'}, {'@code': '46007', '@name': '鹿児島県_西之表', '@level': '3', '@parentCode': '46000'}, {'@code': '46008', '@name': '鹿児島県_宮之浦（屋久島町）', '@level': '3', '@parentCode': '46000'}, {'@code': '46009', '@name': '鹿児島県_名瀬', '@level': '3', '@parentCode': '46000'}, {'@code': '47000', '@name': '沖縄県', '@level': '2', '@parentCode': '00500'}, {'@code': '47001', '@name': '沖縄県_金武湾', '@level': '3', '@parentCode': '47000'}, {'@code': '47002', '@name': '沖縄県_中城湾', '@level': '3', '@parentCode': '47000'}, {'@code': '47003', '@name': '沖縄県_那覇', '@level': '3', '@parentCode': '47000'}, {'@code': '47004', '@name': '沖縄県_本部', '@level': '3', '@parentCode': '47000'}, {'@code': '47005', '@name': '沖縄県_運天', '@level': '3', '@parentCode': '47000'}, {'@code': '47006', '@name': '沖縄県_平良', '@level': '3', '@parentCode': '47000'}, {'@code': '47007', '@name': '沖縄県_石垣', '@level': '3', '@parentCode': '47000'}]}, {'@id': 'time', '@name': '時間軸（暦年）', 'CLASS': [{'@code': '2010000000', '@name': '2010年', '@level': '1'}, {'@code': '2011000000', '@name': '2011年', '@level': '1'}, {'@code': '2012000000', '@name': '2012年', '@level': '1'}, {'@code': '2013000000', '@name': '2013年', '@level': '1'}, {'@code': '2014000000', '@name': '2014年', '@level': '1'}, {'@code': '2015000000', '@name': '2015年', '@level': '1'}, {'@code': '2016000000', '@name': '2016年', '@level': '1'}, {'@code': '2017000000', '@name': '2017年', '@level': '1'}]}]\n"
          ]
        }
      ]
    },
    {
      "cell_type": "code",
      "source": [
        "changes('tab','120')"
      ],
      "metadata": {
        "id": "VVosFe1AJ6jQ"
      },
      "execution_count": null,
      "outputs": []
    },
    {
      "cell_type": "code",
      "source": [
        "def conv_estat_response_to_dataframe(response):\n",
        "  # CLASS_INF\n",
        "  CLASS_OBJ = response['GET_STATS_DATA']['STATISTICAL_DATA']['CLASS_INF']['CLASS_OBJ']\n",
        "  print(CLASS_OBJ)\n",
        "\n",
        "  # TABLE_INF\n",
        "  TABLE_INF = response['GET_STATS_DATA']['STATISTICAL_DATA']['TABLE_INF']\n",
        "\n",
        "  # VALUE\n",
        "  VALUE = response['GET_STATS_DATA']['STATISTICAL_DATA']['DATA_INF']['VALUE']\n",
        "\n",
        "  # VALUEをDataFrameに変換\n",
        "  df_res = pd.json_normalize(VALUE)\n",
        "\n",
        "  for row in df_res.itertuples():\n",
        "    # row['@tab'] = row['@tab']\n",
        "    row['@tab'] = 'test'\n",
        "\n",
        "  # # CLASS_OBJのDataFrameを結合\n",
        "  # for d in CLASS_OBJ :\n",
        "  #   # DataFrameに変換 '@code','@name'だけ抽出\n",
        "  #   df_class = pd.json_normalize(d['CLASS']) \n",
        "  #   df_class = df_class.copy()[['@code','@name']]\n",
        "\n",
        "  #   # @codeをキー名に変更 @nameをキー名＋'_name'に変更\n",
        "  #   key_name = '@{}'.format(d['@id'])\n",
        "  #   df_class = df_class.rename(columns={'@code':key_name,'@name': key_name+'_name'})\n",
        "\n",
        "  #   # DataFrameを結合\n",
        "  #   df_res = pd.merge(df_res, df_class, on=key_name, how='outer')\n",
        "\n",
        "  # # 統計情報を追加\n",
        "  # df_res['statsDataId'] = TABLE_INF['@id']\n",
        "  # df_res['statsDataName'] = TABLE_INF['STAT_NAME']['$']\n",
        "  \n",
        "  return df_res"
      ],
      "metadata": {
        "id": "_n350jJnGOEV"
      },
      "execution_count": 15,
      "outputs": []
    },
    {
      "cell_type": "code",
      "source": [
        "params = {\n",
        "    'statsDataId':'0003130803',\n",
        "}\n",
        "\n",
        "res = get_estat_response(params)\n",
        "\n"
      ],
      "metadata": {
        "id": "HEmka9t-DjtM"
      },
      "execution_count": null,
      "outputs": []
    }
  ]
}