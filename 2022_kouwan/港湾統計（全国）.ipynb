{
  "nbformat": 4,
  "nbformat_minor": 0,
  "metadata": {
    "colab": {
      "provenance": [],
      "toc_visible": true,
      "authorship_tag": "ABX9TyNpovDN/1+HoIPS7kd86WeB"
    },
    "kernelspec": {
      "name": "python3",
      "display_name": "Python 3"
    },
    "language_info": {
      "name": "python"
    }
  },
  "cells": [
    {
      "cell_type": "markdown",
      "source": [
        "# 事前準備"
      ],
      "metadata": {
        "id": "DMzHNnHVqBbQ"
      }
    },
    {
      "cell_type": "markdown",
      "source": [
        "## ライブラリ"
      ],
      "metadata": {
        "id": "mq6HvkNsYwJr"
      }
    },
    {
      "cell_type": "code",
      "source": [
        "!pip install --upgrade xlrd==1.2.0"
      ],
      "metadata": {
        "colab": {
          "base_uri": "https://localhost:8080/"
        },
        "id": "aVjkoIyuqAdk",
        "outputId": "3540150b-1b5d-4ac0-facb-11898eb00bc9"
      },
      "execution_count": 1,
      "outputs": [
        {
          "output_type": "stream",
          "name": "stdout",
          "text": [
            "Looking in indexes: https://pypi.org/simple, https://us-python.pkg.dev/colab-wheels/public/simple/\n",
            "Collecting xlrd==1.2.0\n",
            "  Downloading xlrd-1.2.0-py2.py3-none-any.whl (103 kB)\n",
            "\u001b[K     |████████████████████████████████| 103 kB 12.9 MB/s \n",
            "\u001b[?25hInstalling collected packages: xlrd\n",
            "  Attempting uninstall: xlrd\n",
            "    Found existing installation: xlrd 1.1.0\n",
            "    Uninstalling xlrd-1.1.0:\n",
            "      Successfully uninstalled xlrd-1.1.0\n",
            "Successfully installed xlrd-1.2.0\n"
          ]
        }
      ]
    },
    {
      "cell_type": "markdown",
      "source": [
        "# LNGの分析"
      ],
      "metadata": {
        "id": "xPraD5AOZm8h"
      }
    },
    {
      "cell_type": "markdown",
      "source": [
        "国土交通省ホームページのEXCELデータから作業する\n",
        "\n",
        "輸出・輸入・移出・移入とも同じ構成のExcelになっているので、EXCELのインポートからDataFameの整形までは共通関数でOK"
      ],
      "metadata": {
        "id": "13f5Vz53Zq_t"
      }
    },
    {
      "cell_type": "code",
      "source": [
        "import pandas as pd\n",
        "\n",
        "def get_excel(url):\n",
        "  # ブックの指定\n",
        "  input_file_name = url\n",
        "  input_book = pd.ExcelFile(input_file_name)\n",
        "  \n",
        "  # 統計結果は2番目のシート、上から2行は無視\n",
        "  input_sheet_name = input_book.sheet_names\n",
        "  df = input_book.parse(input_sheet_name[1],skiprows = 2)\n",
        "\n",
        "  return df"
      ],
      "metadata": {
        "id": "ZeuwqHRXY2xs"
      },
      "execution_count": 2,
      "outputs": []
    },
    {
      "cell_type": "markdown",
      "source": [
        "## 輸入"
      ],
      "metadata": {
        "id": "uDqGMBN2Zzbl"
      }
    },
    {
      "cell_type": "code",
      "source": [
        "def lng_import(url,kind):\n",
        "\n",
        "  # EXCELをインポート\n",
        "  df = get_excel(url)\n",
        "\n",
        "  # 品種名（kind）に一致する行を抽出\n",
        "  df = df[df['品種名'] == kind]\n",
        "\n",
        "  df = df.groupby(['都道府県','港名','仕向国']).agg({'トン数': 'sum'}).reset_index()\n",
        "\n",
        "  return df\n"
      ],
      "metadata": {
        "id": "V1bHnWAhbMy2"
      },
      "execution_count": 10,
      "outputs": []
    },
    {
      "cell_type": "code",
      "source": [
        "# URLを指定\n",
        "url = 'https://www.mlit.go.jp/k-toukei/content/001448038.xlsx'\n",
        "\n",
        "# 品種名を指定\n",
        "kind = 'ＬＮＧ（液化天然ガス）'\n",
        "\n",
        "df = lng_import(url,kind)\n",
        "df"
      ],
      "metadata": {
        "id": "ikA_qbO7aGzC",
        "outputId": "29f8219c-c73a-4f3b-f133-fd27e0e287d7",
        "colab": {
          "base_uri": "https://localhost:8080/",
          "height": 424
        }
      },
      "execution_count": 11,
      "outputs": [
        {
          "output_type": "execute_result",
          "data": {
            "text/plain": [
              "     都道府県   港名      仕向国      トン数\n",
              "0     三重県  四日市     アメリカ   959059\n",
              "1     三重県  四日市   インドネシア   674544\n",
              "2     三重県  四日市     オマーン   449991\n",
              "3     三重県  四日市  オーストラリア  3878849\n",
              "4     三重県  四日市     カタール  1578185\n",
              "..    ...  ...      ...      ...\n",
              "171   静岡県   清水    マレーシア   295905\n",
              "172   香川県   坂出    マレーシア  1174451\n",
              "173  鹿児島県  志布志       韓国      120\n",
              "174  鹿児島県  鹿児島     オマーン    20025\n",
              "175  鹿児島県  鹿児島  オーストラリア   107064\n",
              "\n",
              "[176 rows x 4 columns]"
            ],
            "text/html": [
              "\n",
              "  <div id=\"df-a156813b-618a-43dc-8dbf-1cb770a9ebb2\">\n",
              "    <div class=\"colab-df-container\">\n",
              "      <div>\n",
              "<style scoped>\n",
              "    .dataframe tbody tr th:only-of-type {\n",
              "        vertical-align: middle;\n",
              "    }\n",
              "\n",
              "    .dataframe tbody tr th {\n",
              "        vertical-align: top;\n",
              "    }\n",
              "\n",
              "    .dataframe thead th {\n",
              "        text-align: right;\n",
              "    }\n",
              "</style>\n",
              "<table border=\"1\" class=\"dataframe\">\n",
              "  <thead>\n",
              "    <tr style=\"text-align: right;\">\n",
              "      <th></th>\n",
              "      <th>都道府県</th>\n",
              "      <th>港名</th>\n",
              "      <th>仕向国</th>\n",
              "      <th>トン数</th>\n",
              "    </tr>\n",
              "  </thead>\n",
              "  <tbody>\n",
              "    <tr>\n",
              "      <th>0</th>\n",
              "      <td>三重県</td>\n",
              "      <td>四日市</td>\n",
              "      <td>アメリカ</td>\n",
              "      <td>959059</td>\n",
              "    </tr>\n",
              "    <tr>\n",
              "      <th>1</th>\n",
              "      <td>三重県</td>\n",
              "      <td>四日市</td>\n",
              "      <td>インドネシア</td>\n",
              "      <td>674544</td>\n",
              "    </tr>\n",
              "    <tr>\n",
              "      <th>2</th>\n",
              "      <td>三重県</td>\n",
              "      <td>四日市</td>\n",
              "      <td>オマーン</td>\n",
              "      <td>449991</td>\n",
              "    </tr>\n",
              "    <tr>\n",
              "      <th>3</th>\n",
              "      <td>三重県</td>\n",
              "      <td>四日市</td>\n",
              "      <td>オーストラリア</td>\n",
              "      <td>3878849</td>\n",
              "    </tr>\n",
              "    <tr>\n",
              "      <th>4</th>\n",
              "      <td>三重県</td>\n",
              "      <td>四日市</td>\n",
              "      <td>カタール</td>\n",
              "      <td>1578185</td>\n",
              "    </tr>\n",
              "    <tr>\n",
              "      <th>...</th>\n",
              "      <td>...</td>\n",
              "      <td>...</td>\n",
              "      <td>...</td>\n",
              "      <td>...</td>\n",
              "    </tr>\n",
              "    <tr>\n",
              "      <th>171</th>\n",
              "      <td>静岡県</td>\n",
              "      <td>清水</td>\n",
              "      <td>マレーシア</td>\n",
              "      <td>295905</td>\n",
              "    </tr>\n",
              "    <tr>\n",
              "      <th>172</th>\n",
              "      <td>香川県</td>\n",
              "      <td>坂出</td>\n",
              "      <td>マレーシア</td>\n",
              "      <td>1174451</td>\n",
              "    </tr>\n",
              "    <tr>\n",
              "      <th>173</th>\n",
              "      <td>鹿児島県</td>\n",
              "      <td>志布志</td>\n",
              "      <td>韓国</td>\n",
              "      <td>120</td>\n",
              "    </tr>\n",
              "    <tr>\n",
              "      <th>174</th>\n",
              "      <td>鹿児島県</td>\n",
              "      <td>鹿児島</td>\n",
              "      <td>オマーン</td>\n",
              "      <td>20025</td>\n",
              "    </tr>\n",
              "    <tr>\n",
              "      <th>175</th>\n",
              "      <td>鹿児島県</td>\n",
              "      <td>鹿児島</td>\n",
              "      <td>オーストラリア</td>\n",
              "      <td>107064</td>\n",
              "    </tr>\n",
              "  </tbody>\n",
              "</table>\n",
              "<p>176 rows × 4 columns</p>\n",
              "</div>\n",
              "      <button class=\"colab-df-convert\" onclick=\"convertToInteractive('df-a156813b-618a-43dc-8dbf-1cb770a9ebb2')\"\n",
              "              title=\"Convert this dataframe to an interactive table.\"\n",
              "              style=\"display:none;\">\n",
              "        \n",
              "  <svg xmlns=\"http://www.w3.org/2000/svg\" height=\"24px\"viewBox=\"0 0 24 24\"\n",
              "       width=\"24px\">\n",
              "    <path d=\"M0 0h24v24H0V0z\" fill=\"none\"/>\n",
              "    <path d=\"M18.56 5.44l.94 2.06.94-2.06 2.06-.94-2.06-.94-.94-2.06-.94 2.06-2.06.94zm-11 1L8.5 8.5l.94-2.06 2.06-.94-2.06-.94L8.5 2.5l-.94 2.06-2.06.94zm10 10l.94 2.06.94-2.06 2.06-.94-2.06-.94-.94-2.06-.94 2.06-2.06.94z\"/><path d=\"M17.41 7.96l-1.37-1.37c-.4-.4-.92-.59-1.43-.59-.52 0-1.04.2-1.43.59L10.3 9.45l-7.72 7.72c-.78.78-.78 2.05 0 2.83L4 21.41c.39.39.9.59 1.41.59.51 0 1.02-.2 1.41-.59l7.78-7.78 2.81-2.81c.8-.78.8-2.07 0-2.86zM5.41 20L4 18.59l7.72-7.72 1.47 1.35L5.41 20z\"/>\n",
              "  </svg>\n",
              "      </button>\n",
              "      \n",
              "  <style>\n",
              "    .colab-df-container {\n",
              "      display:flex;\n",
              "      flex-wrap:wrap;\n",
              "      gap: 12px;\n",
              "    }\n",
              "\n",
              "    .colab-df-convert {\n",
              "      background-color: #E8F0FE;\n",
              "      border: none;\n",
              "      border-radius: 50%;\n",
              "      cursor: pointer;\n",
              "      display: none;\n",
              "      fill: #1967D2;\n",
              "      height: 32px;\n",
              "      padding: 0 0 0 0;\n",
              "      width: 32px;\n",
              "    }\n",
              "\n",
              "    .colab-df-convert:hover {\n",
              "      background-color: #E2EBFA;\n",
              "      box-shadow: 0px 1px 2px rgba(60, 64, 67, 0.3), 0px 1px 3px 1px rgba(60, 64, 67, 0.15);\n",
              "      fill: #174EA6;\n",
              "    }\n",
              "\n",
              "    [theme=dark] .colab-df-convert {\n",
              "      background-color: #3B4455;\n",
              "      fill: #D2E3FC;\n",
              "    }\n",
              "\n",
              "    [theme=dark] .colab-df-convert:hover {\n",
              "      background-color: #434B5C;\n",
              "      box-shadow: 0px 1px 3px 1px rgba(0, 0, 0, 0.15);\n",
              "      filter: drop-shadow(0px 1px 2px rgba(0, 0, 0, 0.3));\n",
              "      fill: #FFFFFF;\n",
              "    }\n",
              "  </style>\n",
              "\n",
              "      <script>\n",
              "        const buttonEl =\n",
              "          document.querySelector('#df-a156813b-618a-43dc-8dbf-1cb770a9ebb2 button.colab-df-convert');\n",
              "        buttonEl.style.display =\n",
              "          google.colab.kernel.accessAllowed ? 'block' : 'none';\n",
              "\n",
              "        async function convertToInteractive(key) {\n",
              "          const element = document.querySelector('#df-a156813b-618a-43dc-8dbf-1cb770a9ebb2');\n",
              "          const dataTable =\n",
              "            await google.colab.kernel.invokeFunction('convertToInteractive',\n",
              "                                                     [key], {});\n",
              "          if (!dataTable) return;\n",
              "\n",
              "          const docLinkHtml = 'Like what you see? Visit the ' +\n",
              "            '<a target=\"_blank\" href=https://colab.research.google.com/notebooks/data_table.ipynb>data table notebook</a>'\n",
              "            + ' to learn more about interactive tables.';\n",
              "          element.innerHTML = '';\n",
              "          dataTable['output_type'] = 'display_data';\n",
              "          await google.colab.output.renderOutput(dataTable, element);\n",
              "          const docLink = document.createElement('div');\n",
              "          docLink.innerHTML = docLinkHtml;\n",
              "          element.appendChild(docLink);\n",
              "        }\n",
              "      </script>\n",
              "    </div>\n",
              "  </div>\n",
              "  "
            ]
          },
          "metadata": {},
          "execution_count": 11
        }
      ]
    }
  ]
}