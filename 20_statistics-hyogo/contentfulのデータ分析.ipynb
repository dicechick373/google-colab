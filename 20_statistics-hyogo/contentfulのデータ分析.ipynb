{
  "nbformat": 4,
  "nbformat_minor": 0,
  "metadata": {
    "colab": {
      "provenance": [],
      "toc_visible": true,
      "authorship_tag": "ABX9TyODduNeaCif/rdwPipAszZb"
    },
    "kernelspec": {
      "name": "python3",
      "display_name": "Python 3"
    },
    "language_info": {
      "name": "python"
    }
  },
  "cells": [
    {
      "cell_type": "markdown",
      "source": [
        "# 実行環境の作成"
      ],
      "metadata": {
        "id": "UC2H1j7zpH_x"
      }
    },
    {
      "cell_type": "markdown",
      "source": [
        "## contentful"
      ],
      "metadata": {
        "id": "1QAMAeiapS7Q"
      }
    },
    {
      "cell_type": "markdown",
      "source": [
        "contentfulのインストール"
      ],
      "metadata": {
        "id": "CadtwxczpLyM"
      }
    },
    {
      "cell_type": "code",
      "execution_count": 2,
      "metadata": {
        "id": "w0mfyXmqk8Ku",
        "colab": {
          "base_uri": "https://localhost:8080/"
        },
        "outputId": "a5367188-b689-4193-bbf5-c7c62cbd1c5c"
      },
      "outputs": [
        {
          "output_type": "stream",
          "name": "stdout",
          "text": [
            "Looking in indexes: https://pypi.org/simple, https://us-python.pkg.dev/colab-wheels/public/simple/\n",
            "Collecting contentful\n",
            "  Downloading contentful-1.13.1.tar.gz (24 kB)\n",
            "Requirement already satisfied: requests<3.0,>=2.20.0 in /usr/local/lib/python3.7/dist-packages (from contentful) (2.23.0)\n",
            "Requirement already satisfied: python-dateutil in /usr/local/lib/python3.7/dist-packages (from contentful) (2.8.2)\n",
            "Requirement already satisfied: chardet<4,>=3.0.2 in /usr/local/lib/python3.7/dist-packages (from requests<3.0,>=2.20.0->contentful) (3.0.4)\n",
            "Requirement already satisfied: urllib3!=1.25.0,!=1.25.1,<1.26,>=1.21.1 in /usr/local/lib/python3.7/dist-packages (from requests<3.0,>=2.20.0->contentful) (1.24.3)\n",
            "Requirement already satisfied: certifi>=2017.4.17 in /usr/local/lib/python3.7/dist-packages (from requests<3.0,>=2.20.0->contentful) (2022.6.15)\n",
            "Requirement already satisfied: idna<3,>=2.5 in /usr/local/lib/python3.7/dist-packages (from requests<3.0,>=2.20.0->contentful) (2.10)\n",
            "Requirement already satisfied: six>=1.5 in /usr/local/lib/python3.7/dist-packages (from python-dateutil->contentful) (1.15.0)\n",
            "Building wheels for collected packages: contentful\n",
            "  Building wheel for contentful (setup.py) ... \u001b[?25l\u001b[?25hdone\n",
            "  Created wheel for contentful: filename=contentful-1.13.1-py3-none-any.whl size=23526 sha256=838176dda295a027d3a7e2542961a3d1c62bb33f71fb706d33a53840507a5645\n",
            "  Stored in directory: /root/.cache/pip/wheels/a5/52/4a/ce6f78e070d76e797fff2e3270daab9eb3a937a3195611934c\n",
            "Successfully built contentful\n",
            "Installing collected packages: contentful\n",
            "Successfully installed contentful-1.13.1\n"
          ]
        }
      ],
      "source": [
        "pip install contentful"
      ]
    },
    {
      "cell_type": "markdown",
      "source": [
        "環境変数の設定"
      ],
      "metadata": {
        "id": "XjNE1dLfpWtW"
      }
    },
    {
      "cell_type": "code",
      "source": [
        "CTF_SPACE_ID='kg2cianb49uf'\n",
        "CTF_ACCESS_TOKEN='unkkBwsQP3K7qaFKRlTqvPqspLAjPWCaUOEtiTn_Jzo'"
      ],
      "metadata": {
        "id": "knNopLbsnNrE"
      },
      "execution_count": 1,
      "outputs": []
    },
    {
      "cell_type": "markdown",
      "source": [
        "## pythonライブラリ追加"
      ],
      "metadata": {
        "id": "jdLrcLIZqAqp"
      }
    },
    {
      "cell_type": "code",
      "source": [
        "import contentful\n",
        "import json\n",
        "import pandas as pd"
      ],
      "metadata": {
        "id": "bEizL04Up-Do"
      },
      "execution_count": 34,
      "outputs": []
    },
    {
      "cell_type": "markdown",
      "source": [
        "# 統計分野"
      ],
      "metadata": {
        "id": "x2gkHk1xpby1"
      }
    },
    {
      "cell_type": "markdown",
      "source": [
        "統計分野一覧を返す関数"
      ],
      "metadata": {
        "id": "YVPIVOjHwV4O"
      }
    },
    {
      "cell_type": "code",
      "source": [
        "def get_contentful_statistics_fields():\n",
        "  client = contentful.Client(CTF_SPACE_ID, CTF_ACCESS_TOKEN)\n",
        "  entries = client.entries({'content_type': 'statisticsField'})\n",
        "\n",
        "  # 返却値の設定（Key指定）\n",
        "  res = []\n",
        "  keys = ['field_id','field_title']\n",
        "  \n",
        "  for entry in entries:\n",
        "    dic = {}\n",
        "    for key in keys:\n",
        "      dic[key] = entry.fields()[key]\n",
        "\n",
        "    res.append(dic)\n",
        "\n",
        "  return json.dumps(res,ensure_ascii=False)"
      ],
      "metadata": {
        "id": "my1bO4EYnXkK"
      },
      "execution_count": 68,
      "outputs": []
    },
    {
      "cell_type": "code",
      "source": [
        "statistics_fields = get_contentful_statistics_fields()\n",
        "print(statistics_fields)"
      ],
      "metadata": {
        "colab": {
          "base_uri": "https://localhost:8080/"
        },
        "id": "JEA3l7CC7MVP",
        "outputId": "962ea2b8-40c4-4b6c-e2f4-96f25f11075b"
      },
      "execution_count": 69,
      "outputs": [
        {
          "output_type": "stream",
          "name": "stdout",
          "text": [
            "[{\"field_id\": \"economy\", \"field_title\": \"企業・家計・経済\"}, {\"field_id\": \"administrativefinancial\", \"field_title\": \"行財政\"}, {\"field_id\": \"population\", \"field_title\": \"人口・世帯\"}, {\"field_id\": \"safetyenvironment\", \"field_title\": \"司法・安全・環境\"}, {\"field_id\": \"educationsports\", \"field_title\": \"教育・文化・スポーツ\"}, {\"field_id\": \"tourism\", \"field_title\": \"運輸・観光\"}, {\"field_id\": \"energy\", \"field_title\": \"エネルギー・水\"}, {\"field_id\": \"miningindustry\", \"field_title\": \"鉱工業\"}, {\"field_id\": \"agriculture\", \"field_title\": \"農林水産業\"}, {\"field_id\": \"landweather\", \"field_title\": \"国土・気象\"}, {\"field_id\": \"construction\", \"field_title\": \"住宅・土地・建設\"}, {\"field_id\": \"international\", \"field_title\": \"国際\"}, {\"field_id\": \"socialsecurity\", \"field_title\": \"社会保障・衛生\"}, {\"field_id\": \"commercial\", \"field_title\": \"商業・サービス業\"}, {\"field_id\": \"laborwage\", \"field_title\": \"労働・賃金\"}]\n"
          ]
        }
      ]
    },
    {
      "cell_type": "markdown",
      "source": [
        "# 統計項目"
      ],
      "metadata": {
        "id": "Ya7FZjxW1kA-"
      }
    },
    {
      "cell_type": "markdown",
      "source": [
        "## 統計項目一覧"
      ],
      "metadata": {
        "id": "GERQeTq45yqv"
      }
    },
    {
      "cell_type": "markdown",
      "source": [
        "統計項目'statisticsMenu'を直接取りに行く場合"
      ],
      "metadata": {
        "id": "3YQ2s44fqA1V"
      }
    },
    {
      "cell_type": "code",
      "source": [
        "def get_contentful_statistics_menus():\n",
        "  client = contentful.Client(CTF_SPACE_ID, CTF_ACCESS_TOKEN)\n",
        "  entries = client.entries({'content_type': 'statisticsMenu'})\n",
        "\n",
        "  # 返却値の設定（Key指定）\n",
        "  res = []\n",
        "  keys = ['menu_id','menu_title','field_id']\n",
        "  \n",
        "  for entry in entries:\n",
        "    dic = {}\n",
        "    for key in keys:\n",
        "      dic[key] = entry.fields()[key]\n",
        "\n",
        "    res.append(dic)\n",
        "\n",
        "  return json.dumps(res,ensure_ascii=False)"
      ],
      "metadata": {
        "id": "BYDhA5i72sGo"
      },
      "execution_count": 66,
      "outputs": []
    },
    {
      "cell_type": "code",
      "source": [
        "statistics_menus = get_contentful_statistics_menus()\n",
        "print(statistics_menus)"
      ],
      "metadata": {
        "colab": {
          "base_uri": "https://localhost:8080/"
        },
        "id": "HI5qhB4u7Had",
        "outputId": "ea72f968-441e-4180-a50c-c0fa10fd33b0"
      },
      "execution_count": 67,
      "outputs": [
        {
          "output_type": "stream",
          "name": "stdout",
          "text": [
            "[{\"menu_id\": \"foreigner\", \"menu_title\": \"外国人\", \"field_id\": \"international\"}, {\"menu_id\": \"gross-domestic-product\", \"menu_title\": \"総生産\", \"field_id\": \"economy\"}, {\"menu_id\": \"staff\", \"menu_title\": \"職員\", \"field_id\": \"administrativefinancial\"}, {\"menu_id\": \"household-budget\", \"menu_title\": \"家計\", \"field_id\": \"economy\"}, {\"menu_id\": \"marriage\", \"menu_title\": \"婚姻\", \"field_id\": \"population\"}, {\"menu_id\": \"birth\", \"menu_title\": \"出生\", \"field_id\": \"population\"}, {\"menu_id\": \"inflowoutflow\", \"menu_title\": \"流入・流出\", \"field_id\": \"population\"}, {\"menu_id\": \"traffic-accident\", \"menu_title\": \"交通事故\", \"field_id\": \"safetyenvironment\"}, {\"menu_id\": \"medical\", \"menu_title\": \"医療\", \"field_id\": \"socialsecurity\"}, {\"menu_id\": \"primary-schools\", \"menu_title\": \"小学校\", \"field_id\": \"educationsports\"}, {\"menu_id\": \"car\", \"menu_title\": \"自動車\", \"field_id\": \"tourism\"}, {\"menu_id\": \"fishing\", \"menu_title\": \"漁業\", \"field_id\": \"agriculture\"}, {\"menu_id\": \"agriculture\", \"menu_title\": \"農業\", \"field_id\": \"agriculture\"}, {\"menu_id\": \"forestry\", \"menu_title\": \"林業\", \"field_id\": \"agriculture\"}, {\"menu_id\": \"labor-force\", \"menu_title\": \"労働力人口\", \"field_id\": \"laborwage\"}, {\"menu_id\": \"area\", \"menu_title\": \"面積\", \"field_id\": \"landweather\"}, {\"menu_id\": \"land\", \"menu_title\": \"土地\", \"field_id\": \"construction\"}, {\"menu_id\": \"kindergarten\", \"menu_title\": \"幼稚園\", \"field_id\": \"educationsports\"}, {\"menu_id\": \"energy\", \"menu_title\": \"エネルギー\", \"field_id\": \"energy\"}, {\"menu_id\": \"death\", \"menu_title\": \"死亡\", \"field_id\": \"population\"}, {\"menu_id\": \"pollution\", \"menu_title\": \"公害\", \"field_id\": \"safetyenvironment\"}, {\"menu_id\": \"crime\", \"menu_title\": \"犯罪\", \"field_id\": \"safetyenvironment\"}, {\"menu_id\": \"finance\", \"menu_title\": \"財政\", \"field_id\": \"administrativefinancial\"}, {\"menu_id\": \"disaster\", \"menu_title\": \"災害\", \"field_id\": \"safetyenvironment\"}, {\"menu_id\": \"environment\", \"menu_title\": \"環境\", \"field_id\": \"safetyenvironment\"}, {\"menu_id\": \"voluntary-car-insurance\", \"menu_title\": \"任意自動車保険\", \"field_id\": \"safetyenvironment\"}, {\"menu_id\": \"fires\", \"menu_title\": \"火災\", \"field_id\": \"safetyenvironment\"}, {\"menu_id\": \"fire-department\", \"menu_title\": \"消防\", \"field_id\": \"safetyenvironment\"}, {\"menu_id\": \"parliament\", \"menu_title\": \"議会\", \"field_id\": \"administrativefinancial\"}, {\"menu_id\": \"hotel\", \"menu_title\": \"宿泊施設\", \"field_id\": \"tourism\"}, {\"menu_id\": \"garbage\", \"menu_title\": \"ごみ\", \"field_id\": \"energy\"}, {\"menu_id\": \"construction\", \"menu_title\": \"建設\", \"field_id\": \"construction\"}, {\"menu_id\": \"price\", \"menu_title\": \"物価\", \"field_id\": \"economy\"}, {\"menu_id\": \"sales\", \"menu_title\": \"売上\", \"field_id\": \"economy\"}, {\"menu_id\": \"establishments\", \"menu_title\": \"事業所等\", \"field_id\": \"economy\"}, {\"menu_id\": \"commercial\", \"menu_title\": \"商業\", \"field_id\": \"commercial\"}, {\"menu_id\": \"industrial-water\", \"menu_title\": \"工業用水\", \"field_id\": \"miningindustry\"}, {\"menu_id\": \"manufacturing-industry\", \"menu_title\": \"製造業\", \"field_id\": \"miningindustry\"}, {\"menu_id\": \"climate\", \"menu_title\": \"気候\", \"field_id\": \"landweather\"}, {\"menu_id\": \"park\", \"menu_title\": \"自然・公園\", \"field_id\": \"landweather\"}, {\"menu_id\": \"household\", \"menu_title\": \"世帯\", \"field_id\": \"population\"}, {\"menu_id\": \"moveinmoveout\", \"menu_title\": \"転入・転出\", \"field_id\": \"population\"}, {\"menu_id\": \"population\", \"menu_title\": \"人口\", \"field_id\": \"population\"}]\n"
          ]
        }
      ]
    },
    {
      "cell_type": "markdown",
      "source": [
        "## 特定の統計項目"
      ],
      "metadata": {
        "id": "mos_rqpe537r"
      }
    },
    {
      "cell_type": "code",
      "source": [
        "def get_contentful_statistics_menu(menuId):\n",
        "  client = contentful.Client(CTF_SPACE_ID, CTF_ACCESS_TOKEN)\n",
        "  entries = client.entries({'content_type': 'statisticsMenu','fields.menuId': menuId})\n",
        "\n",
        "  # 返却値の設定（Key指定）\n",
        "  res = {}\n",
        "  keys = ['menu_id','menu_title','field_id']\n",
        "  \n",
        "  for entry in entries:\n",
        "    for key in keys:\n",
        "      res[key] = entry.fields()[key]\n",
        "\n",
        "  return json.dumps(res,ensure_ascii=False)"
      ],
      "metadata": {
        "id": "KepQDjGl59hu"
      },
      "execution_count": 64,
      "outputs": []
    },
    {
      "cell_type": "code",
      "source": [
        "menuId = 'foreigner'\n",
        "statistics_menu = get_contentful_statistics_menu(menuId)\n",
        "print(statistics_menu)"
      ],
      "metadata": {
        "colab": {
          "base_uri": "https://localhost:8080/"
        },
        "id": "pVYMKX2Y7At2",
        "outputId": "847b31c6-0283-45e0-d948-e3c55524c07e"
      },
      "execution_count": 65,
      "outputs": [
        {
          "output_type": "stream",
          "name": "stdout",
          "text": [
            "{\"menu_id\": \"foreigner\", \"menu_title\": \"外国人\", \"field_id\": \"international\"}\n"
          ]
        }
      ]
    },
    {
      "cell_type": "markdown",
      "source": [
        "## 統計分野＋統計項目"
      ],
      "metadata": {
        "id": "XDSt7GDl7vqk"
      }
    },
    {
      "cell_type": "markdown",
      "source": [
        "統計分野'statistiscField'から取ってくる"
      ],
      "metadata": {
        "id": "dYzJtzte5hAr"
      }
    },
    {
      "cell_type": "markdown",
      "source": [],
      "metadata": {
        "id": "5Whcf8Vn7vLP"
      }
    },
    {
      "cell_type": "code",
      "source": [
        "def get_contentful_statistics_menus_with_fields():\n",
        "  client = contentful.Client(CTF_SPACE_ID, CTF_ACCESS_TOKEN)\n",
        "  entries = client.entries({'content_type': 'statisticsField'})\n",
        "\n",
        "  # 返却値の設定（Key指定）\n",
        "  res = []\n",
        "  \n",
        "  for entry in entries:\n",
        "\n",
        "    # 都道府県\n",
        "    for menu in entry.fields()['menu_prefecture']:\n",
        "      dic = {}\n",
        "      dic['field_id'] = entry.fields()['field_id']\n",
        "      dic['field_title'] = entry.fields()['field_title']\n",
        "      dic['government_type'] = 'prefecture'\n",
        "      dic['menu_id'] = menu.fields()['menu_id']\n",
        "      dic['menu_title'] = menu.fields()['menu_title']\n",
        "      res.append(dic)\n",
        "   \n",
        "    # 市区町村\n",
        "    for menu in entry.fields()['menu_city']:\n",
        "      dic = {}\n",
        "      dic['field_id'] = entry.fields()['field_id']\n",
        "      dic['field_title'] = entry.fields()['field_title']\n",
        "      dic['government_type'] = 'city'\n",
        "      dic['menu_id'] = menu.fields()['menu_id']\n",
        "      dic['menu_title'] = menu.fields()['menu_title']\n",
        "      res.append(dic)\n",
        "\n",
        "  return json.dumps(res,ensure_ascii=False)"
      ],
      "metadata": {
        "id": "WTJeXVNM7ux8"
      },
      "execution_count": 106,
      "outputs": []
    },
    {
      "cell_type": "code",
      "source": [
        "statistics_menus = get_contentful_statistics_menus_with_fields()\n",
        "print(statistics_menus)"
      ],
      "metadata": {
        "colab": {
          "base_uri": "https://localhost:8080/"
        },
        "id": "Cf4Oqey2-mOP",
        "outputId": "db5fab03-49c5-40d9-b372-8824e2d548fc"
      },
      "execution_count": 107,
      "outputs": [
        {
          "output_type": "stream",
          "name": "stdout",
          "text": [
            "[{\"field_id\": \"economy\", \"field_title\": \"企業・家計・経済\", \"government_type\": \"prefecture\", \"menu_id\": \"gross-domestic-product\", \"menu_title\": \"総生産\"}, {\"field_id\": \"economy\", \"field_title\": \"企業・家計・経済\", \"government_type\": \"prefecture\", \"menu_id\": \"household-budget\", \"menu_title\": \"家計\"}, {\"field_id\": \"economy\", \"field_title\": \"企業・家計・経済\", \"government_type\": \"prefecture\", \"menu_id\": \"establishments\", \"menu_title\": \"事業所等\"}, {\"field_id\": \"economy\", \"field_title\": \"企業・家計・経済\", \"government_type\": \"prefecture\", \"menu_id\": \"sales\", \"menu_title\": \"売上\"}, {\"field_id\": \"economy\", \"field_title\": \"企業・家計・経済\", \"government_type\": \"city\", \"menu_id\": \"gross-domestic-product\", \"menu_title\": \"総生産\"}, {\"field_id\": \"economy\", \"field_title\": \"企業・家計・経済\", \"government_type\": \"city\", \"menu_id\": \"household-budget\", \"menu_title\": \"家計\"}, {\"field_id\": \"administrativefinancial\", \"field_title\": \"行財政\", \"government_type\": \"prefecture\", \"menu_id\": \"staff\", \"menu_title\": \"職員\"}, {\"field_id\": \"administrativefinancial\", \"field_title\": \"行財政\", \"government_type\": \"prefecture\", \"menu_id\": \"finance\", \"menu_title\": \"財政\"}, {\"field_id\": \"administrativefinancial\", \"field_title\": \"行財政\", \"government_type\": \"prefecture\", \"menu_id\": \"parliament\", \"menu_title\": \"議会\"}, {\"field_id\": \"administrativefinancial\", \"field_title\": \"行財政\", \"government_type\": \"city\", \"menu_id\": \"staff\", \"menu_title\": \"職員\"}, {\"field_id\": \"population\", \"field_title\": \"人口・世帯\", \"government_type\": \"prefecture\", \"menu_id\": \"population\", \"menu_title\": \"人口\"}, {\"field_id\": \"population\", \"field_title\": \"人口・世帯\", \"government_type\": \"prefecture\", \"menu_id\": \"household\", \"menu_title\": \"世帯\"}, {\"field_id\": \"population\", \"field_title\": \"人口・世帯\", \"government_type\": \"prefecture\", \"menu_id\": \"marriage\", \"menu_title\": \"婚姻\"}, {\"field_id\": \"population\", \"field_title\": \"人口・世帯\", \"government_type\": \"prefecture\", \"menu_id\": \"birth\", \"menu_title\": \"出生\"}, {\"field_id\": \"population\", \"field_title\": \"人口・世帯\", \"government_type\": \"prefecture\", \"menu_id\": \"death\", \"menu_title\": \"死亡\"}, {\"field_id\": \"population\", \"field_title\": \"人口・世帯\", \"government_type\": \"prefecture\", \"menu_id\": \"moveinmoveout\", \"menu_title\": \"転入・転出\"}, {\"field_id\": \"population\", \"field_title\": \"人口・世帯\", \"government_type\": \"prefecture\", \"menu_id\": \"inflowoutflow\", \"menu_title\": \"流入・流出\"}, {\"field_id\": \"population\", \"field_title\": \"人口・世帯\", \"government_type\": \"city\", \"menu_id\": \"population\", \"menu_title\": \"人口\"}, {\"field_id\": \"safetyenvironment\", \"field_title\": \"司法・安全・環境\", \"government_type\": \"prefecture\", \"menu_id\": \"traffic-accident\", \"menu_title\": \"交通事故\"}, {\"field_id\": \"safetyenvironment\", \"field_title\": \"司法・安全・環境\", \"government_type\": \"prefecture\", \"menu_id\": \"pollution\", \"menu_title\": \"公害\"}, {\"field_id\": \"safetyenvironment\", \"field_title\": \"司法・安全・環境\", \"government_type\": \"prefecture\", \"menu_id\": \"disaster\", \"menu_title\": \"災害\"}, {\"field_id\": \"safetyenvironment\", \"field_title\": \"司法・安全・環境\", \"government_type\": \"prefecture\", \"menu_id\": \"crime\", \"menu_title\": \"犯罪\"}, {\"field_id\": \"safetyenvironment\", \"field_title\": \"司法・安全・環境\", \"government_type\": \"prefecture\", \"menu_id\": \"fire-department\", \"menu_title\": \"消防\"}, {\"field_id\": \"safetyenvironment\", \"field_title\": \"司法・安全・環境\", \"government_type\": \"prefecture\", \"menu_id\": \"fires\", \"menu_title\": \"火災\"}, {\"field_id\": \"safetyenvironment\", \"field_title\": \"司法・安全・環境\", \"government_type\": \"prefecture\", \"menu_id\": \"voluntary-car-insurance\", \"menu_title\": \"任意自動車保険\"}, {\"field_id\": \"safetyenvironment\", \"field_title\": \"司法・安全・環境\", \"government_type\": \"prefecture\", \"menu_id\": \"environment\", \"menu_title\": \"環境\"}, {\"field_id\": \"safetyenvironment\", \"field_title\": \"司法・安全・環境\", \"government_type\": \"city\", \"menu_id\": \"traffic-accident\", \"menu_title\": \"交通事故\"}, {\"field_id\": \"educationsports\", \"field_title\": \"教育・文化・スポーツ\", \"government_type\": \"prefecture\", \"menu_id\": \"primary-schools\", \"menu_title\": \"小学校\"}, {\"field_id\": \"educationsports\", \"field_title\": \"教育・文化・スポーツ\", \"government_type\": \"prefecture\", \"menu_id\": \"kindergarten\", \"menu_title\": \"幼稚園\"}, {\"field_id\": \"educationsports\", \"field_title\": \"教育・文化・スポーツ\", \"government_type\": \"city\", \"menu_id\": \"primary-schools\", \"menu_title\": \"小学校\"}, {\"field_id\": \"educationsports\", \"field_title\": \"教育・文化・スポーツ\", \"government_type\": \"city\", \"menu_id\": \"kindergarten\", \"menu_title\": \"幼稚園\"}, {\"field_id\": \"tourism\", \"field_title\": \"運輸・観光\", \"government_type\": \"prefecture\", \"menu_id\": \"car\", \"menu_title\": \"自動車\"}, {\"field_id\": \"tourism\", \"field_title\": \"運輸・観光\", \"government_type\": \"prefecture\", \"menu_id\": \"hotel\", \"menu_title\": \"宿泊施設\"}, {\"field_id\": \"tourism\", \"field_title\": \"運輸・観光\", \"government_type\": \"city\", \"menu_id\": \"car\", \"menu_title\": \"自動車\"}, {\"field_id\": \"energy\", \"field_title\": \"エネルギー・水\", \"government_type\": \"prefecture\", \"menu_id\": \"garbage\", \"menu_title\": \"ごみ\"}, {\"field_id\": \"energy\", \"field_title\": \"エネルギー・水\", \"government_type\": \"prefecture\", \"menu_id\": \"energy\", \"menu_title\": \"エネルギー\"}, {\"field_id\": \"energy\", \"field_title\": \"エネルギー・水\", \"government_type\": \"city\", \"menu_id\": \"garbage\", \"menu_title\": \"ごみ\"}, {\"field_id\": \"miningindustry\", \"field_title\": \"鉱工業\", \"government_type\": \"prefecture\", \"menu_id\": \"manufacturing-industry\", \"menu_title\": \"製造業\"}, {\"field_id\": \"miningindustry\", \"field_title\": \"鉱工業\", \"government_type\": \"prefecture\", \"menu_id\": \"industrial-water\", \"menu_title\": \"工業用水\"}, {\"field_id\": \"miningindustry\", \"field_title\": \"鉱工業\", \"government_type\": \"city\", \"menu_id\": \"manufacturing-industry\", \"menu_title\": \"製造業\"}, {\"field_id\": \"agriculture\", \"field_title\": \"農林水産業\", \"government_type\": \"prefecture\", \"menu_id\": \"agriculture\", \"menu_title\": \"農業\"}, {\"field_id\": \"agriculture\", \"field_title\": \"農林水産業\", \"government_type\": \"prefecture\", \"menu_id\": \"fishing\", \"menu_title\": \"漁業\"}, {\"field_id\": \"agriculture\", \"field_title\": \"農林水産業\", \"government_type\": \"prefecture\", \"menu_id\": \"forestry\", \"menu_title\": \"林業\"}, {\"field_id\": \"agriculture\", \"field_title\": \"農林水産業\", \"government_type\": \"city\", \"menu_id\": \"agriculture\", \"menu_title\": \"農業\"}, {\"field_id\": \"landweather\", \"field_title\": \"国土・気象\", \"government_type\": \"prefecture\", \"menu_id\": \"area\", \"menu_title\": \"面積\"}, {\"field_id\": \"landweather\", \"field_title\": \"国土・気象\", \"government_type\": \"prefecture\", \"menu_id\": \"climate\", \"menu_title\": \"気候\"}, {\"field_id\": \"landweather\", \"field_title\": \"国土・気象\", \"government_type\": \"city\", \"menu_id\": \"area\", \"menu_title\": \"面積\"}, {\"field_id\": \"construction\", \"field_title\": \"住宅・土地・建設\", \"government_type\": \"prefecture\", \"menu_id\": \"land\", \"menu_title\": \"土地\"}, {\"field_id\": \"construction\", \"field_title\": \"住宅・土地・建設\", \"government_type\": \"city\", \"menu_id\": \"land\", \"menu_title\": \"土地\"}, {\"field_id\": \"international\", \"field_title\": \"国際\", \"government_type\": \"prefecture\", \"menu_id\": \"foreigner\", \"menu_title\": \"外国人\"}, {\"field_id\": \"international\", \"field_title\": \"国際\", \"government_type\": \"city\", \"menu_id\": \"foreigner\", \"menu_title\": \"外国人\"}, {\"field_id\": \"socialsecurity\", \"field_title\": \"社会保障・衛生\", \"government_type\": \"prefecture\", \"menu_id\": \"medical\", \"menu_title\": \"医療\"}, {\"field_id\": \"socialsecurity\", \"field_title\": \"社会保障・衛生\", \"government_type\": \"city\", \"menu_id\": \"medical\", \"menu_title\": \"医療\"}, {\"field_id\": \"commercial\", \"field_title\": \"商業・サービス業\", \"government_type\": \"prefecture\", \"menu_id\": \"commercial\", \"menu_title\": \"商業\"}, {\"field_id\": \"commercial\", \"field_title\": \"商業・サービス業\", \"government_type\": \"city\", \"menu_id\": \"commercial\", \"menu_title\": \"商業\"}, {\"field_id\": \"laborwage\", \"field_title\": \"労働・賃金\", \"government_type\": \"prefecture\", \"menu_id\": \"labor-force\", \"menu_title\": \"労働力人口\"}, {\"field_id\": \"laborwage\", \"field_title\": \"労働・賃金\", \"government_type\": \"city\", \"menu_id\": \"labor-force\", \"menu_title\": \"労働力人口\"}]\n"
          ]
        }
      ]
    },
    {
      "cell_type": "markdown",
      "source": [],
      "metadata": {
        "id": "YLdOBxtz-bYU"
      }
    },
    {
      "cell_type": "markdown",
      "source": [
        "# 統計カード（estat）"
      ],
      "metadata": {
        "id": "DMzHNnHVqBbQ"
      }
    },
    {
      "cell_type": "markdown",
      "source": [
        "## 統計カード一覧"
      ],
      "metadata": {
        "id": "Ea11UUzpCtf_"
      }
    },
    {
      "cell_type": "markdown",
      "source": [
        "統計カード'estatCardConfig'を直接取りに行く場合"
      ],
      "metadata": {
        "id": "E48Z7Lzw41eg"
      }
    },
    {
      "cell_type": "code",
      "source": [
        "def get_contentful_estat_cards():\n",
        "  client = contentful.Client(CTF_SPACE_ID, CTF_ACCESS_TOKEN)\n",
        "  entries = client.entries({'content_type': 'estatCardConfig'})\n",
        "\n",
        "  res = []\n",
        "  for entry in entries:\n",
        "    dic = entry.fields()\n",
        "    del dic['statistics_field']\n",
        "\n",
        "    res.append(dic)\n",
        "\n",
        "  return json.dumps(res,ensure_ascii=False)"
      ],
      "metadata": {
        "id": "aVjkoIyuqAdk"
      },
      "execution_count": 122,
      "outputs": []
    },
    {
      "cell_type": "code",
      "source": [
        "estat_cards = get_contentful_estat_cards()\n",
        "print(estat_cards)"
      ],
      "metadata": {
        "colab": {
          "base_uri": "https://localhost:8080/"
        },
        "id": "D2MjIxfoE-JX",
        "outputId": "7ce72163-01b8-42f8-d245-3a5f5ba0ea88"
      },
      "execution_count": 123,
      "outputs": [
        {
          "output_type": "stream",
          "name": "stdout",
          "text": [
            "[{\"card_title\": \"都道府県の総人口\", \"card_id\": \"total-population-prefecture\", \"government_type\": \"prefecture\", \"estat_params\": {\"cdCat01\": [\"A1101\", \"A110101\", \"A110102\"], \"statsDataId\": \"0000010101\"}, \"chart_component\": \"TimeChart\", \"toggle_series\": [{\"code\": [\"A1101\"], \"name\": \"総数\"}, {\"code\": [\"A110101\", \"A110102\"], \"name\": \"内訳\"}]}, {\"card_title\": \"都道府県の在留外国人数\", \"card_id\": \"foreign-resident-prefecture\", \"government_type\": \"prefecture\", \"estat_params\": {\"cdCat01\": [\"A3200\", \"A3201\", \"A3202\", \"A3203\", \"A3204\"], \"statsDataId\": \"0000010101\"}, \"chart_component\": \"TimeChart\", \"toggle_series\": [{\"id\": \"cat01\", \"code\": \"A3200\", \"name\": \"総数\"}, {\"id\": \"cat01\", \"code\": [\"A3201\", \"A3202\", \"A3203\", \"A3204\"], \"name\": \"内訳\"}]}, {\"card_title\": \"都道府県の1人当たり県民所得\", \"card_id\": \"prefectural-income-prefecture\", \"government_type\": \"prefecture\", \"estat_params\": {\"statsDataId\": \"0000010103\", \"cdCat01\": [\"C121101\"]}, \"chart_component\": \"TimeChart\"}, {\"card_title\": \"都道府県の付加価値額（民営）\", \"card_id\": \"value-added-amount-prefecture\", \"government_type\": \"prefecture\", \"estat_params\": {\"cdCat01\": [\"C6201\", \"C620101\", \"C620105\", \"C620106\", \"C620107\", \"C620108\", \"C620109\", \"C620110\", \"C620111\", \"C620112\", \"C620113\", \"C620114\", \"C620115\", \"C620116\", \"C620117\", \"C620118\", \"C620119\", \"C620120\", \"C620121\", \"C620122\"], \"statsDataId\": \"0000010103\"}, \"chart_component\": \"TimeChart\", \"toggle_series\": [{\"code\": [\"C6201\"], \"name\": \"総数\"}, {\"code\": [\"C620101\", \"C620105\", \"C620106\", \"C620107\", \"C620108\", \"C620109\", \"C620110\", \"C620111\", \"C620112\", \"C620113\", \"C620114\", \"C620115\", \"C620116\", \"C620117\", \"C620118\", \"C620119\", \"C620120\", \"C620121\", \"C620122\"], \"name\": \"内訳\"}]}, {\"card_title\": \"都道府県の従業者数\", \"card_id\": \"employees-prefecture\", \"government_type\": \"prefecture\", \"estat_params\": {\"cdCat01\": [\"C2201\", \"C2206\", \"C2204\", \"C2205\"], \"statsDataId\": \"0000010103\"}, \"chart_component\": \"TimeChart\", \"toggle_series\": [{\"code\": [\"C2201\"], \"name\": \"総数\"}, {\"code\": [\"C2206\", \"C2204\", \"C2205\"], \"name\": \"内訳\"}]}, {\"card_title\": \"都道府県の事業所数\", \"card_id\": \"establishments-prefecture\", \"government_type\": \"prefecture\", \"estat_params\": {\"cdCat01\": [\"C2101\", \"C2106\", \"C2104\", \"C2105\"], \"statsDataId\": \"0000010103\"}, \"chart_component\": \"TimeChart\", \"toggle_series\": [{\"code\": [\"C2101\"], \"name\": \"総数\"}, {\"code\": [\"C2106\", \"C2104\", \"C2105\"], \"name\": \"内訳\"}]}, {\"card_title\": \"都道府県の消防部門職員数\", \"card_id\": \"fire-department-staff-prefecture\", \"government_type\": \"prefecture\", \"estat_params\": {\"statsDataId\": \"0000010104\", \"cdCat01\": [\"D1203\"]}, \"chart_component\": \"TimeChart\"}, {\"card_title\": \"都道府県の教育部門職員数\", \"card_id\": \"education-department-staff-prefecture\", \"government_type\": \"prefecture\", \"estat_params\": {\"statsDataId\": \"0000010104\", \"cdCat01\": [\"D1204\"]}, \"chart_component\": \"TimeChart\"}, {\"card_title\": \"都道府県の県議会議員数\", \"card_id\": \"members\", \"government_type\": \"prefecture\", \"estat_params\": {\"statsDataId\": \"0000010104\", \"cdCat01\": [\"D1210\"]}, \"chart_component\": \"TimeChart\"}, {\"card_title\": \"都道府県の警察部門職員数\", \"card_id\": \"police-department-staff-prefecture\", \"government_type\": \"prefecture\", \"estat_params\": {\"statsDataId\": \"0000010104\", \"cdCat01\": [\"D1205\"]}, \"chart_component\": \"TimeChart\"}, {\"card_title\": \"市区町村の課税対象所得\", \"card_id\": \"taxable-income-city\", \"government_type\": \"city\", \"estat_params\": {\"cdCat01\": [\"C120110\"], \"statsDataId\": \"0000020203\"}, \"chart_component\": \"TimeChart\"}, {\"card_title\": \"都道府県の県内総資本形成（実質）\", \"card_id\": \"total-capital-formation-real-prefecture\", \"government_type\": \"prefecture\", \"estat_params\": {\"cdCat01\": [\"C1413\", \"C141301\", \"C141302\"], \"statsDataId\": \"0000010103\"}, \"chart_component\": \"TimeChart\", \"toggle_series\": [{\"code\": [\"C1413\"], \"name\": \"総数\"}, {\"code\": [\"C141301\", \"C141302\"], \"name\": \"内訳\"}]}, {\"card_title\": \"都道府県の有配偶人口\", \"card_id\": \"spouse-prefecture\", \"government_type\": \"prefecture\", \"estat_params\": {\"cdCat01\": [\"A1602021\", \"A1602022\", \"A1602031\", \"A1602032\", \"A1602041\", \"A1602042\", \"A1602051\", \"A1602052\", \"A1602061\", \"A1602062\", \"A1602071\", \"A1602072\", \"A1602081\", \"A1602082\", \"A1602091\", \"A1602092\", \"A1602101\", \"A1602102\", \"A1602111\", \"A1602112\", \"A1602121\", \"A1602122\", \"A1602131\", \"A1602132\", \"A1602141\", \"A1602142\", \"A1602151\", \"A1602152\"], \"statsDataId\": \"0000010101\"}, \"chart_component\": \"PyramidChart\"}, {\"card_title\": \"都道府県の未婚人口\", \"card_id\": \"unmarried-prefecture\", \"government_type\": \"prefecture\", \"estat_params\": {\"cdCat01\": [\"A1601021\", \"A1601022\", \"A1601031\", \"A1601032\", \"A1601041\", \"A1601042\", \"A1601051\", \"A1601052\", \"A1601061\", \"A1601062\", \"A1601071\", \"A1601072\", \"A1601081\", \"A1601082\", \"A1601091\", \"A1601092\", \"A1601101\", \"A1601102\", \"A1601111\", \"A1601112\", \"A1601121\", \"A1601122\", \"A1601131\", \"A1601132\", \"A1601141\", \"A1601142\", \"A1601151\", \"A1601152\"], \"statsDataId\": \"0000010101\"}, \"chart_component\": \"PyramidChart\"}, {\"card_title\": \"都道府県の離別人口\", \"card_id\": \"separated-prefecture\", \"government_type\": \"prefecture\", \"estat_params\": {\"cdCat01\": [\"A1604031\", \"A1604032\", \"A1604041\", \"A1604042\", \"A1604051\", \"A1604052\", \"A1604061\", \"A1604062\", \"A1604071\", \"A1604072\", \"A1604081\", \"A1604082\", \"A1604091\", \"A1604092\", \"A1604101\", \"A1604102\", \"A1604111\", \"A1604112\", \"A1604121\", \"A1604122\", \"A1604131\", \"A1604132\", \"A1604141\", \"A1604142\", \"A1604151\", \"A1604152\"], \"statsDataId\": \"0000010101\"}, \"series_options\": [{\"id\": \"cat01\", \"code\": \"B1101\", \"name\": \"総面積\"}], \"chart_component\": \"PyramidChart\"}, {\"card_title\": \"都道府県の平均初婚年齢\", \"card_id\": \"first-marriage-age-prefecture\", \"government_type\": \"prefecture\", \"estat_params\": {\"cdCat01\": [\"A9111\", \"A9112\"], \"statsDataId\": \"0000010101\"}, \"series_options\": [{\"id\": \"cat01\", \"code\": \"A9111\", \"name\": \"初婚の夫\", \"type\": \"line\", \"yAxis\": 0}, {\"id\": \"cat01\", \"code\": \"A9112\", \"name\": \"初婚の妻\", \"type\": \"line\", \"yAxis\": 0}], \"chart_component\": \"TimeChart\"}, {\"card_title\": \"都道府県の離婚件数\", \"card_id\": \"divorce-prefecture\", \"government_type\": \"prefecture\", \"estat_params\": {\"cdCat01\": [\"A9201\"], \"statsDataId\": \"0000010101\"}, \"series_options\": [{\"id\": \"cat01\", \"code\": \"A9201\", \"name\": \"離婚件数\"}], \"chart_component\": \"TimeChart\"}, {\"card_title\": \"都道府県の婚姻件数\", \"card_id\": \"marriage-prefecture\", \"government_type\": \"prefecture\", \"estat_params\": {\"cdCat01\": [\"A9101\"], \"statsDataId\": \"0000010101\"}, \"series_options\": [{\"id\": \"cat01\", \"code\": \"A9101\", \"name\": \"婚姻件数\"}], \"chart_component\": \"TimeChart\"}, {\"card_title\": \"都道府県の母子世帯数\", \"card_id\": \"single-mother-household-prefecture\", \"government_type\": \"prefecture\", \"estat_params\": {\"cdCat01\": [\"A8401\", \"A840101\", \"A840102\", \"A840103\"], \"statsDataId\": \"0000010101\"}, \"series_options\": [{\"id\": \"cat01\", \"code\": \"A8401\", \"name\": \"総数\"}, {\"id\": \"cat01\", \"code\": \"A840101\", \"name\": \"子供が1人\"}, {\"id\": \"cat01\", \"code\": \"A840102\", \"name\": \"子供が2人\"}, {\"id\": \"cat01\", \"code\": \"A840103\", \"name\": \"子供が3人以上\"}], \"chart_component\": \"TimeChart\", \"toggle_series\": [{\"code\": [\"A8401\"], \"name\": \"総数\"}, {\"code\": [\"A840101\", \"A840102\", \"A840103\"], \"name\": \"内訳\"}]}, {\"card_title\": \"都道府県の一般世帯数\", \"card_id\": \"household-prefecture\", \"government_type\": \"prefecture\", \"estat_params\": {\"cdCat01\": [\"A710101\"], \"statsDataId\": \"0000010101\"}, \"series_options\": [{\"id\": \"cat01\", \"code\": \"A710101\", \"name\": \"一般世帯数\"}], \"chart_component\": \"TimeChart\"}, {\"card_title\": \"都道府県の標準化死亡率\", \"card_id\": \"standardized-mortality-prefecture\", \"government_type\": \"prefecture\", \"estat_params\": {\"cdCat01\": [\"A4301\"], \"statsDataId\": \"0000010101\"}, \"series_options\": [{\"id\": \"cat01\", \"code\": \"A4301\", \"name\": \"標準化死亡率\", \"type\": \"line\", \"yAxis\": 0}], \"chart_component\": \"TimeChart\"}, {\"card_title\": \"都道府県の年齢調整死亡率\", \"card_id\": \"age-adjusted-mortality-prefecture\", \"government_type\": \"prefecture\", \"estat_params\": {\"cdCat01\": [\"A424001\", \"A424002\"], \"statsDataId\": \"0000010101\"}, \"series_options\": [{\"id\": \"cat01\", \"code\": \"A424001\", \"name\": \"男性\", \"type\": \"line\", \"yAxis\": 0}, {\"id\": \"cat01\", \"code\": \"A424002\", \"name\": \"女性\", \"type\": \"line\", \"yAxis\": 0}], \"chart_component\": \"TimeChart\"}, {\"card_title\": \"都道府県の死産数\", \"card_id\": \"stillbirth-prefecture\", \"government_type\": \"prefecture\", \"estat_params\": {\"cdCat01\": [\"A4270\", \"A427001\"], \"statsDataId\": \"0000010101\"}, \"series_options\": [{\"id\": \"cat01\", \"code\": \"A4270\", \"name\": \"死産数\"}, {\"id\": \"cat01\", \"code\": \"A427001\", \"name\": \"自然死産数\"}], \"chart_component\": \"TimeChart\"}, {\"card_title\": \"都道府県の死亡数（男女別）\", \"card_id\": \"death-sex-prefecture\", \"government_type\": \"prefecture\", \"estat_params\": {\"cdCat01\": [\"A4200\", \"A420001\", \"A420002\"], \"statsDataId\": \"0000010101\"}, \"series_options\": [{\"id\": \"cat01\", \"code\": \"A4200\", \"name\": \"総数\"}, {\"id\": \"cat01\", \"code\": \"A420001\", \"name\": \"男性\"}, {\"id\": \"cat01\", \"code\": \"A420002\", \"name\": \"女性\"}], \"chart_component\": \"TimeChart\", \"toggle_series\": [{\"code\": [\"A4200\"], \"name\": \"総数\"}, {\"code\": [\"A420001\", \"A420002\"], \"name\": \"内訳\"}]}, {\"card_title\": \"都道府県の出生数（男女別）\", \"card_id\": \"birth-sex-prefecture\", \"government_type\": \"prefecture\", \"estat_params\": {\"cdCat01\": [\"A4101\", \"A410101\", \"A410102\"], \"statsDataId\": \"0000010101\"}, \"series_options\": [{\"id\": \"cat01\", \"code\": \"A4101\", \"name\": \"出生数\"}, {\"id\": \"cat01\", \"code\": \"A410101\", \"name\": \"男性\"}, {\"id\": \"cat01\", \"code\": \"A410102\", \"name\": \"女性\"}], \"chart_component\": \"TimeChart\", \"toggle_series\": [{\"code\": [\"A4101\"], \"name\": \"総数\"}, {\"code\": [\"A410101\", \"A410102\"], \"name\": \"内訳\"}]}, {\"card_title\": \"都道府県の合計特殊出生率\", \"card_id\": \"total-fertility-rate-prefecture\", \"government_type\": \"prefecture\", \"estat_params\": {\"cdCat01\": [\"A4103\"], \"statsDataId\": \"0000010101\"}, \"series_options\": [{\"id\": \"cat01\", \"code\": \"A4103\", \"name\": \"合計特殊出生率\"}], \"chart_component\": \"TimeChart\"}, {\"card_title\": \"都道府県の流出人口（県外）\", \"card_id\": \"outflow-outside-prefecture\", \"government_type\": \"prefecture\", \"estat_params\": {\"cdCat01\": [\"A6104\", \"A610401\", \"A610402\"], \"statsDataId\": \"0000010101\"}, \"series_options\": [{\"id\": \"cat01\", \"code\": \"A6104\", \"name\": \"流出人口（県外）\"}, {\"id\": \"cat01\", \"code\": \"A610401\", \"name\": \"男性\"}, {\"id\": \"cat01\", \"code\": \"A610402\", \"name\": \"女性\"}], \"chart_component\": \"TimeChart\", \"toggle_series\": [{\"code\": [\"A6104\"], \"name\": \"総数\"}, {\"code\": [\"A610401\", \"A610402\"], \"name\": \"内訳\"}]}, {\"card_title\": \"都道府県の流出人口（県内）\", \"card_id\": \"outflow-inside-prefecture\", \"government_type\": \"prefecture\", \"estat_params\": {\"cdCat01\": [\"A6104\", \"A610401\", \"A610402\"], \"statsDataId\": \"0000010101\"}, \"series_options\": [{\"id\": \"cat01\", \"code\": \"A6104\", \"name\": \"流出人口（県外）\"}, {\"id\": \"cat01\", \"code\": \"A610401\", \"name\": \"男性\"}, {\"id\": \"cat01\", \"code\": \"A610402\", \"name\": \"女性\"}], \"chart_component\": \"TimeChart\", \"toggle_series\": [{\"code\": [\"A6104\"], \"name\": \"総数\"}, {\"code\": [\"A610401\", \"A610402\"], \"name\": \"内訳\"}]}, {\"card_title\": \"都道府県の流入人口（県内）\", \"card_id\": \"inflow-inside-prefecture\", \"government_type\": \"prefecture\", \"estat_params\": {\"cdCat01\": [\"A6106\", \"A610601\", \"A610602\"], \"statsDataId\": \"0000010101\"}, \"series_options\": [{\"id\": \"cat01\", \"code\": \"A6106\", \"name\": \"流入人口（県外）\"}, {\"id\": \"cat01\", \"code\": \"A610601\", \"name\": \"男性\"}, {\"id\": \"cat01\", \"code\": \"A610602\", \"name\": \"女性\"}], \"chart_component\": \"TimeChart\", \"toggle_series\": [{\"code\": [\"A6106\"], \"name\": \"総数\"}, {\"code\": [\"A610601\", \"A610602\"], \"name\": \"内訳\"}]}, {\"card_title\": \"都道府県の流入人口（県外）\", \"card_id\": \"inflow-outside-prefecture\", \"government_type\": \"prefecture\", \"estat_params\": {\"cdCat01\": [\"A6106\", \"A610601\", \"A610602\"], \"statsDataId\": \"0000010101\"}, \"series_options\": [{\"id\": \"cat01\", \"code\": \"A6106\", \"name\": \"流入人口（県外）\"}, {\"id\": \"cat01\", \"code\": \"A610601\", \"name\": \"男性\"}, {\"id\": \"cat01\", \"code\": \"A610602\", \"name\": \"女性\"}], \"chart_component\": \"TimeChart\", \"toggle_series\": [{\"code\": [\"A6106\"], \"name\": \"総数\"}, {\"code\": [\"A610601\", \"A610602\"], \"name\": \"内訳\"}]}, {\"card_title\": \"都道府県の転入者数（日本人）\", \"card_id\": \"movein-prefecture\", \"government_type\": \"prefecture\", \"estat_params\": {\"cdCat01\": [\"A5101\", \"A510101\", \"A510102\"], \"statsDataId\": \"0000010101\"}, \"series_options\": [{\"id\": \"cat01\", \"code\": \"A5101\", \"name\": \"転入者数（日本人）\"}, {\"id\": \"cat01\", \"code\": \"A510101\", \"name\": \"男性\"}, {\"id\": \"cat01\", \"code\": \"A510102\", \"name\": \"女性\"}], \"chart_component\": \"TimeChart\", \"toggle_series\": [{\"code\": [\"A5101\"], \"name\": \"総数\"}, {\"code\": [\"A510101\", \"A510102\"], \"name\": \"内訳\"}]}, {\"card_title\": \"都道府県の転出者数（日本人）\", \"card_id\": \"moveout-prefecture\", \"government_type\": \"prefecture\", \"estat_params\": {\"cdCat01\": [\"A5102\", \"A510201\", \"A510202\"], \"statsDataId\": \"0000010101\"}, \"series_options\": [{\"id\": \"cat01\", \"code\": \"A5102\", \"name\": \"転出者数（日本人）\"}, {\"id\": \"cat01\", \"code\": \"A510201\", \"name\": \"男性\"}, {\"id\": \"cat01\", \"code\": \"A510202\", \"name\": \"女性\"}], \"chart_component\": \"TimeChart\", \"toggle_series\": [{\"code\": [\"A5102\"], \"name\": \"総数\"}, {\"code\": [\"A510201\", \"A510202\"], \"name\": \"内訳\"}]}, {\"card_title\": \"都道府県の年間収入平均（勤労者世帯）\", \"card_id\": \"average-annual-income-two-prefecture\", \"government_type\": \"prefecture\", \"estat_params\": {\"cdCat01\": [\"L450201\"], \"statsDataId\": \"0000010112\"}, \"series_options\": [{\"id\": \"cat01\", \"code\": \"L450201\", \"name\": \"年間収入平均（勤労者世帯）\"}], \"chart_component\": \"TimeChart\"}, {\"card_title\": \"都道府県の年間収入平均（全世帯）\", \"card_id\": \"average-annual-income-one-prefecture\", \"government_type\": \"prefecture\", \"estat_params\": {\"cdCat01\": [\"L450101\"], \"statsDataId\": \"0000010112\"}, \"series_options\": [{\"id\": \"cat01\", \"code\": \"L450101\", \"name\": \"年間収入平均（全世帯）\"}], \"chart_component\": \"TimeChart\"}, {\"card_title\": \"市区町村の経常収支比率\", \"card_id\": \"current-account-ratio-city\", \"government_type\": \"city\", \"estat_params\": {\"cdCat01\": [\"D2203\"], \"statsDataId\": \"0000020204\"}, \"series_options\": [{\"id\": \"cat01\", \"code\": \"D2203\", \"name\": \"経常収支比率\"}], \"chart_component\": \"TimeChart\"}, {\"card_title\": \"市区町村の実質収支比率\", \"card_id\": \"real-balance-ratio-city\", \"government_type\": \"city\", \"estat_params\": {\"cdCat01\": [\"D2202\"], \"statsDataId\": \"0000020204\"}, \"series_options\": [{\"id\": \"cat01\", \"code\": \"D2202\", \"name\": \"実質収支比率\"}], \"chart_component\": \"TimeChart\"}, {\"card_title\": \"市区町村の財政力指数\", \"card_id\": \"financial-strength-index-city\", \"government_type\": \"city\", \"estat_params\": {\"cdCat01\": [\"D2201\"], \"statsDataId\": \"0000020204\"}, \"series_options\": [{\"id\": \"cat01\", \"code\": \"D2201\", \"name\": \"財政力指数\"}], \"chart_component\": \"TimeChart\"}, {\"card_title\": \"都道府県の基準財政収入額\", \"card_id\": \"standard-financial-income-prefecture\", \"government_type\": \"prefecture\", \"estat_params\": {\"cdCat01\": [\"D2105\"], \"statsDataId\": \"0000010104\"}, \"series_options\": [{\"id\": \"cat01\", \"code\": \"D2105\", \"name\": \"基準財政収入額\"}], \"chart_component\": \"TimeChart\"}, {\"card_title\": \"都道府県の基準財政需要額\", \"card_id\": \"standard-financial-demand-prefecture\", \"government_type\": \"prefecture\", \"estat_params\": {\"cdCat01\": [\"D2106\"], \"statsDataId\": \"0000010104\"}, \"series_options\": [{\"id\": \"cat01\", \"code\": \"D2106\", \"name\": \"基準財政需要額\"}], \"chart_component\": \"TimeChart\"}, {\"card_title\": \"都道府県の実質公債費比率\", \"card_id\": \"real-debt-service-ratio-prefecture\", \"government_type\": \"prefecture\", \"estat_params\": {\"cdCat01\": [\"D2111\"], \"statsDataId\": \"0000010104\"}, \"series_options\": [{\"id\": \"cat01\", \"code\": \"D2111\", \"name\": \"実質公債費比率\"}], \"chart_component\": \"TimeChart\"}, {\"card_title\": \"都道府県の実質収支比率\", \"card_id\": \"real-balance-ratio-prefecture\", \"government_type\": \"prefecture\", \"estat_params\": {\"cdCat01\": [\"D2102\"], \"statsDataId\": \"0000010104\"}, \"series_options\": [{\"id\": \"cat01\", \"code\": \"D2102\", \"name\": \"実質収支比率\"}], \"chart_component\": \"TimeChart\"}, {\"card_title\": \"都道府県の経常収支比率\", \"card_id\": \"current-account-ratio-prefecture\", \"government_type\": \"prefecture\", \"estat_params\": {\"cdCat01\": [\"D2103\"], \"statsDataId\": \"0000010104\"}, \"series_options\": [{\"id\": \"cat01\", \"code\": \"D2103\", \"name\": \"経常収支比率\"}], \"chart_component\": \"TimeChart\"}, {\"card_title\": \"都道府県の将来負担比率\", \"card_id\": \"future-burden-ratio-prefecture\", \"government_type\": \"prefecture\", \"estat_params\": {\"cdCat01\": [\"D2112\"], \"statsDataId\": \"0000010104\"}, \"series_options\": [{\"id\": \"cat01\", \"code\": \"D2112\", \"name\": \"将来負担比率\"}], \"chart_component\": \"TimeChart\"}, {\"card_title\": \"都道府県の財政力指数\", \"card_id\": \"financial-strength-index-prefecture\", \"government_type\": \"prefecture\", \"estat_params\": {\"cdCat01\": [\"D2101\"], \"statsDataId\": \"0000010104\"}, \"series_options\": [{\"id\": \"cat01\", \"code\": \"D2101\", \"name\": \"財政力指数\"}], \"chart_component\": \"TimeChart\"}, {\"card_title\": \"都道府県の温室効果ガス算定排出量\", \"card_id\": \"calculated-greenhouse-gas-emissions-prefecture\", \"government_type\": \"prefecture\", \"estat_params\": {\"cdCat01\": [\"K6107\", \"K6108\"], \"statsDataId\": \"0000010111\"}, \"series_options\": [{\"id\": \"cat01\", \"code\": \"K6107\", \"name\": \"排出量\", \"type\": \"column\", \"yAxis\": 1}, {\"id\": \"cat01\", \"code\": \"K6108\", \"name\": \"率\", \"type\": \"line\", \"yAxis\": 0}], \"chart_component\": \"TimeChart\"}, {\"card_title\": \"都道府県の道路交通法違反検挙総件数\", \"card_id\": \"road-traffic-law-prefecture\", \"government_type\": \"prefecture\", \"estat_params\": {\"cdCat01\": [\"K4401\"], \"statsDataId\": \"0000010111\"}, \"series_options\": [{\"id\": \"cat01\", \"code\": \"K4401\", \"name\": \"道路交通法違反検挙総件数\"}], \"chart_component\": \"TimeChart\"}, {\"card_title\": \"都道府県の交通事故事件件数\", \"card_id\": \"incident-prefecture\", \"government_type\": \"prefecture\", \"estat_params\": {\"cdCat01\": [\"K4402\"], \"statsDataId\": \"0000010111\"}, \"series_options\": [{\"id\": \"cat01\", \"code\": \"K4402\", \"name\": \"交通事故事件件数\"}], \"chart_component\": \"TimeChart\"}, {\"card_title\": \"都道府県の任意自動車保険契約台数\", \"card_id\": \"voluntary-car-insurance-prefecture\", \"government_type\": \"prefecture\", \"estat_params\": {\"cdCat01\": [\"K3301\", \"K3302\"], \"statsDataId\": \"0000010111\"}, \"series_options\": [{\"id\": \"cat01\", \"code\": \"K3301\", \"name\": \"契約台数\", \"type\": \"column\", \"yAxis\": 0}, {\"id\": \"cat01\", \"code\": \"K3302\", \"name\": \"契約保険料\", \"type\": \"line\", \"yAxis\": 1}], \"chart_component\": \"TimeChart\"}, {\"card_title\": \"都道府県の任意自動車保険保険金支払件数\", \"card_id\": \"voluntary-car-insurance-claims-paid-prefecture\", \"government_type\": \"prefecture\", \"estat_params\": {\"cdCat01\": [\"K3303\", \"K3304\"], \"statsDataId\": \"0000010111\"}, \"series_options\": [{\"id\": \"cat01\", \"code\": \"K3303\", \"name\": \"支払件数\", \"type\": \"column\", \"yAxis\": 1}, {\"id\": \"cat01\", \"code\": \"K3304\", \"name\": \"支払金額\", \"type\": \"line\", \"yAxis\": 0}], \"chart_component\": \"TimeChart\"}, {\"card_title\": \"都道府県の任意自動車保険普及率\", \"card_id\": \"voluntary-car-insurance-penetration-rate-prefecture\", \"government_type\": \"prefecture\", \"estat_params\": {\"cdCat01\": [\"K330501\", \"K330502\", \"K330503\", \"K330504\"], \"statsDataId\": \"0000010111\"}, \"series_options\": [{\"id\": \"cat01\", \"code\": \"K330501\", \"name\": \"車両\", \"type\": \"line\", \"yAxis\": 0}, {\"id\": \"cat01\", \"code\": \"K330502\", \"name\": \"対人\", \"type\": \"line\", \"yAxis\": 0}, {\"id\": \"cat01\", \"code\": \"K330503\", \"name\": \"対物\", \"type\": \"line\", \"yAxis\": 0}, {\"id\": \"cat01\", \"code\": \"K330504\", \"name\": \"搭乗者障害\", \"type\": \"line\", \"yAxis\": 0}], \"chart_component\": \"TimeChart\"}, {\"card_title\": \"都道府県の火災死傷者数\", \"card_id\": \"fire-casualties-prefecture\", \"government_type\": \"prefecture\", \"estat_params\": {\"cdCat01\": [\"K2109\", \"K2110\", \"K2111\"], \"statsDataId\": \"0000010111\"}, \"series_options\": [{\"id\": \"cat01\", \"code\": \"K2109\", \"name\": \"総数\"}, {\"id\": \"cat01\", \"code\": \"K2110\", \"name\": \"死亡者数\"}, {\"id\": \"cat01\", \"code\": \"K2111\", \"name\": \"負傷者数\"}], \"chart_component\": \"TimeChart\", \"toggle_series\": [{\"code\": [\"K2109\"], \"name\": \"総数\"}, {\"code\": [\"K2110\", \"K2110\"], \"name\": \"内訳\"}]}, {\"card_title\": \"都道府県の火災保険保険金支払件数\", \"card_id\": \"fire-insurance-claims-paid-prefecture\", \"government_type\": \"prefecture\", \"estat_params\": {\"cdCat01\": [\"K2213\", \"K2215\"], \"statsDataId\": \"0000010111\"}, \"series_options\": [{\"id\": \"cat01\", \"code\": \"K2213\", \"name\": \"支払金額\", \"type\": \"column\", \"yAxis\": 1}, {\"id\": \"cat01\", \"code\": \"K2215\", \"name\": \"支払件数\", \"type\": \"line\", \"yAxis\": 0}], \"chart_component\": \"TimeChart\"}, {\"card_title\": \"都道府県の火災保険新契約件数\", \"card_id\": \"new-fire-insurance-prefecture\", \"government_type\": \"prefecture\", \"estat_params\": {\"cdCat01\": [\"K2209\", \"K2211\"], \"statsDataId\": \"0000010111\"}, \"series_options\": [{\"id\": \"cat01\", \"code\": \"K2209\", \"name\": \"契約金額\", \"type\": \"column\", \"yAxis\": 1}, {\"id\": \"cat01\", \"code\": \"K2211\", \"name\": \"契約件数\", \"type\": \"line\", \"yAxis\": 0}], \"chart_component\": \"TimeChart\"}, {\"card_title\": \"都道府県の火災損害額\", \"card_id\": \"fire-damage-amount-prefecture\", \"government_type\": \"prefecture\", \"estat_params\": {\"cdCat01\": [\"K2105\", \"K2106\"], \"statsDataId\": \"0000010111\"}, \"series_options\": [{\"id\": \"cat01\", \"code\": \"K2105\", \"name\": \"火災損害額\"}, {\"id\": \"cat01\", \"code\": \"K2106\", \"name\": \"建物火災損害額\"}], \"chart_component\": \"TimeChart\"}, {\"card_title\": \"都道府県の火災出火件数\", \"card_id\": \"fires-prefecture\", \"government_type\": \"prefecture\", \"estat_params\": {\"cdCat01\": [\"K2101\", \"K2102\"], \"statsDataId\": \"0000010111\"}, \"series_options\": [{\"id\": \"cat01\", \"code\": \"K2101\", \"name\": \"火災出火件数\"}, {\"id\": \"cat01\", \"code\": \"K2102\", \"name\": \"建物火災出火件数\"}], \"chart_component\": \"TimeChart\"}, {\"card_title\": \"都道府県の救急出動件数\", \"card_id\": \"emergency-dispatches-prefecture\", \"government_type\": \"prefecture\", \"estat_params\": {\"cdCat01\": [\"K1210\"], \"statsDataId\": \"0000010111\"}, \"series_options\": [{\"id\": \"cat01\", \"code\": \"K1210\", \"name\": \"救急出動件数\"}], \"chart_component\": \"TimeChart\"}, {\"card_title\": \"都道府県の消防機関出動回数\", \"card_id\": \"fire-department-dispatch-prefecture\", \"government_type\": \"prefecture\", \"estat_params\": {\"cdCat01\": [\"K1201\"], \"statsDataId\": \"0000010111\"}, \"series_options\": [{\"id\": \"cat01\", \"code\": \"K1201\", \"name\": \"消防機関出動回数\"}], \"chart_component\": \"TimeChart\"}, {\"card_title\": \"都道府県の消防団数\", \"card_id\": \"fire-brigade-prefecture\", \"government_type\": \"prefecture\", \"estat_params\": {\"cdCat01\": [\"K1104\", \"K110401\", \"K110402\", \"K1105\"], \"statsDataId\": \"0000010111\"}, \"series_options\": [{\"id\": \"cat01\", \"code\": \"K1104\", \"name\": \"総数\", \"type\": \"column\", \"yAxis\": 0}, {\"id\": \"cat01\", \"code\": \"K110401\", \"name\": \"消防団数\", \"type\": \"column\", \"yAxis\": 0}, {\"id\": \"cat01\", \"code\": \"K110402\", \"name\": \"消防分団数\", \"type\": \"column\", \"yAxis\": 0}, {\"id\": \"cat01\", \"code\": \"K1105\", \"name\": \"消防団員数\", \"type\": \"line\", \"yAxis\": 1}], \"chart_component\": \"TimeChart\", \"toggle_series\": [{\"code\": [\"K1104\", \"K1105\"], \"name\": \"総数\"}, {\"code\": [\"K110401\", \"K110402\", \"K1105\"], \"name\": \"内訳\"}]}, {\"card_title\": \"都道府県の消防本部・署数\", \"card_id\": \"fire-department-prefecture\", \"government_type\": \"prefecture\", \"estat_params\": {\"cdCat01\": [\"K1101\"], \"statsDataId\": \"0000010111\"}, \"series_options\": [{\"id\": \"cat01\", \"code\": \"K1101\", \"name\": \"消防本部・署数\"}], \"chart_component\": \"TimeChart\"}, {\"card_title\": \"都道府県の家事事件件数\", \"card_id\": \"domestic-affairs-prefecture\", \"government_type\": \"prefecture\", \"estat_params\": {\"cdCat01\": [\"K4703\"], \"statsDataId\": \"0000010111\"}, \"series_options\": [{\"id\": \"cat01\", \"code\": \"K4703\", \"name\": \"家事事件件数\"}], \"chart_component\": \"TimeChart\"}, {\"card_title\": \"都道府県の民事事件件数\", \"card_id\": \"civil-cases-prefecture\", \"government_type\": \"prefecture\", \"estat_params\": {\"cdCat01\": [\"K4701\"], \"statsDataId\": \"0000010111\"}, \"series_options\": [{\"id\": \"cat01\", \"code\": \"K4701\", \"name\": \"民事事件件数\"}], \"chart_component\": \"TimeChart\"}, {\"card_title\": \"都道府県の行政事件件数\", \"card_id\": \"administrative-cases-prefecture\", \"government_type\": \"prefecture\", \"estat_params\": {\"cdCat01\": [\"K4702\"], \"statsDataId\": \"0000010111\"}, \"series_options\": [{\"id\": \"cat01\", \"code\": \"K4702\", \"name\": \"行政事件件数\"}], \"chart_component\": \"TimeChart\"}, {\"card_title\": \"都道府県の特別法犯\", \"card_id\": \"special-law-prefecture\", \"government_type\": \"prefecture\", \"estat_params\": {\"cdCat01\": [\"K4301\", \"K4302\"], \"statsDataId\": \"0000010111\"}, \"series_options\": [{\"id\": \"cat01\", \"code\": \"K4301\", \"name\": \"検挙件数\"}, {\"id\": \"cat01\", \"code\": \"K4302\", \"name\": \"検挙人員\"}], \"chart_component\": \"TimeChart\"}, {\"card_title\": \"都道府県の売春事犯\", \"card_id\": \"prostitution-prefecture\", \"government_type\": \"prefecture\", \"estat_params\": {\"cdCat01\": [\"K4305\", \"K4306\"], \"statsDataId\": \"0000010111\"}, \"series_options\": [{\"id\": \"cat01\", \"code\": \"K4305\", \"name\": \"検挙件数\"}, {\"id\": \"cat01\", \"code\": \"K4306\", \"name\": \"検挙人員\"}], \"chart_component\": \"TimeChart\"}, {\"card_title\": \"都道府県の防犯ボランティア団体数\", \"card_id\": \"crime-prevention-volunteer-prefecture\", \"government_type\": \"prefecture\", \"estat_params\": {\"cdCat01\": [\"K8101\", \"K8102\"], \"statsDataId\": \"0000010111\"}, \"series_options\": [{\"id\": \"cat01\", \"code\": \"K8101\", \"name\": \"防犯ボランティア団体数\"}, {\"id\": \"cat01\", \"code\": \"K8102\", \"name\": \"防犯ボランティア構成員数\"}], \"chart_component\": \"TimeChart\"}, {\"card_title\": \"都道府県の浸水被害\", \"card_id\": \"flood-damage-prefecture\", \"government_type\": \"prefecture\", \"estat_params\": {\"cdCat01\": [\"K5113\", \"K5114\"], \"statsDataId\": \"0000010111\"}, \"series_options\": [{\"id\": \"cat01\", \"code\": \"K5113\", \"name\": \"床上浸水\"}, {\"id\": \"cat01\", \"code\": \"K5114\", \"name\": \"床下浸水\"}], \"chart_component\": \"TimeChart\"}, {\"card_title\": \"都道府県の災害被害額\", \"card_id\": \"disaster-damage-amount-prefecture\", \"government_type\": \"prefecture\", \"estat_params\": {\"cdCat01\": [\"K5112\"], \"statsDataId\": \"0000010111\"}, \"series_options\": [{\"id\": \"cat01\", \"code\": \"K5112\", \"name\": \"災害被害額\"}], \"chart_component\": \"TimeChart\"}, {\"card_title\": \"都道府県の自然災害による罹災\", \"card_id\": \"natural-disasters-prefecture\", \"government_type\": \"prefecture\", \"estat_params\": {\"cdCat01\": [\"K5115\", \"K5116\"], \"statsDataId\": \"0000010111\"}, \"series_options\": [{\"id\": \"cat01\", \"code\": \"K5115\", \"name\": \"罹災世帯数\"}, {\"id\": \"cat01\", \"code\": \"K5116\", \"name\": \"罹災者数\"}], \"chart_component\": \"TimeChart\"}, {\"card_title\": \"都道府県の水質汚濁防止法上の特定事業所数\", \"card_id\": \"water-pollution-prefecture\", \"government_type\": \"prefecture\", \"estat_params\": {\"statsDataId\": \"0000010111\", \"cdCat01\": [\"K6106\"]}, \"series_options\": [{\"id\": \"cat01\", \"code\": \"K6106\", \"name\": \"水質汚濁防止法上の特定事業所数\"}], \"chart_component\": \"TimeChart\"}, {\"card_title\": \"都道府県の公害苦情件数\", \"card_id\": \"pollution-complaints-prefecture\", \"government_type\": \"prefecture\", \"estat_params\": {\"cdCat01\": [\"K6103\", \"K610301\", \"K610302\", \"K610303\", \"K610304\", \"K610305\", \"K610306\", \"K610307\"], \"statsDataId\": \"0000010111\"}, \"series_options\": [{\"id\": \"cat01\", \"code\": \"K6103\", \"name\": \"総数\"}, {\"id\": \"cat01\", \"code\": \"K610301\", \"name\": \"大気汚染\"}, {\"id\": \"cat01\", \"code\": \"K610302\", \"name\": \"水質汚濁\"}, {\"id\": \"cat01\", \"code\": \"K610303\", \"name\": \"土壌汚染\"}, {\"id\": \"cat01\", \"code\": \"K610304\", \"name\": \"騒音\"}, {\"id\": \"cat01\", \"code\": \"K610305\", \"name\": \"振動\"}, {\"id\": \"cat01\", \"code\": \"K610306\", \"name\": \"地盤沈下\"}, {\"id\": \"cat01\", \"code\": \"K610307\", \"name\": \"悪臭\"}], \"chart_component\": \"TimeChart\", \"toggle_series\": [{\"code\": [\"K6103\"], \"name\": \"総数\"}, {\"code\": [\"K610301\", \"K610302\", \"K610303\", \"K610304\", \"K610305\", \"K610306\", \"K610307\"], \"name\": \"内訳\"}]}, {\"card_title\": \"都道府県の公害苦情受付件数\", \"card_id\": \"pollution-complaints-received-prefecture\", \"government_type\": \"prefecture\", \"estat_params\": {\"cdCat01\": [\"K6101\", \"K610101\", \"K610102\"], \"statsDataId\": \"0000010111\"}, \"series_options\": [{\"id\": \"cat01\", \"code\": \"K6101\", \"name\": \"総数\"}, {\"id\": \"cat01\", \"code\": \"K610101\", \"name\": \"新規受付件数\"}, {\"id\": \"cat01\", \"code\": \"K610102\", \"name\": \"前年度繰越受付件数\"}], \"chart_component\": \"TimeChart\", \"toggle_series\": [{\"code\": [\"K6101\"], \"name\": \"総数\"}, {\"code\": [\"K610101\", \"K610102\"], \"name\": \"内訳\"}]}, {\"card_title\": \"都道府県の外国人被疑事件受理人員\", \"card_id\": \"accepting-alleged-foreigners-prefecture\", \"government_type\": \"prefecture\", \"estat_params\": {\"cdCat01\": [\"K4803\", \"K480301\", \"K480302\"], \"statsDataId\": \"0000010111\"}, \"series_options\": [{\"id\": \"cat01\", \"code\": \"K4803\", \"name\": \"総数\"}, {\"id\": \"cat01\", \"code\": \"K480301\", \"name\": \"既済人員\"}, {\"id\": \"cat01\", \"code\": \"K480302\", \"name\": \"未済人員\"}], \"chart_component\": \"TimeChart\", \"toggle_series\": [{\"code\": [\"K4803\"], \"name\": \"総数\"}, {\"code\": [\"K480301\", \"K480302\"], \"name\": \"内訳\"}]}, {\"card_title\": \"都道府県の国民健康保険給付金額\", \"card_id\": \"national-health-insurance-benefit-amount-prefecture\", \"government_type\": \"prefecture\", \"estat_params\": {\"cdCat01\": [\"J4108\"], \"statsDataId\": \"0000010110\"}, \"series_options\": [{\"id\": \"cat01\", \"code\": \"J4108\", \"name\": \"国民健康保険給付金額\"}], \"chart_component\": \"TimeChart\"}, {\"card_title\": \"市区町村の老人福祉施設数\", \"card_id\": \"welfare-facilities-elderly-city\", \"government_type\": \"prefecture\", \"estat_params\": {\"cdCat01\": [\"J2301\"], \"statsDataId\": \"0000020210\"}, \"series_options\": [{\"id\": \"cat01\", \"code\": \"J2301\", \"name\": \"老人福祉施設数\"}], \"chart_component\": \"TimeChart\"}, {\"card_title\": \"市区町村の国民健康保険給付金額\", \"card_id\": \"national-health-insurance-benefit-amount-city\", \"government_type\": \"prefecture\", \"estat_params\": {\"cdCat01\": [\"J4108\"], \"statsDataId\": \"0000020210\"}, \"series_options\": [{\"id\": \"cat01\", \"code\": \"J4108\", \"name\": \"国民健康保険給付金額\"}], \"chart_component\": \"TimeChart\"}, {\"card_title\": \"都道府県の国民医療費（総額）\", \"card_id\": \"national-medical-expenses-prefecture\", \"government_type\": \"prefecture\", \"estat_params\": {\"cdCat01\": [\"J4001\"], \"statsDataId\": \"0000010110\"}, \"series_options\": [{\"id\": \"cat01\", \"code\": \"J4001\", \"name\": \"国民医療費\"}], \"chart_component\": \"TimeChart\"}, {\"card_title\": \"都道府県の老人福祉施設数\", \"card_id\": \"welfare-facilities-elderly-prefecture\", \"government_type\": \"prefecture\", \"estat_params\": {\"cdCat01\": [\"J2301\"], \"statsDataId\": \"0000010110\"}, \"series_options\": [{\"id\": \"cat01\", \"code\": \"J2301\", \"name\": \"老人福祉施設数\"}], \"chart_component\": \"TimeChart\"}, {\"card_title\": \"市区町村の幼稚園数\", \"card_id\": \"kindergartens-city\", \"government_type\": \"city\", \"estat_params\": {\"cdCat01\": [\"E1101\"], \"statsDataId\": \"0000020205\"}, \"series_options\": [{\"id\": \"cat01\", \"code\": \"E1101\", \"name\": \"幼稚園数\"}], \"chart_component\": \"TimeChart\"}, {\"card_title\": \"都道府県の幼稚園教員数\", \"card_id\": \"kindergarten-teachers-prefecture\", \"government_type\": \"prefecture\", \"estat_params\": {\"cdCat01\": [\"E1301\", \"E130101\", \"E130102\"], \"statsDataId\": \"0000010105\"}, \"series_options\": [{\"id\": \"cat01\", \"code\": \"E1301\", \"name\": \"総数\"}, {\"id\": \"cat01\", \"code\": \"E130101\", \"name\": \"男性\"}, {\"id\": \"cat01\", \"code\": \"E130102\", \"name\": \"女性\"}], \"chart_component\": \"TimeChart\", \"toggle_series\": [{\"code\": [\"E1301\"], \"name\": \"総数\"}, {\"code\": [\"E130101\", \"E130102\"], \"name\": \"内訳\"}]}, {\"card_title\": \"都道府県の幼稚園在園者数\", \"card_id\": \"kindergarten-children-prefecture\", \"government_type\": \"prefecture\", \"estat_params\": {\"cdCat01\": [\"E1501\", \"E150104\", \"E150105\"], \"statsDataId\": \"0000010105\"}, \"series_options\": [{\"id\": \"cat01\", \"code\": \"E1501\", \"name\": \"総数\"}, {\"id\": \"cat01\", \"code\": \"E150104\", \"name\": \"男児\"}, {\"id\": \"cat01\", \"code\": \"E150105\", \"name\": \"女児\"}], \"chart_component\": \"TimeChart\", \"toggle_series\": [{\"code\": [\"E1501\"], \"name\": \"総数\"}, {\"code\": [\"E150104\", \"E150105\"], \"name\": \"内訳\"}]}, {\"card_title\": \"都道府県の幼稚園数\", \"card_id\": \"kindergartens-prefecture\", \"government_type\": \"prefecture\", \"estat_params\": {\"cdCat01\": [\"E1101\"], \"statsDataId\": \"0000010105\"}, \"series_options\": [{\"id\": \"cat01\", \"code\": \"E1101\", \"name\": \"幼稚園数\"}], \"chart_component\": \"TimeChart\"}, {\"card_title\": \"都道府県の小学校児童数\", \"card_id\": \"primary-school-students-prefecture\", \"government_type\": \"prefecture\", \"estat_params\": {\"cdCat01\": [\"E2501\", \"E250104\", \"E250105\"], \"statsDataId\": \"0000010105\"}, \"series_options\": [{\"id\": \"cat01\", \"code\": \"E2501\", \"name\": \"総数\"}, {\"id\": \"cat01\", \"code\": \"E250104\", \"name\": \"男児\"}, {\"id\": \"cat01\", \"code\": \"E250105\", \"name\": \"女児\"}], \"chart_component\": \"TimeChart\", \"toggle_series\": [{\"code\": [\"E2501\"], \"name\": \"総数\"}, {\"code\": [\"E250104\", \"E250105\"], \"name\": \"内訳\"}]}, {\"card_title\": \"都道府県の小学校教員数\", \"card_id\": \"primary-school-teachers-prefecture\", \"government_type\": \"prefecture\", \"estat_params\": {\"cdCat01\": [\"E2401\", \"E240101\", \"E240102\"], \"statsDataId\": \"0000010105\"}, \"series_options\": [{\"id\": \"cat01\", \"code\": \"E2401\", \"name\": \"総数\"}, {\"id\": \"cat01\", \"code\": \"E240101\", \"name\": \"男性\"}, {\"id\": \"cat01\", \"code\": \"E240102\", \"name\": \"女性\"}], \"chart_component\": \"TimeChart\", \"toggle_series\": [{\"code\": [\"E2401\"], \"name\": \"総数\"}, {\"code\": [\"E240101\", \"E240102\"], \"name\": \"内訳\"}]}, {\"card_title\": \"都道府県の高齢者講習受講者数\", \"card_id\": \"senior-citizens-prefecture\", \"government_type\": \"prefecture\", \"estat_params\": {\"cdCat01\": [\"K3504\", \"K3505\"], \"statsDataId\": \"0000010111\"}, \"series_options\": [{\"id\": \"cat01\", \"code\": \"K3504\", \"name\": \"70～74歳\"}, {\"id\": \"cat01\", \"code\": \"K3505\", \"name\": \"75歳以上\"}], \"chart_component\": \"TimeChart\"}, {\"card_title\": \"都道府県の運転免許保有者数\", \"card_id\": \"drivers-license-prefecture\", \"government_type\": \"prefecture\", \"estat_params\": {\"cdCat01\": [\"K3501\", \"K3502\", \"K3503\"], \"statsDataId\": \"0000010111\"}, \"series_options\": [{\"id\": \"cat01\", \"code\": \"K3501\", \"name\": \"大型\"}, {\"id\": \"cat01\", \"code\": \"K3502\", \"name\": \"中型\"}, {\"id\": \"cat01\", \"code\": \"K3503\", \"name\": \"普通\"}], \"chart_component\": \"TimeChart\"}, {\"card_title\": \"都道府県の旅館営業施設数\", \"card_id\": \"ryokan-prefecture\", \"government_type\": \"prefecture\", \"estat_params\": {\"cdCat01\": [\"C3801\", \"C3802\"], \"statsDataId\": \"0000010103\"}, \"series_options\": [{\"id\": \"cat01\", \"code\": \"C3801\", \"name\": \"施設数\", \"type\": \"column\", \"yAxis\": 0}, {\"id\": \"cat01\", \"code\": \"C3802\", \"name\": \"客室数\", \"type\": \"line\", \"yAxis\": 1}], \"chart_component\": \"TimeChart\"}, {\"card_title\": \"都道府県の都市ガス販売量\", \"card_id\": \"city-gas-sales-volume-prefecture\", \"government_type\": \"prefecture\", \"estat_params\": {\"cdCat01\": [\"H5206\"], \"statsDataId\": \"0000010108\"}, \"series_options\": [{\"id\": \"cat01\", \"code\": \"H5206\", \"name\": \"都市ガス販売量\"}], \"chart_component\": \"TimeChart\"}, {\"card_title\": \"都道府県の電力需要量\", \"card_id\": \"power-demans-prefecture\", \"government_type\": \"prefecture\", \"estat_params\": {\"cdCat01\": [\"H5105\"], \"statsDataId\": \"0000010108\"}, \"series_options\": [{\"id\": \"cat01\", \"code\": \"H5105\", \"name\": \"電力需要量\"}], \"chart_component\": \"TimeChart\"}, {\"card_title\": \"都道府県の発電電力量\", \"card_id\": \"power-generation-prefecture\", \"government_type\": \"prefecture\", \"estat_params\": {\"cdCat01\": [\"H5104\"], \"statsDataId\": \"0000010108\"}, \"series_options\": [{\"id\": \"cat01\", \"code\": \"H5104\", \"name\": \"発電電力量\"}], \"chart_component\": \"TimeChart\"}, {\"card_title\": \"都道府県のガソリン販売量\", \"card_id\": \"gasoline-sales-volume-prefecture\", \"government_type\": \"prefecture\", \"estat_params\": {\"cdCat01\": [\"H5205\"], \"statsDataId\": \"0000010108\"}, \"series_options\": [{\"id\": \"cat01\", \"code\": \"H5205\", \"name\": \"ガソリン販売量\"}], \"chart_component\": \"TimeChart\"}, {\"card_title\": \"都道府県の工業用水量\", \"card_id\": \"industrial-water-volume-prefecture\", \"government_type\": \"prefecture\", \"estat_params\": {\"cdCat01\": [\"C3406\", \"C340601\", \"C340602\"], \"statsDataId\": \"0000010103\"}, \"series_options\": [{\"id\": \"cat01\", \"code\": \"C3406\", \"name\": \"総数\"}, {\"id\": \"cat01\", \"code\": \"C340601\", \"name\": \"淡水\"}, {\"id\": \"cat01\", \"code\": \"C340602\", \"name\": \"海水\"}], \"chart_component\": \"TimeChart\", \"toggle_series\": [{\"code\": [\"C3406\"], \"name\": \"総数\"}, {\"code\": [\"C340601\", \"C340602\"], \"name\": \"内訳\"}]}, {\"card_title\": \"都道府県の養殖収穫量\", \"card_id\": \"aquaculture-yield-prefecture\", \"government_type\": \"prefecture\", \"estat_params\": {\"cdCat01\": [\"C3122\", \"C312201\", \"C312202\"], \"statsDataId\": \"0000010103\"}, \"series_options\": [{\"id\": \"cat01\", \"code\": \"C3122\", \"name\": \"総数\"}, {\"id\": \"cat01\", \"code\": \"C312201\", \"name\": \"海面養殖業収穫量\"}, {\"id\": \"cat01\", \"code\": \"C312202\", \"name\": \"内水面養殖業収穫量\"}], \"chart_component\": \"TimeChart\", \"toggle_series\": [{\"code\": [\"C3122\"], \"name\": \"総数\"}, {\"code\": [\"C312201\", \"C312202\"], \"name\": \"内訳\"}]}, {\"card_title\": \"都道府県の農林漁業者\", \"card_id\": \"agriculture-forestry-fisher-prefecture\", \"government_type\": \"prefecture\", \"estat_params\": {\"cdCat01\": [\"F1301\"], \"statsDataId\": \"0000010106\"}, \"series_options\": [{\"id\": \"cat01\", \"code\": \"F1301\", \"name\": \"農林漁業者\"}], \"chart_component\": \"TimeChart\"}, {\"card_title\": \"都道府県の耕地面積\", \"card_id\": \"agricultural-land-prefecture\", \"government_type\": \"prefecture\", \"estat_params\": {\"cdCat01\": [\"C3107\", \"C310701\", \"C310702\"], \"statsDataId\": \"0000010103\"}, \"series_options\": [{\"id\": \"cat01\", \"code\": \"C3107\", \"name\": \"総数\"}, {\"id\": \"cat01\", \"code\": \"C310701\", \"name\": \"田\"}, {\"id\": \"cat01\", \"code\": \"C310702\", \"name\": \"畑\"}], \"chart_component\": \"TimeChart\", \"toggle_series\": [{\"code\": [\"C3107\"], \"name\": \"総数\"}, {\"code\": [\"C310701\", \"C310702\"], \"name\": \"内訳\"}]}, {\"card_title\": \"都道府県の林道延長\", \"card_id\": \"forest-road-extension-prefecture\", \"government_type\": \"prefecture\", \"estat_params\": {\"cdCat01\": [\"C3114\"], \"statsDataId\": \"0000010103\"}, \"series_options\": [{\"id\": \"cat01\", \"code\": \"C3114\", \"name\": \"林道延長\"}], \"chart_component\": \"TimeChart\"}, {\"card_title\": \"都道府県の農林漁業雇用者\", \"card_id\": \"agriculture-forestry-and-fisheries-employers\", \"government_type\": \"prefecture\", \"estat_params\": {\"cdCat01\": [\"F1302\", \"F130201\", \"F130202\"], \"statsDataId\": \"0000010106\"}, \"series_options\": [{\"id\": \"cat01\", \"code\": \"F1302\", \"name\": \"総数\"}, {\"id\": \"cat01\", \"code\": \"F130201\", \"name\": \"男性\"}, {\"id\": \"cat01\", \"code\": \"F130202\", \"name\": \"女性\"}], \"chart_component\": \"TimeChart\", \"toggle_series\": [{\"code\": [\"F1302\"], \"name\": \"総数\"}, {\"code\": [\"F130201\", \"F130202\"], \"name\": \"内訳\"}]}, {\"card_title\": \"都道府県の漁業産出額\", \"card_id\": \"fishery-output-prefecture\", \"government_type\": \"prefecture\", \"estat_params\": {\"cdCat01\": [\"C3120\", \"C312001\", \"C312002\"], \"statsDataId\": \"0000010103\"}, \"series_options\": [{\"id\": \"cat01\", \"code\": \"C3120\", \"name\": \"総数\"}, {\"id\": \"cat01\", \"code\": \"C312001\", \"name\": \"海面漁業産出額\"}, {\"id\": \"cat01\", \"code\": \"C312002\", \"name\": \"海面養殖業産出額\"}], \"chart_component\": \"TimeChart\", \"toggle_series\": [{\"code\": [\"C3120\"], \"name\": \"総数\"}, {\"code\": [\"C312001\", \"C312002\"], \"name\": \"内訳\"}]}, {\"card_title\": \"都道府県の耕地放棄面積\", \"card_id\": \"abandoned-cultivated-prefecture\", \"government_type\": \"prefecture\", \"estat_params\": {\"cdCat01\": [\"C3109\"], \"statsDataId\": \"0000010103\"}, \"series_options\": [{\"id\": \"cat01\", \"code\": \"C3109\", \"name\": \"耕地放棄面積\"}], \"chart_component\": \"TimeChart\"}, {\"card_title\": \"市区町村の農業産出額\", \"card_id\": \"agricultural-output-city\", \"government_type\": \"city\", \"estat_params\": {\"cdCat01\": [\"C3101\"], \"statsDataId\": \"0000020203\"}, \"series_options\": [{\"id\": \"cat01\", \"code\": \"C3101\", \"name\": \"農業産出額\"}], \"chart_component\": \"TimeChart\"}, {\"card_title\": \"都道府県の農地転用面積\", \"card_id\": \"agricultural-land-conversion-prefecture\", \"government_type\": \"prefecture\", \"estat_params\": {\"cdCat01\": [\"C3108\"], \"statsDataId\": \"0000010103\"}, \"series_options\": [{\"id\": \"cat01\", \"code\": \"C3108\", \"name\": \"農地転用面積\"}], \"chart_component\": \"TimeChart\"}]\n"
          ]
        }
      ]
    },
    {
      "cell_type": "markdown",
      "source": [
        "## 特定の統計カード"
      ],
      "metadata": {
        "id": "EfshPcMuFCck"
      }
    },
    {
      "cell_type": "markdown",
      "source": [],
      "metadata": {
        "id": "eJGvs5iUFGN1"
      }
    },
    {
      "cell_type": "code",
      "source": [
        "def get_contentful_estat_card(cardId):\n",
        "  client = contentful.Client(CTF_SPACE_ID, CTF_ACCESS_TOKEN)\n",
        "  entries = client.entries({'content_type': 'estatCardConfig','fields.cardId': cardId})\n",
        "\n",
        "  for entry in entries:\n",
        "    res = entry.fields()\n",
        "    del res['statistics_field']\n",
        "\n",
        "    return json.dumps(res,ensure_ascii=False)"
      ],
      "metadata": {
        "id": "JXDGQWy8FG-p"
      },
      "execution_count": 131,
      "outputs": []
    },
    {
      "cell_type": "code",
      "source": [
        "cardId = 'total-population-prefecture'\n",
        "\n",
        "estat_card = get_contentful_estat_card(cardId)\n",
        "print(estat_card)"
      ],
      "metadata": {
        "colab": {
          "base_uri": "https://localhost:8080/"
        },
        "id": "3UArzdNfGxkt",
        "outputId": "77993bdc-c809-4c58-ca84-d651ddd10028"
      },
      "execution_count": 132,
      "outputs": [
        {
          "output_type": "stream",
          "name": "stdout",
          "text": [
            "{\"card_title\": \"都道府県の総人口\", \"card_id\": \"total-population-prefecture\", \"government_type\": \"prefecture\", \"estat_params\": {\"cdCat01\": [\"A1101\", \"A110101\", \"A110102\"], \"statsDataId\": \"0000010101\"}, \"chart_component\": \"TimeChart\", \"toggle_series\": [{\"code\": [\"A1101\"], \"name\": \"総数\"}, {\"code\": [\"A110101\", \"A110102\"], \"name\": \"内訳\"}]}\n"
          ]
        }
      ]
    },
    {
      "cell_type": "markdown",
      "source": [
        "## 統計項目＋統計カード"
      ],
      "metadata": {
        "id": "jX7xW-9NcH_-"
      }
    },
    {
      "cell_type": "markdown",
      "source": [
        "統計項目に含まれる統計カード情報を取得する場合"
      ],
      "metadata": {
        "id": "D19P3gPCcZ89"
      }
    },
    {
      "cell_type": "code",
      "source": [
        "def get_contentful_statistics_cards_with_menus():\n",
        "  client = contentful.Client(CTF_SPACE_ID, CTF_ACCESS_TOKEN)\n",
        "  entries = client.entries({'content_type': 'statisticsMenu'})\n",
        "\n",
        "  res = []\n",
        "  \n",
        "  for entry in entries:\n",
        "\n",
        "    # 都道府県\n",
        "    if 'cards_prefecture' in entry.fields():\n",
        "      for card in entry.fields()['cards_prefecture']:\n",
        "        dic = {}\n",
        "        dic['menu_id'] = entry.fields()['menu_id']\n",
        "        dic['menu_title'] = entry.fields()['menu_title']\n",
        "        dic['government_type'] = 'prefecture'\n",
        "        dic['card_id'] = card.fields()['card_id']\n",
        "        dic['card_title'] = card.fields()['card_title']\n",
        "        res.append(dic)\n",
        "    \n",
        "    # 市区町村\n",
        "    if 'cards_city' in entry.fields():\n",
        "      for card in entry.fields()['cards_city']:\n",
        "        dic = {}\n",
        "        dic['menu_id'] = entry.fields()['menu_id']\n",
        "        dic['menu_title'] = entry.fields()['menu_title']\n",
        "        dic['government_type'] = 'city'\n",
        "        dic['card_id'] = card.fields()['card_id']\n",
        "        dic['card_title'] = card.fields()['card_title']\n",
        "        res.append(dic)\n",
        "\n",
        "\n",
        "  return json.dumps(res,ensure_ascii=False)"
      ],
      "metadata": {
        "id": "lHcLYVTscZuv"
      },
      "execution_count": 165,
      "outputs": []
    },
    {
      "cell_type": "code",
      "source": [
        "statistics_menus = get_contentful_statistics_cards_with_menus()\n",
        "print(statistics_menus)"
      ],
      "metadata": {
        "colab": {
          "base_uri": "https://localhost:8080/"
        },
        "id": "UY0b772Qdk_k",
        "outputId": "0e6171cb-0738-4911-b8f6-31ea89681389"
      },
      "execution_count": 166,
      "outputs": [
        {
          "output_type": "stream",
          "name": "stdout",
          "text": [
            "[{\"menu_id\": \"foreigner\", \"menu_title\": \"外国人\", \"government_type\": \"prefecture\", \"card_id\": \"foreign-population-prefecture\", \"card_title\": \"都道府県の外国人人口\"}, {\"menu_id\": \"foreigner\", \"menu_title\": \"外国人\", \"government_type\": \"prefecture\", \"card_id\": \"accepting-alleged-foreigners-prefecture\", \"card_title\": \"都道府県の外国人被疑事件受理人員\"}, {\"menu_id\": \"foreigner\", \"menu_title\": \"外国人\", \"government_type\": \"prefecture\", \"card_id\": \"foreign-resident-prefecture\", \"card_title\": \"都道府県の在留外国人数\"}, {\"menu_id\": \"foreigner\", \"menu_title\": \"外国人\", \"government_type\": \"city\", \"card_id\": \" foreigner-city\", \"card_title\": \"市区町村の外国人人口\"}, {\"menu_id\": \"gross-domestic-product\", \"menu_title\": \"総生産\", \"government_type\": \"prefecture\", \"card_id\": \"industry-class-prefecture\", \"card_title\": \"都道府県の県内総生産\"}, {\"menu_id\": \"gross-domestic-product\", \"menu_title\": \"総生産\", \"government_type\": \"prefecture\", \"card_id\": \"total-capital-formation-real-prefecture\", \"card_title\": \"都道府県の県内総資本形成（実質）\"}, {\"menu_id\": \"gross-domestic-product\", \"menu_title\": \"総生産\", \"government_type\": \"prefecture\", \"card_id\": \"prefectural-income-prefecture\", \"card_title\": \"都道府県の1人当たり県民所得\"}, {\"menu_id\": \"gross-domestic-product\", \"menu_title\": \"総生産\", \"government_type\": \"city\", \"card_id\": \"taxable-income-city\", \"card_title\": \"市区町村の課税対象所得\"}, {\"menu_id\": \"staff\", \"menu_title\": \"職員\", \"government_type\": \"prefecture\", \"card_id\": \"administrative-staff-prefecture\", \"card_title\": \"都道府県の一般行政部門職員数\"}, {\"menu_id\": \"staff\", \"menu_title\": \"職員\", \"government_type\": \"prefecture\", \"card_id\": \"fire-department-staff-prefecture\", \"card_title\": \"都道府県の消防部門職員数\"}, {\"menu_id\": \"staff\", \"menu_title\": \"職員\", \"government_type\": \"prefecture\", \"card_id\": \"education-department-staff-prefecture\", \"card_title\": \"都道府県の教育部門職員数\"}, {\"menu_id\": \"staff\", \"menu_title\": \"職員\", \"government_type\": \"prefecture\", \"card_id\": \"police-department-staff-prefecture\", \"card_title\": \"都道府県の警察部門職員数\"}, {\"menu_id\": \"staff\", \"menu_title\": \"職員\", \"government_type\": \"city\", \"card_id\": \"administrative-staff-city\", \"card_title\": \"市区町村の一般行政部門職員数\"}, {\"menu_id\": \"household-budget\", \"menu_title\": \"家計\", \"government_type\": \"prefecture\", \"card_id\": \"average-annual-income-one-prefecture\", \"card_title\": \"都道府県の年間収入平均（全世帯）\"}, {\"menu_id\": \"household-budget\", \"menu_title\": \"家計\", \"government_type\": \"prefecture\", \"card_id\": \"average-annual-income-two-prefecture\", \"card_title\": \"都道府県の年間収入平均（勤労者世帯）\"}, {\"menu_id\": \"household-budget\", \"menu_title\": \"家計\", \"government_type\": \"city\", \"card_id\": \"taxable-income-city\", \"card_title\": \"市区町村の課税対象所得\"}, {\"menu_id\": \"marriage\", \"menu_title\": \"婚姻\", \"government_type\": \"prefecture\", \"card_id\": \"marriage-prefecture\", \"card_title\": \"都道府県の婚姻件数\"}, {\"menu_id\": \"marriage\", \"menu_title\": \"婚姻\", \"government_type\": \"prefecture\", \"card_id\": \"divorce-prefecture\", \"card_title\": \"都道府県の離婚件数\"}, {\"menu_id\": \"marriage\", \"menu_title\": \"婚姻\", \"government_type\": \"prefecture\", \"card_id\": \"first-marriage-age-prefecture\", \"card_title\": \"都道府県の平均初婚年齢\"}, {\"menu_id\": \"marriage\", \"menu_title\": \"婚姻\", \"government_type\": \"prefecture\", \"card_id\": \"unmarried-prefecture\", \"card_title\": \"都道府県の未婚人口\"}, {\"menu_id\": \"marriage\", \"menu_title\": \"婚姻\", \"government_type\": \"prefecture\", \"card_id\": \"separated-prefecture\", \"card_title\": \"都道府県の離別人口\"}, {\"menu_id\": \"marriage\", \"menu_title\": \"婚姻\", \"government_type\": \"prefecture\", \"card_id\": \"spouse-prefecture\", \"card_title\": \"都道府県の有配偶人口\"}, {\"menu_id\": \"birth\", \"menu_title\": \"出生\", \"government_type\": \"prefecture\", \"card_id\": \"total-fertility-rate-prefecture\", \"card_title\": \"都道府県の合計特殊出生率\"}, {\"menu_id\": \"birth\", \"menu_title\": \"出生\", \"government_type\": \"prefecture\", \"card_id\": \"birth-sex-prefecture\", \"card_title\": \"都道府県の出生数（男女別）\"}, {\"menu_id\": \"inflowoutflow\", \"menu_title\": \"流入・流出\", \"government_type\": \"prefecture\", \"card_id\": \"inflow-outside-prefecture\", \"card_title\": \"都道府県の流入人口（県外）\"}, {\"menu_id\": \"inflowoutflow\", \"menu_title\": \"流入・流出\", \"government_type\": \"prefecture\", \"card_id\": \"outflow-outside-prefecture\", \"card_title\": \"都道府県の流出人口（県外）\"}, {\"menu_id\": \"inflowoutflow\", \"menu_title\": \"流入・流出\", \"government_type\": \"prefecture\", \"card_id\": \"inflow-inside-prefecture\", \"card_title\": \"都道府県の流入人口（県内）\"}, {\"menu_id\": \"inflowoutflow\", \"menu_title\": \"流入・流出\", \"government_type\": \"prefecture\", \"card_id\": \"outflow-inside-prefecture\", \"card_title\": \"都道府県の流出人口（県内）\"}, {\"menu_id\": \"traffic-accident\", \"menu_title\": \"交通事故\", \"government_type\": \"prefecture\", \"card_id\": \"traffic-accident-prefecture\", \"card_title\": \"都道府県の交通事故発生件数\"}, {\"menu_id\": \"traffic-accident\", \"menu_title\": \"交通事故\", \"government_type\": \"prefecture\", \"card_id\": \"incident-prefecture\", \"card_title\": \"都道府県の交通事故事件件数\"}, {\"menu_id\": \"traffic-accident\", \"menu_title\": \"交通事故\", \"government_type\": \"prefecture\", \"card_id\": \"road-traffic-law-prefecture\", \"card_title\": \"都道府県の道路交通法違反検挙総件数\"}, {\"menu_id\": \"traffic-accident\", \"menu_title\": \"交通事故\", \"government_type\": \"city\", \"card_id\": \"traffic-accident-city\", \"card_title\": \"市区町村の交通事故発生件数\"}, {\"menu_id\": \"medical\", \"menu_title\": \"医療\", \"government_type\": \"prefecture\", \"card_id\": \"national-health-insurance-prefecture\", \"card_title\": \"都道府県の国民健康保険被保険者数\"}, {\"menu_id\": \"medical\", \"menu_title\": \"医療\", \"government_type\": \"prefecture\", \"card_id\": \"national-health-insurance-benefit-amount-prefecture\", \"card_title\": \"都道府県の国民健康保険給付金額\"}, {\"menu_id\": \"medical\", \"menu_title\": \"医療\", \"government_type\": \"prefecture\", \"card_id\": \"national-medical-expenses-prefecture\", \"card_title\": \"都道府県の国民医療費（総額）\"}, {\"menu_id\": \"medical\", \"menu_title\": \"医療\", \"government_type\": \"prefecture\", \"card_id\": \"welfare-facilities-elderly-prefecture\", \"card_title\": \"都道府県の老人福祉施設数\"}, {\"menu_id\": \"medical\", \"menu_title\": \"医療\", \"government_type\": \"city\", \"card_id\": \"national-health-insurance-city\", \"card_title\": \"市区町村の国民健康保険被保険者数\"}, {\"menu_id\": \"medical\", \"menu_title\": \"医療\", \"government_type\": \"city\", \"card_id\": \"national-health-insurance-benefit-amount-city\", \"card_title\": \"市区町村の国民健康保険給付金額\"}, {\"menu_id\": \"medical\", \"menu_title\": \"医療\", \"government_type\": \"city\", \"card_id\": \"welfare-facilities-elderly-city\", \"card_title\": \"市区町村の老人福祉施設数\"}, {\"menu_id\": \"primary-schools\", \"menu_title\": \"小学校\", \"government_type\": \"prefecture\", \"card_id\": \"primary-schools-prefecture\", \"card_title\": \"都道府県の小学校数\"}, {\"menu_id\": \"primary-schools\", \"menu_title\": \"小学校\", \"government_type\": \"prefecture\", \"card_id\": \"primary-school-students-prefecture\", \"card_title\": \"都道府県の小学校児童数\"}, {\"menu_id\": \"primary-schools\", \"menu_title\": \"小学校\", \"government_type\": \"prefecture\", \"card_id\": \"primary-school-teachers-prefecture\", \"card_title\": \"都道府県の小学校教員数\"}, {\"menu_id\": \"primary-schools\", \"menu_title\": \"小学校\", \"government_type\": \"city\", \"card_id\": \"primary-schools-city\", \"card_title\": \"市区町村の小学校数\"}, {\"menu_id\": \"car\", \"menu_title\": \"自動車\", \"government_type\": \"prefecture\", \"card_id\": \"motorized-bicycle-prefecture\", \"card_title\": \"都道府県の原動機付き自転車台数\"}, {\"menu_id\": \"car\", \"menu_title\": \"自動車\", \"government_type\": \"prefecture\", \"card_id\": \"drivers-license-prefecture\", \"card_title\": \"都道府県の運転免許保有者数\"}, {\"menu_id\": \"car\", \"menu_title\": \"自動車\", \"government_type\": \"prefecture\", \"card_id\": \"senior-citizens-prefecture\", \"card_title\": \"都道府県の高齢者講習受講者数\"}, {\"menu_id\": \"car\", \"menu_title\": \"自動車\", \"government_type\": \"city\", \"card_id\": \"motorized-bicycle-city\", \"card_title\": \"市区町村の原動機付き自転車台数\"}, {\"menu_id\": \"fishing\", \"menu_title\": \"漁業\", \"government_type\": \"prefecture\", \"card_id\": \"fishery-output-prefecture\", \"card_title\": \"都道府県の漁業産出額\"}, {\"menu_id\": \"fishing\", \"menu_title\": \"漁業\", \"government_type\": \"prefecture\", \"card_id\": \"agriculture-forestry-and-fisheries-employers\", \"card_title\": \"都道府県の農林漁業雇用者\"}, {\"menu_id\": \"fishing\", \"menu_title\": \"漁業\", \"government_type\": \"prefecture\", \"card_id\": \"aquaculture-yield-prefecture\", \"card_title\": \"都道府県の養殖収穫量\"}, {\"menu_id\": \"agriculture\", \"menu_title\": \"農業\", \"government_type\": \"prefecture\", \"card_id\": \"farmers-prefecture\", \"card_title\": \"都道府県の農家数\"}, {\"menu_id\": \"agriculture\", \"menu_title\": \"農業\", \"government_type\": \"prefecture\", \"card_id\": \"agricultural-output-prefecture\", \"card_title\": \"都道府県の農業産出額\"}, {\"menu_id\": \"agriculture\", \"menu_title\": \"農業\", \"government_type\": \"prefecture\", \"card_id\": \"agricultural-working-prefecture\", \"card_title\": \"都道府県の農業就業人口（販売農家）\"}, {\"menu_id\": \"agriculture\", \"menu_title\": \"農業\", \"government_type\": \"prefecture\", \"card_id\": \"agricultural-land-conversion-prefecture\", \"card_title\": \"都道府県の農地転用面積\"}, {\"menu_id\": \"agriculture\", \"menu_title\": \"農業\", \"government_type\": \"prefecture\", \"card_id\": \"agricultural-land-prefecture\", \"card_title\": \"都道府県の耕地面積\"}, {\"menu_id\": \"agriculture\", \"menu_title\": \"農業\", \"government_type\": \"prefecture\", \"card_id\": \"abandoned-cultivated-prefecture\", \"card_title\": \"都道府県の耕地放棄面積\"}, {\"menu_id\": \"agriculture\", \"menu_title\": \"農業\", \"government_type\": \"prefecture\", \"card_id\": \"agriculture-forestry-fisher-prefecture\", \"card_title\": \"都道府県の農林漁業者\"}, {\"menu_id\": \"agriculture\", \"menu_title\": \"農業\", \"government_type\": \"prefecture\", \"card_id\": \"agriculture-forestry-and-fisheries-employers\", \"card_title\": \"都道府県の農林漁業雇用者\"}, {\"menu_id\": \"agriculture\", \"menu_title\": \"農業\", \"government_type\": \"city\", \"card_id\": \"agricultural-output-city\", \"card_title\": \"市区町村の農業産出額\"}, {\"menu_id\": \"agriculture\", \"menu_title\": \"農業\", \"government_type\": \"city\", \"card_id\": \"abandoned-cultivated-city\", \"card_title\": \"市区町村の耕地放棄面積\"}, {\"menu_id\": \"forestry\", \"menu_title\": \"林業\", \"government_type\": \"prefecture\", \"card_id\": \"forest-road-extension-prefecture\", \"card_title\": \"都道府県の林道延長\"}, {\"menu_id\": \"forestry\", \"menu_title\": \"林業\", \"government_type\": \"prefecture\", \"card_id\": \"agriculture-forestry-and-fisheries-employers\", \"card_title\": \"都道府県の農林漁業雇用者\"}, {\"menu_id\": \"labor-force\", \"menu_title\": \"労働力人口\", \"government_type\": \"prefecture\", \"card_id\": \"labor-force-population-prefecture\", \"card_title\": \"都道府県の労働力人口\"}, {\"menu_id\": \"labor-force\", \"menu_title\": \"労働力人口\", \"government_type\": \"city\", \"card_id\": \"labor-force-population-city\", \"card_title\": \"市区町村の労働力人口\"}, {\"menu_id\": \"labor-force\", \"menu_title\": \"労働力人口\", \"government_type\": \"city\", \"card_id\": \"non-labor-population-city\", \"card_title\": \"市区町村の非労働力人口\"}, {\"menu_id\": \"labor-force\", \"menu_title\": \"労働力人口\", \"government_type\": \"city\", \"card_id\": \"employees-city\", \"card_title\": \"市区町村の就業者数\"}, {\"menu_id\": \"labor-force\", \"menu_title\": \"労働力人口\", \"government_type\": \"city\", \"card_id\": \"unemployed-city\", \"card_title\": \"市区町村の完全失業者数\"}, {\"menu_id\": \"area\", \"menu_title\": \"面積\", \"government_type\": \"prefecture\", \"card_id\": \"total-area-prefecture\", \"card_title\": \"都道府県の総面積\"}, {\"menu_id\": \"area\", \"menu_title\": \"面積\", \"government_type\": \"prefecture\", \"card_id\": \"habitable-area-prefecture\", \"card_title\": \"都道府県の可住地面積\"}, {\"menu_id\": \"area\", \"menu_title\": \"面積\", \"government_type\": \"prefecture\", \"card_id\": \"nature-park-area-prefecture\", \"card_title\": \"都道府県の自然公園面積\"}, {\"menu_id\": \"area\", \"menu_title\": \"面積\", \"government_type\": \"prefecture\", \"card_id\": \"natural-environment-conservation-area-prefecture\", \"card_title\": \"都道府県の自然環境保全地域面積\"}, {\"menu_id\": \"area\", \"menu_title\": \"面積\", \"government_type\": \"prefecture\", \"card_id\": \"evaluation-total-cadastral-prefecture\", \"card_title\": \"都道府県の評価総地積\"}, {\"menu_id\": \"area\", \"menu_title\": \"面積\", \"government_type\": \"city\", \"card_id\": \"total-area-city\", \"card_title\": \"市区町村の総面積\"}, {\"menu_id\": \"land\", \"menu_title\": \"土地\", \"government_type\": \"prefecture\", \"card_id\": \"builders-prefecture\", \"card_title\": \"都道府県の建設業者数\"}, {\"menu_id\": \"land\", \"menu_title\": \"土地\", \"government_type\": \"city\", \"card_id\": \"standard-price-city\", \"card_title\": \"市区町村の標準価格\"}, {\"menu_id\": \"kindergarten\", \"menu_title\": \"幼稚園\", \"government_type\": \"prefecture\", \"card_id\": \"kindergartens-prefecture\", \"card_title\": \"都道府県の幼稚園数\"}, {\"menu_id\": \"kindergarten\", \"menu_title\": \"幼稚園\", \"government_type\": \"prefecture\", \"card_id\": \"kindergarten-children-prefecture\", \"card_title\": \"都道府県の幼稚園在園者数\"}, {\"menu_id\": \"kindergarten\", \"menu_title\": \"幼稚園\", \"government_type\": \"prefecture\", \"card_id\": \"kindergarten-teachers-prefecture\", \"card_title\": \"都道府県の幼稚園教員数\"}, {\"menu_id\": \"kindergarten\", \"menu_title\": \"幼稚園\", \"government_type\": \"city\", \"card_id\": \"kindergartens-city\", \"card_title\": \"市区町村の幼稚園数\"}, {\"menu_id\": \"energy\", \"menu_title\": \"エネルギー\", \"government_type\": \"prefecture\", \"card_id\": \"power-generation-prefecture\", \"card_title\": \"都道府県の発電電力量\"}, {\"menu_id\": \"energy\", \"menu_title\": \"エネルギー\", \"government_type\": \"prefecture\", \"card_id\": \"power-demans-prefecture\", \"card_title\": \"都道府県の電力需要量\"}, {\"menu_id\": \"energy\", \"menu_title\": \"エネルギー\", \"government_type\": \"prefecture\", \"card_id\": \"gasoline-sales-volume-prefecture\", \"card_title\": \"都道府県のガソリン販売量\"}, {\"menu_id\": \"energy\", \"menu_title\": \"エネルギー\", \"government_type\": \"prefecture\", \"card_id\": \"city-gas-sales-volume-prefecture\", \"card_title\": \"都道府県の都市ガス販売量\"}, {\"menu_id\": \"death\", \"menu_title\": \"死亡\", \"government_type\": \"prefecture\", \"card_id\": \"death-sex-prefecture\", \"card_title\": \"都道府県の死亡数（男女別）\"}, {\"menu_id\": \"death\", \"menu_title\": \"死亡\", \"government_type\": \"prefecture\", \"card_id\": \"stillbirth-prefecture\", \"card_title\": \"都道府県の死産数\"}, {\"menu_id\": \"death\", \"menu_title\": \"死亡\", \"government_type\": \"prefecture\", \"card_id\": \"standardized-mortality-prefecture\", \"card_title\": \"都道府県の標準化死亡率\"}, {\"menu_id\": \"death\", \"menu_title\": \"死亡\", \"government_type\": \"prefecture\", \"card_id\": \"age-adjusted-mortality-prefecture\", \"card_title\": \"都道府県の年齢調整死亡率\"}, {\"menu_id\": \"pollution\", \"menu_title\": \"公害\", \"government_type\": \"prefecture\", \"card_id\": \"pollution-complaints-received-prefecture\", \"card_title\": \"都道府県の公害苦情受付件数\"}, {\"menu_id\": \"pollution\", \"menu_title\": \"公害\", \"government_type\": \"prefecture\", \"card_id\": \"pollution-complaints-prefecture\", \"card_title\": \"都道府県の公害苦情件数\"}, {\"menu_id\": \"pollution\", \"menu_title\": \"公害\", \"government_type\": \"prefecture\", \"card_id\": \"water-pollution-prefecture\", \"card_title\": \"都道府県の水質汚濁防止法上の特定事業所数\"}, {\"menu_id\": \"crime\", \"menu_title\": \"犯罪\", \"government_type\": \"prefecture\", \"card_id\": \"crime-prevention-volunteer-prefecture\", \"card_title\": \"都道府県の防犯ボランティア団体数\"}, {\"menu_id\": \"crime\", \"menu_title\": \"犯罪\", \"government_type\": \"prefecture\", \"card_id\": \"prostitution-prefecture\", \"card_title\": \"都道府県の売春事犯\"}, {\"menu_id\": \"crime\", \"menu_title\": \"犯罪\", \"government_type\": \"prefecture\", \"card_id\": \"special-law-prefecture\", \"card_title\": \"都道府県の特別法犯\"}, {\"menu_id\": \"crime\", \"menu_title\": \"犯罪\", \"government_type\": \"prefecture\", \"card_id\": \"administrative-cases-prefecture\", \"card_title\": \"都道府県の行政事件件数\"}, {\"menu_id\": \"crime\", \"menu_title\": \"犯罪\", \"government_type\": \"prefecture\", \"card_id\": \"civil-cases-prefecture\", \"card_title\": \"都道府県の民事事件件数\"}, {\"menu_id\": \"crime\", \"menu_title\": \"犯罪\", \"government_type\": \"prefecture\", \"card_id\": \"domestic-affairs-prefecture\", \"card_title\": \"都道府県の家事事件件数\"}, {\"menu_id\": \"finance\", \"menu_title\": \"財政\", \"government_type\": \"prefecture\", \"card_id\": \"financial-strength-index-prefecture\", \"card_title\": \"都道府県の財政力指数\"}, {\"menu_id\": \"finance\", \"menu_title\": \"財政\", \"government_type\": \"prefecture\", \"card_id\": \"future-burden-ratio-prefecture\", \"card_title\": \"都道府県の将来負担比率\"}, {\"menu_id\": \"finance\", \"menu_title\": \"財政\", \"government_type\": \"prefecture\", \"card_id\": \"current-account-ratio-prefecture\", \"card_title\": \"都道府県の経常収支比率\"}, {\"menu_id\": \"finance\", \"menu_title\": \"財政\", \"government_type\": \"prefecture\", \"card_id\": \"real-balance-ratio-prefecture\", \"card_title\": \"都道府県の実質収支比率\"}, {\"menu_id\": \"finance\", \"menu_title\": \"財政\", \"government_type\": \"prefecture\", \"card_id\": \"real-debt-service-ratio-prefecture\", \"card_title\": \"都道府県の実質公債費比率\"}, {\"menu_id\": \"finance\", \"menu_title\": \"財政\", \"government_type\": \"prefecture\", \"card_id\": \"standard-financial-demand-prefecture\", \"card_title\": \"都道府県の基準財政需要額\"}, {\"menu_id\": \"finance\", \"menu_title\": \"財政\", \"government_type\": \"prefecture\", \"card_id\": \"standard-financial-income-prefecture\", \"card_title\": \"都道府県の基準財政収入額\"}, {\"menu_id\": \"finance\", \"menu_title\": \"財政\", \"government_type\": \"city\", \"card_id\": \"financial-strength-index-city\", \"card_title\": \"市区町村の財政力指数\"}, {\"menu_id\": \"finance\", \"menu_title\": \"財政\", \"government_type\": \"city\", \"card_id\": \"real-balance-ratio-city\", \"card_title\": \"市区町村の実質収支比率\"}, {\"menu_id\": \"finance\", \"menu_title\": \"財政\", \"government_type\": \"city\", \"card_id\": \"current-account-ratio-city\", \"card_title\": \"市区町村の経常収支比率\"}, {\"menu_id\": \"disaster\", \"menu_title\": \"災害\", \"government_type\": \"prefecture\", \"card_id\": \"disaster-damage-amount-prefecture\", \"card_title\": \"都道府県の災害被害額\"}, {\"menu_id\": \"disaster\", \"menu_title\": \"災害\", \"government_type\": \"prefecture\", \"card_id\": \"flood-damage-prefecture\", \"card_title\": \"都道府県の浸水被害\"}, {\"menu_id\": \"disaster\", \"menu_title\": \"災害\", \"government_type\": \"prefecture\", \"card_id\": \"natural-disasters-prefecture\", \"card_title\": \"都道府県の自然災害による罹災\"}, {\"menu_id\": \"environment\", \"menu_title\": \"環境\", \"government_type\": \"prefecture\", \"card_id\": \"calculated-greenhouse-gas-emissions-prefecture\", \"card_title\": \"都道府県の温室効果ガス算定排出量\"}, {\"menu_id\": \"voluntary-car-insurance\", \"menu_title\": \"任意自動車保険\", \"government_type\": \"prefecture\", \"card_id\": \"voluntary-car-insurance-penetration-rate-prefecture\", \"card_title\": \"都道府県の任意自動車保険普及率\"}, {\"menu_id\": \"voluntary-car-insurance\", \"menu_title\": \"任意自動車保険\", \"government_type\": \"prefecture\", \"card_id\": \"voluntary-car-insurance-claims-paid-prefecture\", \"card_title\": \"都道府県の任意自動車保険保険金支払件数\"}, {\"menu_id\": \"voluntary-car-insurance\", \"menu_title\": \"任意自動車保険\", \"government_type\": \"prefecture\", \"card_id\": \"voluntary-car-insurance-prefecture\", \"card_title\": \"都道府県の任意自動車保険契約台数\"}, {\"menu_id\": \"fires\", \"menu_title\": \"火災\", \"government_type\": \"prefecture\", \"card_id\": \"fires-prefecture\", \"card_title\": \"都道府県の火災出火件数\"}, {\"menu_id\": \"fires\", \"menu_title\": \"火災\", \"government_type\": \"prefecture\", \"card_id\": \"fire-damage-amount-prefecture\", \"card_title\": \"都道府県の火災損害額\"}, {\"menu_id\": \"fires\", \"menu_title\": \"火災\", \"government_type\": \"prefecture\", \"card_id\": \"new-fire-insurance-prefecture\", \"card_title\": \"都道府県の火災保険新契約件数\"}, {\"menu_id\": \"fires\", \"menu_title\": \"火災\", \"government_type\": \"prefecture\", \"card_id\": \"fire-insurance-claims-paid-prefecture\", \"card_title\": \"都道府県の火災保険保険金支払件数\"}, {\"menu_id\": \"fires\", \"menu_title\": \"火災\", \"government_type\": \"prefecture\", \"card_id\": \"fire-casualties-prefecture\", \"card_title\": \"都道府県の火災死傷者数\"}, {\"menu_id\": \"fire-department\", \"menu_title\": \"消防\", \"government_type\": \"prefecture\", \"card_id\": \"fire-department-prefecture\", \"card_title\": \"都道府県の消防本部・署数\"}, {\"menu_id\": \"fire-department\", \"menu_title\": \"消防\", \"government_type\": \"prefecture\", \"card_id\": \"fire-brigade-prefecture\", \"card_title\": \"都道府県の消防団数\"}, {\"menu_id\": \"fire-department\", \"menu_title\": \"消防\", \"government_type\": \"prefecture\", \"card_id\": \"fire-department-dispatch-prefecture\", \"card_title\": \"都道府県の消防機関出動回数\"}, {\"menu_id\": \"fire-department\", \"menu_title\": \"消防\", \"government_type\": \"prefecture\", \"card_id\": \"emergency-dispatches-prefecture\", \"card_title\": \"都道府県の救急出動件数\"}, {\"menu_id\": \"parliament\", \"menu_title\": \"議会\", \"government_type\": \"prefecture\", \"card_id\": \"members\", \"card_title\": \"都道府県の県議会議員数\"}, {\"menu_id\": \"hotel\", \"menu_title\": \"宿泊施設\", \"government_type\": \"prefecture\", \"card_id\": \"ryokan-prefecture\", \"card_title\": \"都道府県の旅館営業施設数\"}, {\"menu_id\": \"garbage\", \"menu_title\": \"ごみ\", \"government_type\": \"prefecture\", \"card_id\": \"garbage-discharged-prefecture\", \"card_title\": \"都道府県のごみ総排出量\"}, {\"menu_id\": \"garbage\", \"menu_title\": \"ごみ\", \"government_type\": \"city\", \"card_id\": \"garbage-discharged-city\", \"card_title\": \"市区町村のごみ総排出量\"}, {\"menu_id\": \"construction\", \"menu_title\": \"建設\", \"government_type\": \"prefecture\", \"card_id\": \"builders-prefecture\", \"card_title\": \"都道府県の建設業者数\"}, {\"menu_id\": \"sales\", \"menu_title\": \"売上\", \"government_type\": \"prefecture\", \"card_id\": \"value-added-amount-prefecture\", \"card_title\": \"都道府県の付加価値額（民営）\"}, {\"menu_id\": \"establishments\", \"menu_title\": \"事業所等\", \"government_type\": \"prefecture\", \"card_id\": \"establishments-prefecture\", \"card_title\": \"都道府県の事業所数\"}, {\"menu_id\": \"establishments\", \"menu_title\": \"事業所等\", \"government_type\": \"prefecture\", \"card_id\": \"employees-prefecture\", \"card_title\": \"都道府県の従業者数\"}, {\"menu_id\": \"commercial\", \"menu_title\": \"商業\", \"government_type\": \"prefecture\", \"card_id\": \"commercial-establishments-prefecture\", \"card_title\": \"都道府県の商業事業所数\"}, {\"menu_id\": \"commercial\", \"menu_title\": \"商業\", \"government_type\": \"city\", \"card_id\": \"commercial-establishments-city\", \"card_title\": \"市区町村の商業事業所数\"}, {\"menu_id\": \"industrial-water\", \"menu_title\": \"工業用水\", \"government_type\": \"prefecture\", \"card_id\": \"industrial-water-volume-prefecture\", \"card_title\": \"都道府県の工業用水量\"}, {\"menu_id\": \"manufacturing-industry\", \"menu_title\": \"製造業\", \"government_type\": \"prefecture\", \"card_id\": \"product-shipment-value-prefecture\", \"card_title\": \"都道府県の製造品出荷額\"}, {\"menu_id\": \"manufacturing-industry\", \"menu_title\": \"製造業\", \"government_type\": \"city\", \"card_id\": \"product-shipment-value-city\", \"card_title\": \"市区町村の製造品出荷額\"}, {\"menu_id\": \"climate\", \"menu_title\": \"気候\", \"government_type\": \"prefecture\", \"card_id\": \"sunny-days-prefecture\", \"card_title\": \"都道府県の快晴日数\"}, {\"menu_id\": \"climate\", \"menu_title\": \"気候\", \"government_type\": \"prefecture\", \"card_id\": \"cloudy-days-prefecture\", \"card_title\": \"都道府県の曇天日数\"}, {\"menu_id\": \"park\", \"menu_title\": \"自然・公園\", \"government_type\": \"prefecture\", \"card_id\": \"nature-park-area-prefecture\", \"card_title\": \"都道府県の自然公園面積\"}, {\"menu_id\": \"park\", \"menu_title\": \"自然・公園\", \"government_type\": \"prefecture\", \"card_id\": \"natural-environment-conservation-area-prefecture\", \"card_title\": \"都道府県の自然環境保全地域面積\"}, {\"menu_id\": \"household\", \"menu_title\": \"世帯\", \"government_type\": \"prefecture\", \"card_id\": \"household-prefecture\", \"card_title\": \"都道府県の一般世帯数\"}, {\"menu_id\": \"household\", \"menu_title\": \"世帯\", \"government_type\": \"prefecture\", \"card_id\": \"single-mother-household-prefecture\", \"card_title\": \"都道府県の母子世帯数\"}, {\"menu_id\": \"moveinmoveout\", \"menu_title\": \"転入・転出\", \"government_type\": \"prefecture\", \"card_id\": \"movein-prefecture\", \"card_title\": \"都道府県の転入者数（日本人）\"}, {\"menu_id\": \"moveinmoveout\", \"menu_title\": \"転入・転出\", \"government_type\": \"prefecture\", \"card_id\": \"moveout-prefecture\", \"card_title\": \"都道府県の転出者数（日本人）\"}, {\"menu_id\": \"population\", \"menu_title\": \"人口\", \"government_type\": \"prefecture\", \"card_id\": \"total-population-prefecture\", \"card_title\": \"都道府県の総人口\"}, {\"menu_id\": \"population\", \"menu_title\": \"人口\", \"government_type\": \"city\", \"card_id\": \"total-population-city\", \"card_title\": \"市区町村の総人口\"}]\n"
          ]
        }
      ]
    },
    {
      "cell_type": "markdown",
      "source": [
        "# 統計カードのGBQを作成"
      ],
      "metadata": {
        "id": "EwVZaN8liQ9p"
      }
    },
    {
      "cell_type": "markdown",
      "source": [
        "## 環境変数"
      ],
      "metadata": {
        "id": "hkU51PdBjYIW"
      }
    },
    {
      "cell_type": "code",
      "source": [
        "ESTAT_APPID = '724e5b90772a3e9289f41a253e4e7e32438f4fff'"
      ],
      "metadata": {
        "id": "IYgWouCTjWZY"
      },
      "execution_count": 179,
      "outputs": []
    },
    {
      "cell_type": "markdown",
      "source": [
        "## 必要な関数"
      ],
      "metadata": {
        "id": "_MeeKzvtk6d6"
      }
    },
    {
      "cell_type": "code",
      "source": [
        "import urllib.parse\n",
        "import urllib.request\n",
        "\n",
        "def get_estat_meta(statsDataId):\n",
        "  p={}\n",
        "  p['statsDataId'] = statsDataId\n",
        "  p['appId'] = ESTAT_APPID\n",
        "\n",
        "  url = 'http://api.e-stat.go.jp/rest/3.0/app/json/getMetaInfo?'\n",
        "  url += urllib.parse.urlencode(p)\n",
        "\n",
        "  with urllib.request.urlopen(url) as response:\n",
        "    return json.loads(response.read().decode('utf-8'))"
      ],
      "metadata": {
        "id": "ubYALReWj-yc"
      },
      "execution_count": 171,
      "outputs": []
    },
    {
      "cell_type": "code",
      "source": [
        "def get_estat_area_codes(statsDataId):\n",
        "  # estat-APIのメタ情報を取得\n",
        "  meta= get_estat_meta(statsDataId)\n",
        "\n",
        "  # CLASS_OBJ\n",
        "  CLASS_OBJ = meta['GET_META_INFO']['METADATA_INF']['CLASS_INF']['CLASS_OBJ']\n",
        "\n",
        "  # 地域一覧\n",
        "  areas = next((d for d in CLASS_OBJ if d['@id'] == 'area'), None)['CLASS']\n",
        "\n",
        "  # 地域コード一覧\n",
        "  area_codes = [d.get('@code') for d in areas]\n",
        "\n",
        "  # 全国'00000'は削除\n",
        "  if '00000' in area_codes:\n",
        "    area_codes.remove('00000')\n",
        "\n",
        "  return area_codes"
      ],
      "metadata": {
        "id": "7E6fPzB9ks8t"
      },
      "execution_count": 217,
      "outputs": []
    },
    {
      "cell_type": "code",
      "source": [
        "def get_estat_response(params):\n",
        "  p = params.copy()\n",
        "\n",
        "  # appId\n",
        "  p['appId'] = ESTAT_APPID\n",
        "  \n",
        "  # url生成\n",
        "  url = 'http://api.e-stat.go.jp/rest/2.1/app/json/getStatsData?'\n",
        "  url += urllib.parse.urlencode(p)\n",
        "\n",
        "  with urllib.request.urlopen(url) as response:\n",
        "    return json.loads(response.read().decode('utf-8'))"
      ],
      "metadata": {
        "id": "6iDiTv3aln2B"
      },
      "execution_count": 181,
      "outputs": []
    },
    {
      "cell_type": "code",
      "source": [
        "def conv_estat_response_to_dataframe(response):\n",
        "  # CLASS_INF\n",
        "  CLASS_OBJ = response['GET_STATS_DATA']['STATISTICAL_DATA']['CLASS_INF']['CLASS_OBJ']\n",
        "\n",
        "  # TABLE_INF\n",
        "  TABLE_INF = response['GET_STATS_DATA']['STATISTICAL_DATA']['TABLE_INF']\n",
        "\n",
        "  # VALUE\n",
        "  VALUE = response['GET_STATS_DATA']['STATISTICAL_DATA']['DATA_INF']['VALUE']\n",
        "\n",
        "  # VALUEをDataFrameに変換\n",
        "  df_res = pd.json_normalize(VALUE)\n",
        "\n",
        "  # CLASS_OBJのDataFrameを結合\n",
        "  for d in CLASS_OBJ :\n",
        "    # DataFrameに変換 '@code','@name'だけ抽出\n",
        "    df_class = pd.json_normalize(d['CLASS']) \n",
        "    df_class = df_class.copy()[['@code','@name']]\n",
        "\n",
        "    # @codeをキー名に変更 @nameをキー名＋'_name'に変更\n",
        "    key_name = '@{}'.format(d['@id'])\n",
        "    df_class = df_class.rename(columns={'@code':key_name,'@name': key_name+'_name'})\n",
        "\n",
        "    # DataFrameを結合\n",
        "    df_res = pd.merge(df_res, df_class, on=key_name, how='outer')\n",
        "\n",
        "  # 統計情報を追加\n",
        "  df_res['statsDataId'] = TABLE_INF['@id']\n",
        "  df_res['statsDataName'] = TABLE_INF['STAT_NAME']['$']\n",
        "  \n",
        "  return df_res"
      ],
      "metadata": {
        "id": "-dg3AHBSl2sM"
      },
      "execution_count": 182,
      "outputs": []
    },
    {
      "cell_type": "code",
      "source": [
        "def  format_estat_dataframe(df_arg):\n",
        "  # 必要な列だけ抽出\n",
        "  df_res =  df_arg[['statsDataId','statsDataName','@cat01','@cat01_name','@time','@time_name','@area','@area_name','$','@unit']]\n",
        "\n",
        "  # 列名の変更\n",
        "  columns = {'@cat01':'categoryCode','@cat01_name':'categoryName','@time':'timeCode','@time_name':'timeName','@area':'areaCode','@area_name':'areaName','$':'value','@unit':'unit'}\n",
        "  df_res = df_res.rename(columns=columns)\n",
        "\n",
        "  # 欠損データ削除\n",
        "  df_res = df_res.dropna()\n",
        "\n",
        "  # '-'を'0'に置換\n",
        "  df_res = df.replace('-', '0')\n",
        "\n",
        "  # categoryNameから不要な情報（categoryCode）を削除\n",
        "  df_res['categoryName'] = df_res.apply(lambda x: x['categoryName'].replace(x['categoryCode']+'_', ''), 1)\n",
        "\n",
        "  # timeCodeを文字列4桁に置換\n",
        "  df_res['timeCode'] = df_res.apply(lambda x: x['timeCode'][:4], 1)\n",
        "\n",
        "  return df_res"
      ],
      "metadata": {
        "id": "Wy6CKbz1l_bT"
      },
      "execution_count": 220,
      "outputs": []
    },
    {
      "cell_type": "code",
      "source": [
        "def format_estat_dataframe_withrank(df_arg):\n",
        "\n",
        "  # 年度リストを作成\n",
        "  times = df_arg['timeCode'].tolist()\n",
        "  times = list(set(times))\n",
        "\n",
        "  # 返却するDataFrameの定義\n",
        "  df_res = pd.DataFrame(index=[], columns=[])\n",
        "\n",
        "  # 年度毎に順位を付与\n",
        "  for time in times:\n",
        "\n",
        "    # 単年度のdataを抽出\n",
        "    df_time = df_arg.copy()[df_arg['timeCode'] == time]\n",
        "\n",
        "    # valueを数値に変換して、'rank'を付与\n",
        "    df_time = df_time.astype({'value': float})\n",
        "    df_time['rank'] = df_time.rank(ascending=False)['value'].astype(int).astype(str)\n",
        "\n",
        "    # 結合\n",
        "    df_res = pd.concat([df_res, df_time])\n",
        "    df_res = df_res.astype({'value': str})\n",
        "\n",
        "  return df_res"
      ],
      "metadata": {
        "id": "oascdHDPmF_b"
      },
      "execution_count": 184,
      "outputs": []
    },
    {
      "cell_type": "markdown",
      "source": [
        "## 地域を指定して実行"
      ],
      "metadata": {
        "id": "DaJMph9OibTe"
      }
    },
    {
      "cell_type": "code",
      "source": [
        "params = {}\n",
        "\n",
        "params['statsDataId'] = '0000010101'\n",
        "params['cdCat01'] = 'A1101'\n",
        "params['cdArea'] = '28000'\n",
        "print(params)"
      ],
      "metadata": {
        "colab": {
          "base_uri": "https://localhost:8080/"
        },
        "id": "hUIvXSZziyzE",
        "outputId": "be949bff-237d-4504-8a19-e4978999c2e2"
      },
      "execution_count": 187,
      "outputs": [
        {
          "output_type": "stream",
          "name": "stdout",
          "text": [
            "{'statsDataId': '0000010101', 'cdCat01': 'A1101', 'cdArea': '28000'}\n"
          ]
        }
      ]
    },
    {
      "cell_type": "code",
      "source": [
        "def get_estat_dataframe(params):\n",
        "  # estat-APIのレスポンス取得\n",
        "  res = get_estat_response(params)\n",
        "\n",
        "  # レスポンスをDataFrameに変換\n",
        "  df = conv_estat_response_to_dataframe(res)\n",
        "\n",
        "  # DataFrameを整形\n",
        "  df = format_estat_dataframe(df)\n",
        "\n",
        "  # 順位を付与\n",
        "  df = format_estat_dataframe_withrank(df)\n",
        "\n",
        "  return df"
      ],
      "metadata": {
        "id": "_PD1Evf8mKYJ"
      },
      "execution_count": 197,
      "outputs": []
    },
    {
      "cell_type": "code",
      "source": [
        "df = get_estat_dataframe(params)\n",
        "df"
      ],
      "metadata": {
        "id": "3hbUjfjZkfNL"
      },
      "execution_count": null,
      "outputs": []
    },
    {
      "cell_type": "markdown",
      "source": [
        "## 都道府県データ"
      ],
      "metadata": {
        "id": "HSwh-WBWnHgY"
      }
    },
    {
      "cell_type": "markdown",
      "source": [
        "GCSをマウントする"
      ],
      "metadata": {
        "id": "f3c3P6SU_P5Q"
      }
    },
    {
      "cell_type": "code",
      "source": [
        "from google.colab import auth\n",
        "auth.authenticate_user()"
      ],
      "metadata": {
        "id": "ev7c3aYx_B8l"
      },
      "execution_count": 222,
      "outputs": []
    },
    {
      "cell_type": "code",
      "source": [
        "!echo \"deb http://packages.cloud.google.com/apt gcsfuse-`lsb_release -c -s` main\" | sudo tee /etc/apt/sources.list.d/gcsfuse.list\n",
        "!curl https://packages.cloud.google.com/apt/doc/apt-key.gpg | sudo apt-key add -\n",
        "!apt-get -y -q update\n",
        "!apt-get -y -q install gcsfuse"
      ],
      "metadata": {
        "id": "d25WfD-5_KIu"
      },
      "execution_count": null,
      "outputs": []
    },
    {
      "cell_type": "code",
      "source": [
        "! mkdir -p statistics-hyogo\n",
        "! gcsfuse --implicit-dirs --limit-bytes-per-sec -1 --limit-ops-per-sec -1 statistics-hyogo statistics-hyogo"
      ],
      "metadata": {
        "id": "jH0AcPoU_WDE"
      },
      "execution_count": null,
      "outputs": []
    },
    {
      "cell_type": "markdown",
      "source": [
        "都道府県コードを取得"
      ],
      "metadata": {
        "id": "3STnxk9v_YLk"
      }
    },
    {
      "cell_type": "code",
      "source": [
        "def get_pref_codes():\n",
        "  c = 'statistics-hyogo/preflist.json'\n",
        "  with open(c) as j:\n",
        "    prefList = json.load(j)\n",
        "    pref_codes = [d.get('prefCode') for d in prefList['result']]\n",
        "\n",
        "  return [f'{n:02}'+'000' for n in pref_codes]\n",
        "\n",
        "pref_codes = get_pref_codes()"
      ],
      "metadata": {
        "id": "4zBeQyts_hyA"
      },
      "execution_count": 232,
      "outputs": []
    },
    {
      "cell_type": "markdown",
      "source": [
        "cdAreaに都道府県コードリストをセットして実行"
      ],
      "metadata": {
        "id": "HlEo4fQfnOGw"
      }
    },
    {
      "cell_type": "code",
      "source": [
        "params = {}\n",
        "\n",
        "params['statsDataId'] = '0000010101'\n",
        "params['cdCat01'] = 'A1101'\n",
        "params['cdArea']=\",\".join(pref_codes)\n",
        "print(params)"
      ],
      "metadata": {
        "colab": {
          "base_uri": "https://localhost:8080/"
        },
        "id": "LQANg9IKndTH",
        "outputId": "47ef3a65-e9b5-4058-b113-4ae910ea8788"
      },
      "execution_count": 241,
      "outputs": [
        {
          "output_type": "stream",
          "name": "stdout",
          "text": [
            "{'statsDataId': '0000010101', 'cdCat01': 'A1101', 'cdArea': '01000,02000,03000,04000,05000,06000,07000,08000,09000,10000,11000,12000,13000,14000,15000,16000,17000,18000,19000,20000,21000,22000,23000,24000,25000,26000,27000,28000,29000,30000,31000,32000,33000,34000,35000,36000,37000,38000,39000,40000,41000,42000,43000,44000,45000,46000,47000'}\n"
          ]
        }
      ]
    },
    {
      "cell_type": "code",
      "source": [
        "def get_estat_dataframe(params):\n",
        "  # estat-APIのレスポンス取得\n",
        "  res = get_estat_response(params)\n",
        "\n",
        "  # レスポンスをDataFrameに変換\n",
        "  df = conv_estat_response_to_dataframe(res)\n",
        "\n",
        "  # DataFrameを整形\n",
        "  df = format_estat_dataframe(df)\n",
        "\n",
        "  # 順位を付与\n",
        "  df = format_estat_dataframe_withrank(df)\n",
        "\n",
        "  return df"
      ],
      "metadata": {
        "id": "bSWkZJhXjMjH"
      },
      "execution_count": 242,
      "outputs": []
    },
    {
      "cell_type": "code",
      "source": [
        "df = get_estat_dataframe(params)\n",
        "df"
      ],
      "metadata": {
        "colab": {
          "base_uri": "https://localhost:8080/",
          "height": 423
        },
        "id": "VmxjetdBnmTP",
        "outputId": "7c714437-89ab-47d8-cf9d-79e7ccb3f718"
      },
      "execution_count": 244,
      "outputs": [
        {
          "output_type": "execute_result",
          "data": {
            "text/plain": [
              "   statsDataId statsDataName categoryCode categoryName timeCode timeName  \\\n",
              "38  0000010101     社会・人口統計体系        A1101          総人口     2013   2013年度   \n",
              "38  0000010101     社会・人口統計体系        A1101          総人口     2013   2013年度   \n",
              "38  0000010101     社会・人口統計体系        A1101          総人口     2013   2013年度   \n",
              "38  0000010101     社会・人口統計体系        A1101          総人口     2013   2013年度   \n",
              "38  0000010101     社会・人口統計体系        A1101          総人口     2013   2013年度   \n",
              "..         ...           ...          ...          ...      ...      ...   \n",
              "36  0000010101     社会・人口統計体系        A1101          総人口     2011   2011年度   \n",
              "36  0000010101     社会・人口統計体系        A1101          総人口     2011   2011年度   \n",
              "36  0000010101     社会・人口統計体系        A1101          総人口     2011   2011年度   \n",
              "36  0000010101     社会・人口統計体系        A1101          総人口     2011   2011年度   \n",
              "36  0000010101     社会・人口統計体系        A1101          総人口     2011   2011年度   \n",
              "\n",
              "   areaCode areaName      value unit   rank  \n",
              "38    01000      北海道  5438000.0    人  14378  \n",
              "38    02000      青森県  1337000.0    人  58469  \n",
              "38    03000      岩手県  1299000.0    人  60386  \n",
              "38    04000      宮城県  2333000.0    人  27797  \n",
              "38    05000      秋田県  1050000.0    人  71888  \n",
              "..      ...      ...        ...  ...    ...  \n",
              "36    43000      熊本県  1813000.0    人  43133  \n",
              "36    44000      大分県  1192000.0    人  62303  \n",
              "36    45000      宮崎県  1130000.0    人  68054  \n",
              "36    46000     鹿児島県  1697000.0    人  45050  \n",
              "36    47000      沖縄県  1402000.0    人  54635  \n",
              "\n",
              "[4054455 rows x 11 columns]"
            ],
            "text/html": [
              "\n",
              "  <div id=\"df-87d78e0a-0e4a-4807-8498-bcd44c03b7d6\">\n",
              "    <div class=\"colab-df-container\">\n",
              "      <div>\n",
              "<style scoped>\n",
              "    .dataframe tbody tr th:only-of-type {\n",
              "        vertical-align: middle;\n",
              "    }\n",
              "\n",
              "    .dataframe tbody tr th {\n",
              "        vertical-align: top;\n",
              "    }\n",
              "\n",
              "    .dataframe thead th {\n",
              "        text-align: right;\n",
              "    }\n",
              "</style>\n",
              "<table border=\"1\" class=\"dataframe\">\n",
              "  <thead>\n",
              "    <tr style=\"text-align: right;\">\n",
              "      <th></th>\n",
              "      <th>statsDataId</th>\n",
              "      <th>statsDataName</th>\n",
              "      <th>categoryCode</th>\n",
              "      <th>categoryName</th>\n",
              "      <th>timeCode</th>\n",
              "      <th>timeName</th>\n",
              "      <th>areaCode</th>\n",
              "      <th>areaName</th>\n",
              "      <th>value</th>\n",
              "      <th>unit</th>\n",
              "      <th>rank</th>\n",
              "    </tr>\n",
              "  </thead>\n",
              "  <tbody>\n",
              "    <tr>\n",
              "      <th>38</th>\n",
              "      <td>0000010101</td>\n",
              "      <td>社会・人口統計体系</td>\n",
              "      <td>A1101</td>\n",
              "      <td>総人口</td>\n",
              "      <td>2013</td>\n",
              "      <td>2013年度</td>\n",
              "      <td>01000</td>\n",
              "      <td>北海道</td>\n",
              "      <td>5438000.0</td>\n",
              "      <td>人</td>\n",
              "      <td>14378</td>\n",
              "    </tr>\n",
              "    <tr>\n",
              "      <th>38</th>\n",
              "      <td>0000010101</td>\n",
              "      <td>社会・人口統計体系</td>\n",
              "      <td>A1101</td>\n",
              "      <td>総人口</td>\n",
              "      <td>2013</td>\n",
              "      <td>2013年度</td>\n",
              "      <td>02000</td>\n",
              "      <td>青森県</td>\n",
              "      <td>1337000.0</td>\n",
              "      <td>人</td>\n",
              "      <td>58469</td>\n",
              "    </tr>\n",
              "    <tr>\n",
              "      <th>38</th>\n",
              "      <td>0000010101</td>\n",
              "      <td>社会・人口統計体系</td>\n",
              "      <td>A1101</td>\n",
              "      <td>総人口</td>\n",
              "      <td>2013</td>\n",
              "      <td>2013年度</td>\n",
              "      <td>03000</td>\n",
              "      <td>岩手県</td>\n",
              "      <td>1299000.0</td>\n",
              "      <td>人</td>\n",
              "      <td>60386</td>\n",
              "    </tr>\n",
              "    <tr>\n",
              "      <th>38</th>\n",
              "      <td>0000010101</td>\n",
              "      <td>社会・人口統計体系</td>\n",
              "      <td>A1101</td>\n",
              "      <td>総人口</td>\n",
              "      <td>2013</td>\n",
              "      <td>2013年度</td>\n",
              "      <td>04000</td>\n",
              "      <td>宮城県</td>\n",
              "      <td>2333000.0</td>\n",
              "      <td>人</td>\n",
              "      <td>27797</td>\n",
              "    </tr>\n",
              "    <tr>\n",
              "      <th>38</th>\n",
              "      <td>0000010101</td>\n",
              "      <td>社会・人口統計体系</td>\n",
              "      <td>A1101</td>\n",
              "      <td>総人口</td>\n",
              "      <td>2013</td>\n",
              "      <td>2013年度</td>\n",
              "      <td>05000</td>\n",
              "      <td>秋田県</td>\n",
              "      <td>1050000.0</td>\n",
              "      <td>人</td>\n",
              "      <td>71888</td>\n",
              "    </tr>\n",
              "    <tr>\n",
              "      <th>...</th>\n",
              "      <td>...</td>\n",
              "      <td>...</td>\n",
              "      <td>...</td>\n",
              "      <td>...</td>\n",
              "      <td>...</td>\n",
              "      <td>...</td>\n",
              "      <td>...</td>\n",
              "      <td>...</td>\n",
              "      <td>...</td>\n",
              "      <td>...</td>\n",
              "      <td>...</td>\n",
              "    </tr>\n",
              "    <tr>\n",
              "      <th>36</th>\n",
              "      <td>0000010101</td>\n",
              "      <td>社会・人口統計体系</td>\n",
              "      <td>A1101</td>\n",
              "      <td>総人口</td>\n",
              "      <td>2011</td>\n",
              "      <td>2011年度</td>\n",
              "      <td>43000</td>\n",
              "      <td>熊本県</td>\n",
              "      <td>1813000.0</td>\n",
              "      <td>人</td>\n",
              "      <td>43133</td>\n",
              "    </tr>\n",
              "    <tr>\n",
              "      <th>36</th>\n",
              "      <td>0000010101</td>\n",
              "      <td>社会・人口統計体系</td>\n",
              "      <td>A1101</td>\n",
              "      <td>総人口</td>\n",
              "      <td>2011</td>\n",
              "      <td>2011年度</td>\n",
              "      <td>44000</td>\n",
              "      <td>大分県</td>\n",
              "      <td>1192000.0</td>\n",
              "      <td>人</td>\n",
              "      <td>62303</td>\n",
              "    </tr>\n",
              "    <tr>\n",
              "      <th>36</th>\n",
              "      <td>0000010101</td>\n",
              "      <td>社会・人口統計体系</td>\n",
              "      <td>A1101</td>\n",
              "      <td>総人口</td>\n",
              "      <td>2011</td>\n",
              "      <td>2011年度</td>\n",
              "      <td>45000</td>\n",
              "      <td>宮崎県</td>\n",
              "      <td>1130000.0</td>\n",
              "      <td>人</td>\n",
              "      <td>68054</td>\n",
              "    </tr>\n",
              "    <tr>\n",
              "      <th>36</th>\n",
              "      <td>0000010101</td>\n",
              "      <td>社会・人口統計体系</td>\n",
              "      <td>A1101</td>\n",
              "      <td>総人口</td>\n",
              "      <td>2011</td>\n",
              "      <td>2011年度</td>\n",
              "      <td>46000</td>\n",
              "      <td>鹿児島県</td>\n",
              "      <td>1697000.0</td>\n",
              "      <td>人</td>\n",
              "      <td>45050</td>\n",
              "    </tr>\n",
              "    <tr>\n",
              "      <th>36</th>\n",
              "      <td>0000010101</td>\n",
              "      <td>社会・人口統計体系</td>\n",
              "      <td>A1101</td>\n",
              "      <td>総人口</td>\n",
              "      <td>2011</td>\n",
              "      <td>2011年度</td>\n",
              "      <td>47000</td>\n",
              "      <td>沖縄県</td>\n",
              "      <td>1402000.0</td>\n",
              "      <td>人</td>\n",
              "      <td>54635</td>\n",
              "    </tr>\n",
              "  </tbody>\n",
              "</table>\n",
              "<p>4054455 rows × 11 columns</p>\n",
              "</div>\n",
              "      <button class=\"colab-df-convert\" onclick=\"convertToInteractive('df-87d78e0a-0e4a-4807-8498-bcd44c03b7d6')\"\n",
              "              title=\"Convert this dataframe to an interactive table.\"\n",
              "              style=\"display:none;\">\n",
              "        \n",
              "  <svg xmlns=\"http://www.w3.org/2000/svg\" height=\"24px\"viewBox=\"0 0 24 24\"\n",
              "       width=\"24px\">\n",
              "    <path d=\"M0 0h24v24H0V0z\" fill=\"none\"/>\n",
              "    <path d=\"M18.56 5.44l.94 2.06.94-2.06 2.06-.94-2.06-.94-.94-2.06-.94 2.06-2.06.94zm-11 1L8.5 8.5l.94-2.06 2.06-.94-2.06-.94L8.5 2.5l-.94 2.06-2.06.94zm10 10l.94 2.06.94-2.06 2.06-.94-2.06-.94-.94-2.06-.94 2.06-2.06.94z\"/><path d=\"M17.41 7.96l-1.37-1.37c-.4-.4-.92-.59-1.43-.59-.52 0-1.04.2-1.43.59L10.3 9.45l-7.72 7.72c-.78.78-.78 2.05 0 2.83L4 21.41c.39.39.9.59 1.41.59.51 0 1.02-.2 1.41-.59l7.78-7.78 2.81-2.81c.8-.78.8-2.07 0-2.86zM5.41 20L4 18.59l7.72-7.72 1.47 1.35L5.41 20z\"/>\n",
              "  </svg>\n",
              "      </button>\n",
              "      \n",
              "  <style>\n",
              "    .colab-df-container {\n",
              "      display:flex;\n",
              "      flex-wrap:wrap;\n",
              "      gap: 12px;\n",
              "    }\n",
              "\n",
              "    .colab-df-convert {\n",
              "      background-color: #E8F0FE;\n",
              "      border: none;\n",
              "      border-radius: 50%;\n",
              "      cursor: pointer;\n",
              "      display: none;\n",
              "      fill: #1967D2;\n",
              "      height: 32px;\n",
              "      padding: 0 0 0 0;\n",
              "      width: 32px;\n",
              "    }\n",
              "\n",
              "    .colab-df-convert:hover {\n",
              "      background-color: #E2EBFA;\n",
              "      box-shadow: 0px 1px 2px rgba(60, 64, 67, 0.3), 0px 1px 3px 1px rgba(60, 64, 67, 0.15);\n",
              "      fill: #174EA6;\n",
              "    }\n",
              "\n",
              "    [theme=dark] .colab-df-convert {\n",
              "      background-color: #3B4455;\n",
              "      fill: #D2E3FC;\n",
              "    }\n",
              "\n",
              "    [theme=dark] .colab-df-convert:hover {\n",
              "      background-color: #434B5C;\n",
              "      box-shadow: 0px 1px 3px 1px rgba(0, 0, 0, 0.15);\n",
              "      filter: drop-shadow(0px 1px 2px rgba(0, 0, 0, 0.3));\n",
              "      fill: #FFFFFF;\n",
              "    }\n",
              "  </style>\n",
              "\n",
              "      <script>\n",
              "        const buttonEl =\n",
              "          document.querySelector('#df-87d78e0a-0e4a-4807-8498-bcd44c03b7d6 button.colab-df-convert');\n",
              "        buttonEl.style.display =\n",
              "          google.colab.kernel.accessAllowed ? 'block' : 'none';\n",
              "\n",
              "        async function convertToInteractive(key) {\n",
              "          const element = document.querySelector('#df-87d78e0a-0e4a-4807-8498-bcd44c03b7d6');\n",
              "          const dataTable =\n",
              "            await google.colab.kernel.invokeFunction('convertToInteractive',\n",
              "                                                     [key], {});\n",
              "          if (!dataTable) return;\n",
              "\n",
              "          const docLinkHtml = 'Like what you see? Visit the ' +\n",
              "            '<a target=\"_blank\" href=https://colab.research.google.com/notebooks/data_table.ipynb>data table notebook</a>'\n",
              "            + ' to learn more about interactive tables.';\n",
              "          element.innerHTML = '';\n",
              "          dataTable['output_type'] = 'display_data';\n",
              "          await google.colab.output.renderOutput(dataTable, element);\n",
              "          const docLink = document.createElement('div');\n",
              "          docLink.innerHTML = docLinkHtml;\n",
              "          element.appendChild(docLink);\n",
              "        }\n",
              "      </script>\n",
              "    </div>\n",
              "  </div>\n",
              "  "
            ]
          },
          "metadata": {},
          "execution_count": 244
        }
      ]
    }
  ]
}